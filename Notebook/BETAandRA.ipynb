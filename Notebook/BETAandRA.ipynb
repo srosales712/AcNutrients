{
 "cells": [
  {
   "cell_type": "code",
   "execution_count": 2,
   "id": "e8f947d8",
   "metadata": {
    "button": false,
    "new_sheet": false,
    "run_control": {
     "read_only": false
    }
   },
   "outputs": [
    {
     "data": {
      "text/plain": [
       "[1] ‘1.34.0’"
      ]
     },
     "metadata": {},
     "output_type": "display_data"
    },
    {
     "data": {
      "text/plain": [
       "[1] ‘5.4.1’"
      ]
     },
     "metadata": {},
     "output_type": "display_data"
    },
    {
     "data": {
      "text/plain": [
       "[1] ‘2.5.7’"
      ]
     },
     "metadata": {},
     "output_type": "display_data"
    },
    {
     "data": {
      "text/plain": [
       "[1] ‘1.0.6’"
      ]
     },
     "metadata": {},
     "output_type": "display_data"
    },
    {
     "data": {
      "text/plain": [
       "[1] ‘1.12.0’"
      ]
     },
     "metadata": {},
     "output_type": "display_data"
    },
    {
     "data": {
      "text/plain": [
       "[1] ‘0.0.1’"
      ]
     },
     "metadata": {},
     "output_type": "display_data"
    }
   ],
   "source": [
    "library(\"phyloseq\"); packageVersion(\"phyloseq\")\n",
    "library(\"ape\"); packageVersion(\"ape\")\n",
    "library(\"vegan\"); packageVersion(\"vegan\")\n",
    "library(\"dplyr\"); packageVersion(\"dplyr\")\n",
    "library(\"microbiome\"); packageVersion(\"microbiome\")\n",
    "library(\"pairwiseAdonis\"); packageVersion(\"pairwiseAdonis\")\n",
    "library(\"tidyverse\")"
   ]
  },
  {
   "cell_type": "code",
   "execution_count": 3,
   "id": "81e4684c",
   "metadata": {
    "button": false,
    "new_sheet": false,
    "run_control": {
     "read_only": false
    }
   },
   "outputs": [
    {
     "data": {
      "text/html": [
       "<table class=\"dataframe\">\n",
       "<caption>A matrix: 6 × 667 of type int</caption>\n",
       "<thead>\n",
       "\t<tr><th></th><th scope=col>d9a37d86155d9224b0a9331fec4c3504</th><th scope=col>cab8eef5312f82c2e00ad312974ad6ed</th><th scope=col>d8ea642fc64ba46b20cf9027953a29f9</th><th scope=col>1e9cd04a2da65bafb92a7a3224becd2e</th><th scope=col>636656e4ac93f5a5edfe3104eab2db63</th><th scope=col>5193b52304263921a5e1dbcc84a1b849</th><th scope=col>41531f154bb221e03508727eaf129243</th><th scope=col>6f10d48abc894d56a02da05a1cd3bb66</th><th scope=col>12184c9ceef8cc2015cb2f659c1a1d89</th><th scope=col>bf45ce7baebb29297ea31e5f7496f350</th><th scope=col>⋯</th><th scope=col>aec0fec10137d67a1310b8ebb1602a98</th><th scope=col>e2dce05cbcc6376ab4aa4965529f50a6</th><th scope=col>9e2984401299cba366ccf312dce46d0b</th><th scope=col>cff5f96d465d20716d6d3aeee83e6083</th><th scope=col>e974575b4e6102a8fdb7e3afd986780e</th><th scope=col>19afd9f51f8e1da2ee5c4f1131c3d2eb</th><th scope=col>2ea8111fdefe5ef302e76f5c4d14cd9b</th><th scope=col>cd11ff87e428c86084eb9decd268b24b</th><th scope=col>1453102b92c9d7d397fe47a7b4f2550b</th><th scope=col>f699f2eda1aa2e2616af92224ff03425</th></tr>\n",
       "</thead>\n",
       "<tbody>\n",
       "\t<tr><th scope=row>AC101JanuaryRY</th><td>0</td><td>0</td><td>0</td><td>0</td><td>0</td><td>0</td><td>0</td><td>0</td><td>0</td><td>0</td><td>⋯</td><td>0</td><td>0</td><td>0</td><td>0</td><td>0</td><td>0</td><td>0</td><td>0</td><td>0</td><td>0</td></tr>\n",
       "\t<tr><th scope=row>AC102FebruaryRY</th><td>0</td><td>0</td><td>0</td><td>0</td><td>0</td><td>0</td><td>0</td><td>0</td><td>0</td><td>0</td><td>⋯</td><td>0</td><td>0</td><td>0</td><td>0</td><td>0</td><td>0</td><td>0</td><td>0</td><td>0</td><td>0</td></tr>\n",
       "\t<tr><th scope=row>AC102JanuaryRY</th><td>0</td><td>4</td><td>0</td><td>0</td><td>0</td><td>0</td><td>0</td><td>0</td><td>0</td><td>0</td><td>⋯</td><td>0</td><td>0</td><td>0</td><td>0</td><td>0</td><td>0</td><td>0</td><td>9</td><td>0</td><td>0</td></tr>\n",
       "\t<tr><th scope=row>AC102MarchRY</th><td>0</td><td>0</td><td>0</td><td>0</td><td>0</td><td>0</td><td>0</td><td>0</td><td>0</td><td>0</td><td>⋯</td><td>0</td><td>0</td><td>0</td><td>0</td><td>0</td><td>0</td><td>0</td><td>0</td><td>0</td><td>0</td></tr>\n",
       "\t<tr><th scope=row>AC103DecemberRY</th><td>0</td><td>0</td><td>0</td><td>0</td><td>0</td><td>0</td><td>0</td><td>0</td><td>0</td><td>0</td><td>⋯</td><td>0</td><td>0</td><td>0</td><td>0</td><td>0</td><td>0</td><td>0</td><td>0</td><td>0</td><td>0</td></tr>\n",
       "\t<tr><th scope=row>AC104JanuaryRY</th><td>0</td><td>0</td><td>0</td><td>0</td><td>0</td><td>0</td><td>0</td><td>0</td><td>0</td><td>0</td><td>⋯</td><td>0</td><td>0</td><td>0</td><td>0</td><td>0</td><td>0</td><td>0</td><td>0</td><td>0</td><td>0</td></tr>\n",
       "</tbody>\n",
       "</table>\n"
      ],
      "text/latex": [
       "A matrix: 6 × 667 of type int\n",
       "\\begin{tabular}{r|lllllllllllllllllllll}\n",
       "  & d9a37d86155d9224b0a9331fec4c3504 & cab8eef5312f82c2e00ad312974ad6ed & d8ea642fc64ba46b20cf9027953a29f9 & 1e9cd04a2da65bafb92a7a3224becd2e & 636656e4ac93f5a5edfe3104eab2db63 & 5193b52304263921a5e1dbcc84a1b849 & 41531f154bb221e03508727eaf129243 & 6f10d48abc894d56a02da05a1cd3bb66 & 12184c9ceef8cc2015cb2f659c1a1d89 & bf45ce7baebb29297ea31e5f7496f350 & ⋯ & aec0fec10137d67a1310b8ebb1602a98 & e2dce05cbcc6376ab4aa4965529f50a6 & 9e2984401299cba366ccf312dce46d0b & cff5f96d465d20716d6d3aeee83e6083 & e974575b4e6102a8fdb7e3afd986780e & 19afd9f51f8e1da2ee5c4f1131c3d2eb & 2ea8111fdefe5ef302e76f5c4d14cd9b & cd11ff87e428c86084eb9decd268b24b & 1453102b92c9d7d397fe47a7b4f2550b & f699f2eda1aa2e2616af92224ff03425\\\\\n",
       "\\hline\n",
       "\tAC101JanuaryRY & 0 & 0 & 0 & 0 & 0 & 0 & 0 & 0 & 0 & 0 & ⋯ & 0 & 0 & 0 & 0 & 0 & 0 & 0 & 0 & 0 & 0\\\\\n",
       "\tAC102FebruaryRY & 0 & 0 & 0 & 0 & 0 & 0 & 0 & 0 & 0 & 0 & ⋯ & 0 & 0 & 0 & 0 & 0 & 0 & 0 & 0 & 0 & 0\\\\\n",
       "\tAC102JanuaryRY & 0 & 4 & 0 & 0 & 0 & 0 & 0 & 0 & 0 & 0 & ⋯ & 0 & 0 & 0 & 0 & 0 & 0 & 0 & 9 & 0 & 0\\\\\n",
       "\tAC102MarchRY & 0 & 0 & 0 & 0 & 0 & 0 & 0 & 0 & 0 & 0 & ⋯ & 0 & 0 & 0 & 0 & 0 & 0 & 0 & 0 & 0 & 0\\\\\n",
       "\tAC103DecemberRY & 0 & 0 & 0 & 0 & 0 & 0 & 0 & 0 & 0 & 0 & ⋯ & 0 & 0 & 0 & 0 & 0 & 0 & 0 & 0 & 0 & 0\\\\\n",
       "\tAC104JanuaryRY & 0 & 0 & 0 & 0 & 0 & 0 & 0 & 0 & 0 & 0 & ⋯ & 0 & 0 & 0 & 0 & 0 & 0 & 0 & 0 & 0 & 0\\\\\n",
       "\\end{tabular}\n"
      ],
      "text/markdown": [
       "\n",
       "A matrix: 6 × 667 of type int\n",
       "\n",
       "| <!--/--> | d9a37d86155d9224b0a9331fec4c3504 | cab8eef5312f82c2e00ad312974ad6ed | d8ea642fc64ba46b20cf9027953a29f9 | 1e9cd04a2da65bafb92a7a3224becd2e | 636656e4ac93f5a5edfe3104eab2db63 | 5193b52304263921a5e1dbcc84a1b849 | 41531f154bb221e03508727eaf129243 | 6f10d48abc894d56a02da05a1cd3bb66 | 12184c9ceef8cc2015cb2f659c1a1d89 | bf45ce7baebb29297ea31e5f7496f350 | ⋯ | aec0fec10137d67a1310b8ebb1602a98 | e2dce05cbcc6376ab4aa4965529f50a6 | 9e2984401299cba366ccf312dce46d0b | cff5f96d465d20716d6d3aeee83e6083 | e974575b4e6102a8fdb7e3afd986780e | 19afd9f51f8e1da2ee5c4f1131c3d2eb | 2ea8111fdefe5ef302e76f5c4d14cd9b | cd11ff87e428c86084eb9decd268b24b | 1453102b92c9d7d397fe47a7b4f2550b | f699f2eda1aa2e2616af92224ff03425 |\n",
       "|---|---|---|---|---|---|---|---|---|---|---|---|---|---|---|---|---|---|---|---|---|---|\n",
       "| AC101JanuaryRY | 0 | 0 | 0 | 0 | 0 | 0 | 0 | 0 | 0 | 0 | ⋯ | 0 | 0 | 0 | 0 | 0 | 0 | 0 | 0 | 0 | 0 |\n",
       "| AC102FebruaryRY | 0 | 0 | 0 | 0 | 0 | 0 | 0 | 0 | 0 | 0 | ⋯ | 0 | 0 | 0 | 0 | 0 | 0 | 0 | 0 | 0 | 0 |\n",
       "| AC102JanuaryRY | 0 | 4 | 0 | 0 | 0 | 0 | 0 | 0 | 0 | 0 | ⋯ | 0 | 0 | 0 | 0 | 0 | 0 | 0 | 9 | 0 | 0 |\n",
       "| AC102MarchRY | 0 | 0 | 0 | 0 | 0 | 0 | 0 | 0 | 0 | 0 | ⋯ | 0 | 0 | 0 | 0 | 0 | 0 | 0 | 0 | 0 | 0 |\n",
       "| AC103DecemberRY | 0 | 0 | 0 | 0 | 0 | 0 | 0 | 0 | 0 | 0 | ⋯ | 0 | 0 | 0 | 0 | 0 | 0 | 0 | 0 | 0 | 0 |\n",
       "| AC104JanuaryRY | 0 | 0 | 0 | 0 | 0 | 0 | 0 | 0 | 0 | 0 | ⋯ | 0 | 0 | 0 | 0 | 0 | 0 | 0 | 0 | 0 | 0 |\n",
       "\n"
      ],
      "text/plain": [
       "                d9a37d86155d9224b0a9331fec4c3504\n",
       "AC101JanuaryRY  0                               \n",
       "AC102FebruaryRY 0                               \n",
       "AC102JanuaryRY  0                               \n",
       "AC102MarchRY    0                               \n",
       "AC103DecemberRY 0                               \n",
       "AC104JanuaryRY  0                               \n",
       "                cab8eef5312f82c2e00ad312974ad6ed\n",
       "AC101JanuaryRY  0                               \n",
       "AC102FebruaryRY 0                               \n",
       "AC102JanuaryRY  4                               \n",
       "AC102MarchRY    0                               \n",
       "AC103DecemberRY 0                               \n",
       "AC104JanuaryRY  0                               \n",
       "                d8ea642fc64ba46b20cf9027953a29f9\n",
       "AC101JanuaryRY  0                               \n",
       "AC102FebruaryRY 0                               \n",
       "AC102JanuaryRY  0                               \n",
       "AC102MarchRY    0                               \n",
       "AC103DecemberRY 0                               \n",
       "AC104JanuaryRY  0                               \n",
       "                1e9cd04a2da65bafb92a7a3224becd2e\n",
       "AC101JanuaryRY  0                               \n",
       "AC102FebruaryRY 0                               \n",
       "AC102JanuaryRY  0                               \n",
       "AC102MarchRY    0                               \n",
       "AC103DecemberRY 0                               \n",
       "AC104JanuaryRY  0                               \n",
       "                636656e4ac93f5a5edfe3104eab2db63\n",
       "AC101JanuaryRY  0                               \n",
       "AC102FebruaryRY 0                               \n",
       "AC102JanuaryRY  0                               \n",
       "AC102MarchRY    0                               \n",
       "AC103DecemberRY 0                               \n",
       "AC104JanuaryRY  0                               \n",
       "                5193b52304263921a5e1dbcc84a1b849\n",
       "AC101JanuaryRY  0                               \n",
       "AC102FebruaryRY 0                               \n",
       "AC102JanuaryRY  0                               \n",
       "AC102MarchRY    0                               \n",
       "AC103DecemberRY 0                               \n",
       "AC104JanuaryRY  0                               \n",
       "                41531f154bb221e03508727eaf129243\n",
       "AC101JanuaryRY  0                               \n",
       "AC102FebruaryRY 0                               \n",
       "AC102JanuaryRY  0                               \n",
       "AC102MarchRY    0                               \n",
       "AC103DecemberRY 0                               \n",
       "AC104JanuaryRY  0                               \n",
       "                6f10d48abc894d56a02da05a1cd3bb66\n",
       "AC101JanuaryRY  0                               \n",
       "AC102FebruaryRY 0                               \n",
       "AC102JanuaryRY  0                               \n",
       "AC102MarchRY    0                               \n",
       "AC103DecemberRY 0                               \n",
       "AC104JanuaryRY  0                               \n",
       "                12184c9ceef8cc2015cb2f659c1a1d89\n",
       "AC101JanuaryRY  0                               \n",
       "AC102FebruaryRY 0                               \n",
       "AC102JanuaryRY  0                               \n",
       "AC102MarchRY    0                               \n",
       "AC103DecemberRY 0                               \n",
       "AC104JanuaryRY  0                               \n",
       "                bf45ce7baebb29297ea31e5f7496f350 ⋯\n",
       "AC101JanuaryRY  0                                ⋯\n",
       "AC102FebruaryRY 0                                ⋯\n",
       "AC102JanuaryRY  0                                ⋯\n",
       "AC102MarchRY    0                                ⋯\n",
       "AC103DecemberRY 0                                ⋯\n",
       "AC104JanuaryRY  0                                ⋯\n",
       "                aec0fec10137d67a1310b8ebb1602a98\n",
       "AC101JanuaryRY  0                               \n",
       "AC102FebruaryRY 0                               \n",
       "AC102JanuaryRY  0                               \n",
       "AC102MarchRY    0                               \n",
       "AC103DecemberRY 0                               \n",
       "AC104JanuaryRY  0                               \n",
       "                e2dce05cbcc6376ab4aa4965529f50a6\n",
       "AC101JanuaryRY  0                               \n",
       "AC102FebruaryRY 0                               \n",
       "AC102JanuaryRY  0                               \n",
       "AC102MarchRY    0                               \n",
       "AC103DecemberRY 0                               \n",
       "AC104JanuaryRY  0                               \n",
       "                9e2984401299cba366ccf312dce46d0b\n",
       "AC101JanuaryRY  0                               \n",
       "AC102FebruaryRY 0                               \n",
       "AC102JanuaryRY  0                               \n",
       "AC102MarchRY    0                               \n",
       "AC103DecemberRY 0                               \n",
       "AC104JanuaryRY  0                               \n",
       "                cff5f96d465d20716d6d3aeee83e6083\n",
       "AC101JanuaryRY  0                               \n",
       "AC102FebruaryRY 0                               \n",
       "AC102JanuaryRY  0                               \n",
       "AC102MarchRY    0                               \n",
       "AC103DecemberRY 0                               \n",
       "AC104JanuaryRY  0                               \n",
       "                e974575b4e6102a8fdb7e3afd986780e\n",
       "AC101JanuaryRY  0                               \n",
       "AC102FebruaryRY 0                               \n",
       "AC102JanuaryRY  0                               \n",
       "AC102MarchRY    0                               \n",
       "AC103DecemberRY 0                               \n",
       "AC104JanuaryRY  0                               \n",
       "                19afd9f51f8e1da2ee5c4f1131c3d2eb\n",
       "AC101JanuaryRY  0                               \n",
       "AC102FebruaryRY 0                               \n",
       "AC102JanuaryRY  0                               \n",
       "AC102MarchRY    0                               \n",
       "AC103DecemberRY 0                               \n",
       "AC104JanuaryRY  0                               \n",
       "                2ea8111fdefe5ef302e76f5c4d14cd9b\n",
       "AC101JanuaryRY  0                               \n",
       "AC102FebruaryRY 0                               \n",
       "AC102JanuaryRY  0                               \n",
       "AC102MarchRY    0                               \n",
       "AC103DecemberRY 0                               \n",
       "AC104JanuaryRY  0                               \n",
       "                cd11ff87e428c86084eb9decd268b24b\n",
       "AC101JanuaryRY  0                               \n",
       "AC102FebruaryRY 0                               \n",
       "AC102JanuaryRY  9                               \n",
       "AC102MarchRY    0                               \n",
       "AC103DecemberRY 0                               \n",
       "AC104JanuaryRY  0                               \n",
       "                1453102b92c9d7d397fe47a7b4f2550b\n",
       "AC101JanuaryRY  0                               \n",
       "AC102FebruaryRY 0                               \n",
       "AC102JanuaryRY  0                               \n",
       "AC102MarchRY    0                               \n",
       "AC103DecemberRY 0                               \n",
       "AC104JanuaryRY  0                               \n",
       "                f699f2eda1aa2e2616af92224ff03425\n",
       "AC101JanuaryRY  0                               \n",
       "AC102FebruaryRY 0                               \n",
       "AC102JanuaryRY  0                               \n",
       "AC102MarchRY    0                               \n",
       "AC103DecemberRY 0                               \n",
       "AC104JanuaryRY  0                               "
      ]
     },
     "metadata": {},
     "output_type": "display_data"
    },
    {
     "data": {
      "text/html": [
       "<style>\n",
       ".list-inline {list-style: none; margin:0; padding: 0}\n",
       ".list-inline>li {display: inline-block}\n",
       ".list-inline>li:not(:last-child)::after {content: \"\\00b7\"; padding: 0 .5ex}\n",
       "</style>\n",
       "<ol class=list-inline><li>181</li><li>667</li></ol>\n"
      ],
      "text/latex": [
       "\\begin{enumerate*}\n",
       "\\item 181\n",
       "\\item 667\n",
       "\\end{enumerate*}\n"
      ],
      "text/markdown": [
       "1. 181\n",
       "2. 667\n",
       "\n",
       "\n"
      ],
      "text/plain": [
       "[1] 181 667"
      ]
     },
     "metadata": {},
     "output_type": "display_data"
    },
    {
     "name": "stderr",
     "output_type": "stream",
     "text": [
      "Warning message in scan(file = file, what = what, sep = sep, quote = quote, dec = dec, :\n",
      "“number of items read is not a multiple of the number of columns”\n"
     ]
    },
    {
     "data": {
      "text/html": [
       "<table class=\"dataframe\">\n",
       "<caption>A data.frame: 6 × 60</caption>\n",
       "<thead>\n",
       "\t<tr><th></th><th scope=col>frag_ID</th><th scope=col>former.id</th><th scope=col>EuC1</th><th scope=col>EuC2</th><th scope=col>Richness</th><th scope=col>error</th><th scope=col>lower</th><th scope=col>upper</th><th scope=col>Bcode</th><th scope=col>Barcode</th><th scope=col>⋯</th><th scope=col>Date_DNA</th><th scope=col>dBW_g</th><th scope=col>Date_BW</th><th scope=col>Chl_a</th><th scope=col>Chl_a_mean</th><th scope=col>Sym_cm2</th><th scope=col>Sym_cm2_mean</th><th scope=col>Date.Blastate</th><th scope=col>Days_Experiment</th><th scope=col>Days_Survivor</th></tr>\n",
       "\t<tr><th></th><th scope=col>&lt;chr&gt;</th><th scope=col>&lt;chr&gt;</th><th scope=col>&lt;dbl&gt;</th><th scope=col>&lt;dbl&gt;</th><th scope=col>&lt;dbl&gt;</th><th scope=col>&lt;dbl&gt;</th><th scope=col>&lt;dbl&gt;</th><th scope=col>&lt;dbl&gt;</th><th scope=col>&lt;chr&gt;</th><th scope=col>&lt;chr&gt;</th><th scope=col>⋯</th><th scope=col>&lt;chr&gt;</th><th scope=col>&lt;dbl&gt;</th><th scope=col>&lt;chr&gt;</th><th scope=col>&lt;dbl&gt;</th><th scope=col>&lt;dbl&gt;</th><th scope=col>&lt;dbl&gt;</th><th scope=col>&lt;dbl&gt;</th><th scope=col>&lt;chr&gt;</th><th scope=col>&lt;int&gt;</th><th scope=col>&lt;int&gt;</th></tr>\n",
       "</thead>\n",
       "<tbody>\n",
       "\t<tr><th scope=row>AC281FebruaryG</th><td>281_AC</td><td>281-February-G</td><td>-0.007053997</td><td>-0.04281782</td><td> 62.06071</td><td>0.2480985</td><td> 62.01178</td><td> 62.31294</td><td>515rcbc144</td><td>GTTTGAAACACG</td><td>⋯</td><td>1/29/18</td><td>4.1258741</td><td>1/29/18</td><td>NA</td><td>3.105</td><td>NA</td><td>4.324443</td><td>NA </td><td>76</td><td>188</td></tr>\n",
       "\t<tr><th scope=row>AC284FebruaryG</th><td>284_AC</td><td>284-February-G</td><td>-0.021757804</td><td>-0.02848575</td><td> 53.16160</td><td>0.4106332</td><td> 53.03082</td><td> 53.84728</td><td>515rcbc28 </td><td>CTGTCTATACTA</td><td>⋯</td><td>1/29/18</td><td>4.7853084</td><td>1/29/18</td><td>NA</td><td>3.105</td><td>NA</td><td>4.324443</td><td>NA </td><td>76</td><td>188</td></tr>\n",
       "\t<tr><th scope=row>AC285FebruaryG</th><td>285_AC</td><td>285-February-G</td><td>-0.011859619</td><td>-0.07701386</td><td>111.30642</td><td>0.5636194</td><td>111.05867</td><td>112.60044</td><td>515rcbc185</td><td>CGCGCCTTAAAC</td><td>⋯</td><td>1/29/18</td><td>0.6627697</td><td>1/29/18</td><td>NA</td><td>5.310</td><td>NA</td><td>5.133481</td><td>NA </td><td>76</td><td>188</td></tr>\n",
       "\t<tr><th scope=row>AC286FebruaryG</th><td>286_AC</td><td>286-February-G</td><td> 0.009089110</td><td>-0.02756048</td><td> 33.03090</td><td>0.1770837</td><td> 33.00599</td><td> 33.15936</td><td>515rcbc41 </td><td>GCGATCACACCT</td><td>⋯</td><td>1/29/18</td><td>1.7548049</td><td>1/29/18</td><td>NA</td><td>5.705</td><td>NA</td><td>6.063486</td><td>NA </td><td>76</td><td>188</td></tr>\n",
       "\t<tr><th scope=row>AC289FebruaryG</th><td>289_AC</td><td>289-February-G</td><td>-0.011670994</td><td>-0.03444584</td><td> 45.12034</td><td>0.3534222</td><td> 45.02302</td><td> 45.62898</td><td>515rcbc7  </td><td>ACCTTACACCTT</td><td>⋯</td><td>1/29/18</td><td>2.1139784</td><td>1/29/18</td><td>NA</td><td>5.705</td><td>NA</td><td>6.063486</td><td>NA </td><td>76</td><td>188</td></tr>\n",
       "\t<tr><th scope=row>AC152FebruaryO</th><td>152_AC</td><td>152-February-O</td><td>-0.019906845</td><td>-0.02994868</td><td> 56.17302</td><td>0.4221207</td><td> 56.03326</td><td> 56.90015</td><td>515rcbc103</td><td>TTGCGGACCCTA</td><td>⋯</td><td>2/23/18</td><td>1.9417000</td><td>2/23/18</td><td>NA</td><td>   NA</td><td>NA</td><td>      NA</td><td>NAN</td><td>99</td><td>211</td></tr>\n",
       "</tbody>\n",
       "</table>\n"
      ],
      "text/latex": [
       "A data.frame: 6 × 60\n",
       "\\begin{tabular}{r|lllllllllllllllllllll}\n",
       "  & frag\\_ID & former.id & EuC1 & EuC2 & Richness & error & lower & upper & Bcode & Barcode & ⋯ & Date\\_DNA & dBW\\_g & Date\\_BW & Chl\\_a & Chl\\_a\\_mean & Sym\\_cm2 & Sym\\_cm2\\_mean & Date.Blastate & Days\\_Experiment & Days\\_Survivor\\\\\n",
       "  & <chr> & <chr> & <dbl> & <dbl> & <dbl> & <dbl> & <dbl> & <dbl> & <chr> & <chr> & ⋯ & <chr> & <dbl> & <chr> & <dbl> & <dbl> & <dbl> & <dbl> & <chr> & <int> & <int>\\\\\n",
       "\\hline\n",
       "\tAC281FebruaryG & 281\\_AC & 281-February-G & -0.007053997 & -0.04281782 &  62.06071 & 0.2480985 &  62.01178 &  62.31294 & 515rcbc144 & GTTTGAAACACG & ⋯ & 1/29/18 & 4.1258741 & 1/29/18 & NA & 3.105 & NA & 4.324443 & NA  & 76 & 188\\\\\n",
       "\tAC284FebruaryG & 284\\_AC & 284-February-G & -0.021757804 & -0.02848575 &  53.16160 & 0.4106332 &  53.03082 &  53.84728 & 515rcbc28  & CTGTCTATACTA & ⋯ & 1/29/18 & 4.7853084 & 1/29/18 & NA & 3.105 & NA & 4.324443 & NA  & 76 & 188\\\\\n",
       "\tAC285FebruaryG & 285\\_AC & 285-February-G & -0.011859619 & -0.07701386 & 111.30642 & 0.5636194 & 111.05867 & 112.60044 & 515rcbc185 & CGCGCCTTAAAC & ⋯ & 1/29/18 & 0.6627697 & 1/29/18 & NA & 5.310 & NA & 5.133481 & NA  & 76 & 188\\\\\n",
       "\tAC286FebruaryG & 286\\_AC & 286-February-G &  0.009089110 & -0.02756048 &  33.03090 & 0.1770837 &  33.00599 &  33.15936 & 515rcbc41  & GCGATCACACCT & ⋯ & 1/29/18 & 1.7548049 & 1/29/18 & NA & 5.705 & NA & 6.063486 & NA  & 76 & 188\\\\\n",
       "\tAC289FebruaryG & 289\\_AC & 289-February-G & -0.011670994 & -0.03444584 &  45.12034 & 0.3534222 &  45.02302 &  45.62898 & 515rcbc7   & ACCTTACACCTT & ⋯ & 1/29/18 & 2.1139784 & 1/29/18 & NA & 5.705 & NA & 6.063486 & NA  & 76 & 188\\\\\n",
       "\tAC152FebruaryO & 152\\_AC & 152-February-O & -0.019906845 & -0.02994868 &  56.17302 & 0.4221207 &  56.03326 &  56.90015 & 515rcbc103 & TTGCGGACCCTA & ⋯ & 2/23/18 & 1.9417000 & 2/23/18 & NA &    NA & NA &       NA & NAN & 99 & 211\\\\\n",
       "\\end{tabular}\n"
      ],
      "text/markdown": [
       "\n",
       "A data.frame: 6 × 60\n",
       "\n",
       "| <!--/--> | frag_ID &lt;chr&gt; | former.id &lt;chr&gt; | EuC1 &lt;dbl&gt; | EuC2 &lt;dbl&gt; | Richness &lt;dbl&gt; | error &lt;dbl&gt; | lower &lt;dbl&gt; | upper &lt;dbl&gt; | Bcode &lt;chr&gt; | Barcode &lt;chr&gt; | ⋯ ⋯ | Date_DNA &lt;chr&gt; | dBW_g &lt;dbl&gt; | Date_BW &lt;chr&gt; | Chl_a &lt;dbl&gt; | Chl_a_mean &lt;dbl&gt; | Sym_cm2 &lt;dbl&gt; | Sym_cm2_mean &lt;dbl&gt; | Date.Blastate &lt;chr&gt; | Days_Experiment &lt;int&gt; | Days_Survivor &lt;int&gt; |\n",
       "|---|---|---|---|---|---|---|---|---|---|---|---|---|---|---|---|---|---|---|---|---|---|\n",
       "| AC281FebruaryG | 281_AC | 281-February-G | -0.007053997 | -0.04281782 |  62.06071 | 0.2480985 |  62.01178 |  62.31294 | 515rcbc144 | GTTTGAAACACG | ⋯ | 1/29/18 | 4.1258741 | 1/29/18 | NA | 3.105 | NA | 4.324443 | NA  | 76 | 188 |\n",
       "| AC284FebruaryG | 284_AC | 284-February-G | -0.021757804 | -0.02848575 |  53.16160 | 0.4106332 |  53.03082 |  53.84728 | 515rcbc28  | CTGTCTATACTA | ⋯ | 1/29/18 | 4.7853084 | 1/29/18 | NA | 3.105 | NA | 4.324443 | NA  | 76 | 188 |\n",
       "| AC285FebruaryG | 285_AC | 285-February-G | -0.011859619 | -0.07701386 | 111.30642 | 0.5636194 | 111.05867 | 112.60044 | 515rcbc185 | CGCGCCTTAAAC | ⋯ | 1/29/18 | 0.6627697 | 1/29/18 | NA | 5.310 | NA | 5.133481 | NA  | 76 | 188 |\n",
       "| AC286FebruaryG | 286_AC | 286-February-G |  0.009089110 | -0.02756048 |  33.03090 | 0.1770837 |  33.00599 |  33.15936 | 515rcbc41  | GCGATCACACCT | ⋯ | 1/29/18 | 1.7548049 | 1/29/18 | NA | 5.705 | NA | 6.063486 | NA  | 76 | 188 |\n",
       "| AC289FebruaryG | 289_AC | 289-February-G | -0.011670994 | -0.03444584 |  45.12034 | 0.3534222 |  45.02302 |  45.62898 | 515rcbc7   | ACCTTACACCTT | ⋯ | 1/29/18 | 2.1139784 | 1/29/18 | NA | 5.705 | NA | 6.063486 | NA  | 76 | 188 |\n",
       "| AC152FebruaryO | 152_AC | 152-February-O | -0.019906845 | -0.02994868 |  56.17302 | 0.4221207 |  56.03326 |  56.90015 | 515rcbc103 | TTGCGGACCCTA | ⋯ | 2/23/18 | 1.9417000 | 2/23/18 | NA |    NA | NA |       NA | NAN | 99 | 211 |\n",
       "\n"
      ],
      "text/plain": [
       "               frag_ID former.id      EuC1         EuC2        Richness \n",
       "AC281FebruaryG 281_AC  281-February-G -0.007053997 -0.04281782  62.06071\n",
       "AC284FebruaryG 284_AC  284-February-G -0.021757804 -0.02848575  53.16160\n",
       "AC285FebruaryG 285_AC  285-February-G -0.011859619 -0.07701386 111.30642\n",
       "AC286FebruaryG 286_AC  286-February-G  0.009089110 -0.02756048  33.03090\n",
       "AC289FebruaryG 289_AC  289-February-G -0.011670994 -0.03444584  45.12034\n",
       "AC152FebruaryO 152_AC  152-February-O -0.019906845 -0.02994868  56.17302\n",
       "               error     lower     upper     Bcode      Barcode      ⋯ Date_DNA\n",
       "AC281FebruaryG 0.2480985  62.01178  62.31294 515rcbc144 GTTTGAAACACG ⋯ 1/29/18 \n",
       "AC284FebruaryG 0.4106332  53.03082  53.84728 515rcbc28  CTGTCTATACTA ⋯ 1/29/18 \n",
       "AC285FebruaryG 0.5636194 111.05867 112.60044 515rcbc185 CGCGCCTTAAAC ⋯ 1/29/18 \n",
       "AC286FebruaryG 0.1770837  33.00599  33.15936 515rcbc41  GCGATCACACCT ⋯ 1/29/18 \n",
       "AC289FebruaryG 0.3534222  45.02302  45.62898 515rcbc7   ACCTTACACCTT ⋯ 1/29/18 \n",
       "AC152FebruaryO 0.4221207  56.03326  56.90015 515rcbc103 TTGCGGACCCTA ⋯ 2/23/18 \n",
       "               dBW_g     Date_BW Chl_a Chl_a_mean Sym_cm2 Sym_cm2_mean\n",
       "AC281FebruaryG 4.1258741 1/29/18 NA    3.105      NA      4.324443    \n",
       "AC284FebruaryG 4.7853084 1/29/18 NA    3.105      NA      4.324443    \n",
       "AC285FebruaryG 0.6627697 1/29/18 NA    5.310      NA      5.133481    \n",
       "AC286FebruaryG 1.7548049 1/29/18 NA    5.705      NA      6.063486    \n",
       "AC289FebruaryG 2.1139784 1/29/18 NA    5.705      NA      6.063486    \n",
       "AC152FebruaryO 1.9417000 2/23/18 NA       NA      NA            NA    \n",
       "               Date.Blastate Days_Experiment Days_Survivor\n",
       "AC281FebruaryG NA            76              188          \n",
       "AC284FebruaryG NA            76              188          \n",
       "AC285FebruaryG NA            76              188          \n",
       "AC286FebruaryG NA            76              188          \n",
       "AC289FebruaryG NA            76              188          \n",
       "AC152FebruaryO NAN           99              211          "
      ]
     },
     "metadata": {},
     "output_type": "display_data"
    },
    {
     "data": {
      "text/html": [
       "<style>\n",
       ".list-inline {list-style: none; margin:0; padding: 0}\n",
       ".list-inline>li {display: inline-block}\n",
       ".list-inline>li:not(:last-child)::after {content: \"\\00b7\"; padding: 0 .5ex}\n",
       "</style>\n",
       "<ol class=list-inline><li>189</li><li>60</li></ol>\n"
      ],
      "text/latex": [
       "\\begin{enumerate*}\n",
       "\\item 189\n",
       "\\item 60\n",
       "\\end{enumerate*}\n"
      ],
      "text/markdown": [
       "1. 189\n",
       "2. 60\n",
       "\n",
       "\n"
      ],
      "text/plain": [
       "[1] 189  60"
      ]
     },
     "metadata": {},
     "output_type": "display_data"
    },
    {
     "data": {
      "text/html": [
       "<table class=\"dataframe\">\n",
       "<caption>A matrix: 6 × 8 of type chr</caption>\n",
       "<thead>\n",
       "\t<tr><th></th><th scope=col>Kingdom</th><th scope=col>Phylum</th><th scope=col>Class</th><th scope=col>Order</th><th scope=col>Family</th><th scope=col>Genus</th><th scope=col>Species</th><th scope=col>ASV</th></tr>\n",
       "</thead>\n",
       "<tbody>\n",
       "\t<tr><th scope=row>fa2bb284987f22d98177ba72ffb9fc0d</th><td>D_0__Bacteria</td><td>D_1__Proteobacteria</td><td>Alphaproteobacteria</td><td>Caulobacterales  </td><td>Hyphomonadaceae   </td><td>Oceanicaulis   </td><td>NA             </td><td>ASV1</td></tr>\n",
       "\t<tr><th scope=row>f7f3145eef65b9615405b9ffa700bbc5</th><td>D_0__Bacteria</td><td>D_1__Proteobacteria</td><td>Deltaproteobacteria</td><td>Bdellovibrionales</td><td>Bdellovibrionaceae</td><td>Bdellovibrio   </td><td>D_6__uncultured</td><td>ASV2</td></tr>\n",
       "\t<tr><th scope=row>1fbc731d023324de9f4ee8f3263ec695</th><td>D_0__Bacteria</td><td>D_1__Planctomycetes</td><td>Planctomycetacia   </td><td>Pirellulales     </td><td>Pirellulaceae     </td><td>Pir4           </td><td>NA             </td><td>ASV3</td></tr>\n",
       "\t<tr><th scope=row>6ee8ad4ecdf9b05a8c6ff6446a994246</th><td>D_0__Bacteria</td><td>D_1__Proteobacteria</td><td>Deltaproteobacteria</td><td>Bdellovibrionales</td><td>Bdellovibrionaceae</td><td>OM27           </td><td>NA             </td><td>ASV4</td></tr>\n",
       "\t<tr><th scope=row>ce3282f60bf4b99061bd6ef2a7092061</th><td>D_0__Bacteria</td><td>D_1__Proteobacteria</td><td>Gammaproteobacteria</td><td>Oceanospirillales</td><td>Nitrincolaceae    </td><td>Marinobacterium</td><td>D_6__bacterium </td><td>ASV5</td></tr>\n",
       "\t<tr><th scope=row>62312057115704234b8ddbbc4685efb9</th><td>D_0__Bacteria</td><td>D_1__Proteobacteria</td><td>Alphaproteobacteria</td><td>Sphingomonadales </td><td>Sphingomonadaceae </td><td>Sphingomonas   </td><td>NA             </td><td>ASV6</td></tr>\n",
       "</tbody>\n",
       "</table>\n"
      ],
      "text/latex": [
       "A matrix: 6 × 8 of type chr\n",
       "\\begin{tabular}{r|llllllll}\n",
       "  & Kingdom & Phylum & Class & Order & Family & Genus & Species & ASV\\\\\n",
       "\\hline\n",
       "\tfa2bb284987f22d98177ba72ffb9fc0d & D\\_0\\_\\_Bacteria & D\\_1\\_\\_Proteobacteria & Alphaproteobacteria & Caulobacterales   & Hyphomonadaceae    & Oceanicaulis    & NA              & ASV1\\\\\n",
       "\tf7f3145eef65b9615405b9ffa700bbc5 & D\\_0\\_\\_Bacteria & D\\_1\\_\\_Proteobacteria & Deltaproteobacteria & Bdellovibrionales & Bdellovibrionaceae & Bdellovibrio    & D\\_6\\_\\_uncultured & ASV2\\\\\n",
       "\t1fbc731d023324de9f4ee8f3263ec695 & D\\_0\\_\\_Bacteria & D\\_1\\_\\_Planctomycetes & Planctomycetacia    & Pirellulales      & Pirellulaceae      & Pir4            & NA              & ASV3\\\\\n",
       "\t6ee8ad4ecdf9b05a8c6ff6446a994246 & D\\_0\\_\\_Bacteria & D\\_1\\_\\_Proteobacteria & Deltaproteobacteria & Bdellovibrionales & Bdellovibrionaceae & OM27            & NA              & ASV4\\\\\n",
       "\tce3282f60bf4b99061bd6ef2a7092061 & D\\_0\\_\\_Bacteria & D\\_1\\_\\_Proteobacteria & Gammaproteobacteria & Oceanospirillales & Nitrincolaceae     & Marinobacterium & D\\_6\\_\\_bacterium  & ASV5\\\\\n",
       "\t62312057115704234b8ddbbc4685efb9 & D\\_0\\_\\_Bacteria & D\\_1\\_\\_Proteobacteria & Alphaproteobacteria & Sphingomonadales  & Sphingomonadaceae  & Sphingomonas    & NA              & ASV6\\\\\n",
       "\\end{tabular}\n"
      ],
      "text/markdown": [
       "\n",
       "A matrix: 6 × 8 of type chr\n",
       "\n",
       "| <!--/--> | Kingdom | Phylum | Class | Order | Family | Genus | Species | ASV |\n",
       "|---|---|---|---|---|---|---|---|---|\n",
       "| fa2bb284987f22d98177ba72ffb9fc0d | D_0__Bacteria | D_1__Proteobacteria | Alphaproteobacteria | Caulobacterales   | Hyphomonadaceae    | Oceanicaulis    | NA              | ASV1 |\n",
       "| f7f3145eef65b9615405b9ffa700bbc5 | D_0__Bacteria | D_1__Proteobacteria | Deltaproteobacteria | Bdellovibrionales | Bdellovibrionaceae | Bdellovibrio    | D_6__uncultured | ASV2 |\n",
       "| 1fbc731d023324de9f4ee8f3263ec695 | D_0__Bacteria | D_1__Planctomycetes | Planctomycetacia    | Pirellulales      | Pirellulaceae      | Pir4            | NA              | ASV3 |\n",
       "| 6ee8ad4ecdf9b05a8c6ff6446a994246 | D_0__Bacteria | D_1__Proteobacteria | Deltaproteobacteria | Bdellovibrionales | Bdellovibrionaceae | OM27            | NA              | ASV4 |\n",
       "| ce3282f60bf4b99061bd6ef2a7092061 | D_0__Bacteria | D_1__Proteobacteria | Gammaproteobacteria | Oceanospirillales | Nitrincolaceae     | Marinobacterium | D_6__bacterium  | ASV5 |\n",
       "| 62312057115704234b8ddbbc4685efb9 | D_0__Bacteria | D_1__Proteobacteria | Alphaproteobacteria | Sphingomonadales  | Sphingomonadaceae  | Sphingomonas    | NA              | ASV6 |\n",
       "\n"
      ],
      "text/plain": [
       "                                 Kingdom       Phylum             \n",
       "fa2bb284987f22d98177ba72ffb9fc0d D_0__Bacteria D_1__Proteobacteria\n",
       "f7f3145eef65b9615405b9ffa700bbc5 D_0__Bacteria D_1__Proteobacteria\n",
       "1fbc731d023324de9f4ee8f3263ec695 D_0__Bacteria D_1__Planctomycetes\n",
       "6ee8ad4ecdf9b05a8c6ff6446a994246 D_0__Bacteria D_1__Proteobacteria\n",
       "ce3282f60bf4b99061bd6ef2a7092061 D_0__Bacteria D_1__Proteobacteria\n",
       "62312057115704234b8ddbbc4685efb9 D_0__Bacteria D_1__Proteobacteria\n",
       "                                 Class               Order            \n",
       "fa2bb284987f22d98177ba72ffb9fc0d Alphaproteobacteria Caulobacterales  \n",
       "f7f3145eef65b9615405b9ffa700bbc5 Deltaproteobacteria Bdellovibrionales\n",
       "1fbc731d023324de9f4ee8f3263ec695 Planctomycetacia    Pirellulales     \n",
       "6ee8ad4ecdf9b05a8c6ff6446a994246 Deltaproteobacteria Bdellovibrionales\n",
       "ce3282f60bf4b99061bd6ef2a7092061 Gammaproteobacteria Oceanospirillales\n",
       "62312057115704234b8ddbbc4685efb9 Alphaproteobacteria Sphingomonadales \n",
       "                                 Family             Genus          \n",
       "fa2bb284987f22d98177ba72ffb9fc0d Hyphomonadaceae    Oceanicaulis   \n",
       "f7f3145eef65b9615405b9ffa700bbc5 Bdellovibrionaceae Bdellovibrio   \n",
       "1fbc731d023324de9f4ee8f3263ec695 Pirellulaceae      Pir4           \n",
       "6ee8ad4ecdf9b05a8c6ff6446a994246 Bdellovibrionaceae OM27           \n",
       "ce3282f60bf4b99061bd6ef2a7092061 Nitrincolaceae     Marinobacterium\n",
       "62312057115704234b8ddbbc4685efb9 Sphingomonadaceae  Sphingomonas   \n",
       "                                 Species         ASV \n",
       "fa2bb284987f22d98177ba72ffb9fc0d NA              ASV1\n",
       "f7f3145eef65b9615405b9ffa700bbc5 D_6__uncultured ASV2\n",
       "1fbc731d023324de9f4ee8f3263ec695 NA              ASV3\n",
       "6ee8ad4ecdf9b05a8c6ff6446a994246 NA              ASV4\n",
       "ce3282f60bf4b99061bd6ef2a7092061 D_6__bacterium  ASV5\n",
       "62312057115704234b8ddbbc4685efb9 NA              ASV6"
      ]
     },
     "metadata": {},
     "output_type": "display_data"
    },
    {
     "data": {
      "text/html": [
       "<style>\n",
       ".list-inline {list-style: none; margin:0; padding: 0}\n",
       ".list-inline>li {display: inline-block}\n",
       ".list-inline>li:not(:last-child)::after {content: \"\\00b7\"; padding: 0 .5ex}\n",
       "</style>\n",
       "<ol class=list-inline><li>2926</li><li>8</li></ol>\n"
      ],
      "text/latex": [
       "\\begin{enumerate*}\n",
       "\\item 2926\n",
       "\\item 8\n",
       "\\end{enumerate*}\n"
      ],
      "text/markdown": [
       "1. 2926\n",
       "2. 8\n",
       "\n",
       "\n"
      ],
      "text/plain": [
       "[1] 2926    8"
      ]
     },
     "metadata": {},
     "output_type": "display_data"
    }
   ],
   "source": [
    "SV <- t(read.table(\"/Users/stephanie.rosales/Documents/omics_projects/NutrientsAC16S/trim/exported_AcNu_trim/id-fil4-table-BacArc_AcNu_trimV2.txt\",\n",
    "                   row.names = 1, header = TRUE))\n",
    "head(SV)\n",
    "dim(SV)\n",
    "#removed \"#\" from first row\n",
    "map<- read.table(\"/Users/stephanie.rosales/Documents/omics_projects/NutrientsAC16S/2019_Acer_nutrients/AcNutrients/Nutrient_16s_Metadata.txt\",\n",
    "                 row.names = 1, header = TRUE)\n",
    "head(map)\n",
    "dim(map)\n",
    "## to import taxonomy I had to convert ; into tabs and remove last columns\n",
    "tax <-as.matrix(read.table(\"/Users/stephanie.rosales/Documents/omics_projects/NutrientsAC16S//trim/exported_AcNu_trim/taxonomyAcNu_trim.tsv\",  \n",
    "                           row.names = 1, header = FALSE, sep = \"\\t\"))\n",
    "#head(tax)\n",
    "colnames(tax) <- c (\"Kingdom\", \"Phylum\", \"Class\", \"Order\", \"Family\", \"Genus\", \"Species\", \"ASV\")\n",
    "tax[tax==\"\"] <- NA\n",
    "head(tax)\n",
    "dim(tax)\n",
    "\n",
    "tree_file <-read_tree(\"/Users/stephanie.rosales/Documents/omics_projects/NutrientsAC16S//trim/exported_AcNu_trim/tree.nwk\")"
   ]
  },
  {
   "cell_type": "code",
   "execution_count": 4,
   "id": "e2d4c969",
   "metadata": {
    "button": false,
    "new_sheet": false,
    "run_control": {
     "read_only": false
    }
   },
   "outputs": [
    {
     "data": {
      "text/plain": [
       "phyloseq-class experiment-level object\n",
       "otu_table()   OTU Table:         [ 667 taxa and 181 samples ]\n",
       "sample_data() Sample Data:       [ 181 samples by 60 sample variables ]\n",
       "tax_table()   Taxonomy Table:    [ 667 taxa by 8 taxonomic ranks ]\n",
       "phy_tree()    Phylogenetic Tree: [ 667 tips and 666 internal nodes ]"
      ]
     },
     "metadata": {},
     "output_type": "display_data"
    },
    {
     "data": {
      "text/plain": [
       "phyloseq-class experiment-level object\n",
       "otu_table()   OTU Table:         [ 667 taxa and 179 samples ]\n",
       "sample_data() Sample Data:       [ 179 samples by 60 sample variables ]\n",
       "tax_table()   Taxonomy Table:    [ 667 taxa by 8 taxonomic ranks ]\n",
       "phy_tree()    Phylogenetic Tree: [ 667 tips and 666 internal nodes ]"
      ]
     },
     "metadata": {},
     "output_type": "display_data"
    },
    {
     "data": {
      "text/plain": [
       "phyloseq-class experiment-level object\n",
       "otu_table()   OTU Table:         [ 666 taxa and 179 samples ]\n",
       "sample_data() Sample Data:       [ 179 samples by 60 sample variables ]\n",
       "tax_table()   Taxonomy Table:    [ 666 taxa by 8 taxonomic ranks ]\n",
       "phy_tree()    Phylogenetic Tree: [ 666 tips and 665 internal nodes ]"
      ]
     },
     "metadata": {},
     "output_type": "display_data"
    }
   ],
   "source": [
    "ps = phyloseq(otu_table(SV, taxa_are_rows=FALSE), \n",
    "               sample_data(map), \n",
    "               tax_table(tax),phy_tree(tree_file))\n",
    "ps\n",
    "\n",
    "ps = subset_samples(ps, former.id != \"105-December-RY\" & former.id!=\"102-December-RY\" &\n",
    "                   former.id !=\"104-December-RY\" &  former.id !=\"178-January-G\" & former.id !=\"NTC\" &\n",
    "                   former.id !=\"116-February-GO\" & former.id !=\"126-March-Sick-GO\")\n",
    "ps \n",
    "\n",
    "\n",
    "ps = subset_taxa(ps, ASV!=\"ASV2107\")\n",
    "ps "
   ]
  },
  {
   "cell_type": "code",
   "execution_count": 5,
   "id": "26d9e0a4",
   "metadata": {
    "button": false,
    "new_sheet": false,
    "run_control": {
     "read_only": false
    }
   },
   "outputs": [],
   "source": [
    "psr  = transform_sample_counts(ps, function(x) x / sum(x))\n",
    "ps_clr <- microbiome::transform(ps, 'clr') "
   ]
  },
  {
   "cell_type": "code",
   "execution_count": 9,
   "id": "ae5a9c47",
   "metadata": {
    "button": false,
    "new_sheet": false,
    "run_control": {
     "read_only": false
    }
   },
   "outputs": [
    {
     "data": {
      "text/plain": [
       "phyloseq-class experiment-level object\n",
       "otu_table()   OTU Table:         [ 666 taxa and 30 samples ]\n",
       "sample_data() Sample Data:       [ 30 samples by 60 sample variables ]\n",
       "tax_table()   Taxonomy Table:    [ 666 taxa by 8 taxonomic ranks ]\n",
       "phy_tree()    Phylogenetic Tree: [ 666 tips and 665 internal nodes ]"
      ]
     },
     "metadata": {},
     "output_type": "display_data"
    },
    {
     "data": {
      "text/plain": [
       "phyloseq-class experiment-level object\n",
       "otu_table()   OTU Table:         [ 666 taxa and 84 samples ]\n",
       "sample_data() Sample Data:       [ 84 samples by 60 sample variables ]\n",
       "tax_table()   Taxonomy Table:    [ 666 taxa by 8 taxonomic ranks ]\n",
       "phy_tree()    Phylogenetic Tree: [ 666 tips and 665 internal nodes ]"
      ]
     },
     "metadata": {},
     "output_type": "display_data"
    },
    {
     "data": {
      "text/plain": [
       "phyloseq-class experiment-level object\n",
       "otu_table()   OTU Table:         [ 666 taxa and 26 samples ]\n",
       "sample_data() Sample Data:       [ 26 samples by 60 sample variables ]\n",
       "tax_table()   Taxonomy Table:    [ 666 taxa by 8 taxonomic ranks ]\n",
       "phy_tree()    Phylogenetic Tree: [ 666 tips and 665 internal nodes ]"
      ]
     },
     "metadata": {},
     "output_type": "display_data"
    },
    {
     "data": {
      "text/plain": [
       "phyloseq-class experiment-level object\n",
       "otu_table()   OTU Table:         [ 666 taxa and 41 samples ]\n",
       "sample_data() Sample Data:       [ 41 samples by 60 sample variables ]\n",
       "tax_table()   Taxonomy Table:    [ 666 taxa by 8 taxonomic ranks ]\n",
       "phy_tree()    Phylogenetic Tree: [ 666 tips and 665 internal nodes ]"
      ]
     },
     "metadata": {},
     "output_type": "display_data"
    },
    {
     "data": {
      "text/plain": [
       "phyloseq-class experiment-level object\n",
       "otu_table()   OTU Table:         [ 666 taxa and 85 samples ]\n",
       "sample_data() Sample Data:       [ 85 samples by 60 sample variables ]\n",
       "tax_table()   Taxonomy Table:    [ 666 taxa by 8 taxonomic ranks ]\n",
       "phy_tree()    Phylogenetic Tree: [ 666 tips and 665 internal nodes ]"
      ]
     },
     "metadata": {},
     "output_type": "display_data"
    },
    {
     "data": {
      "text/plain": [
       "phyloseq-class experiment-level object\n",
       "otu_table()   OTU Table:         [ 666 taxa and 85 samples ]\n",
       "sample_data() Sample Data:       [ 85 samples by 60 sample variables ]\n",
       "tax_table()   Taxonomy Table:    [ 666 taxa by 8 taxonomic ranks ]\n",
       "phy_tree()    Phylogenetic Tree: [ 666 tips and 665 internal nodes ]"
      ]
     },
     "metadata": {},
     "output_type": "display_data"
    },
    {
     "data": {
      "text/plain": [
       "phyloseq-class experiment-level object\n",
       "otu_table()   OTU Table:         [ 666 taxa and 38 samples ]\n",
       "sample_data() Sample Data:       [ 38 samples by 60 sample variables ]\n",
       "tax_table()   Taxonomy Table:    [ 666 taxa by 8 taxonomic ranks ]\n",
       "phy_tree()    Phylogenetic Tree: [ 666 tips and 665 internal nodes ]"
      ]
     },
     "metadata": {},
     "output_type": "display_data"
    },
    {
     "data": {
      "text/plain": [
       "phyloseq-class experiment-level object\n",
       "otu_table()   OTU Table:         [ 666 taxa and 30 samples ]\n",
       "sample_data() Sample Data:       [ 30 samples by 60 sample variables ]\n",
       "tax_table()   Taxonomy Table:    [ 666 taxa by 8 taxonomic ranks ]\n",
       "phy_tree()    Phylogenetic Tree: [ 666 tips and 665 internal nodes ]"
      ]
     },
     "metadata": {},
     "output_type": "display_data"
    }
   ],
   "source": [
    "#subset control\n",
    "ps_clr_C1 = subset_samples(ps_clr, Treatments==\"AC_D75\")\n",
    "ps_clr_C1\n",
    "\n",
    "#subset Treatment\n",
    "\n",
    "ps_clr_CON = subset_samples(ps_clr, Treatment==\"C\")\n",
    "ps_clr_CON\n",
    "\n",
    "genets=c(\"G_48\", \"G_62\")\n",
    "ps_clr_N = subset_samples(ps_clr, Treatment==\"N\" & Genotype %in% genets)\n",
    "ps_clr_N\n",
    "\n",
    "genets=c(\"G_48\", \"G_62\", \"G_31\")\n",
    "ps_clr_NP = subset_samples(ps_clr, Treatment==\"NP\" & Genotype %in% genets)\n",
    "ps_clr_NP\n",
    "\n",
    "#subset by timepoints\n",
    "ps_clr_time1 = subset_samples(ps_clr, TimePoint==\"T-1\" )\n",
    "ps_clr_time1\n",
    "ps_time1 = subset_samples(ps, TimePoint==\"T-1\" )\n",
    "ps_time1\n",
    "\n",
    "genets=c(\"G_48\", \"G_62\", \"G_31\")\n",
    "ps_clr_time2 = subset_samples(ps_clr, TimePoint==\"T-2\" & Genotype %in% genets )\n",
    "ps_clr_time2\n",
    "genets=c(\"G_48\", \"G_62\", \"G_31\")\n",
    "ps_clr_time3 = subset_samples(ps_clr, TimePoint==\"T-3\" & Genotype %in% genets)\n",
    "ps_clr_time3"
   ]
  },
  {
   "cell_type": "code",
   "execution_count": 46,
   "id": "69674072",
   "metadata": {
    "button": false,
    "new_sheet": false,
    "run_control": {
     "read_only": false
    }
   },
   "outputs": [
    {
     "data": {
      "text/plain": [
       "\n",
       "Call:\n",
       "adonis(formula = ps_clr_df ~ Treatment * TimePoint * Genotype,      data = ps_clr_meta, permutations = 999, method = \"euclidean\") \n",
       "\n",
       "Permutation: free\n",
       "Number of permutations: 999\n",
       "\n",
       "Terms added sequentially (first to last)\n",
       "\n",
       "                              Df SumsOfSqs MeanSqs F.Model      R2 Pr(>F)    \n",
       "Treatment                      2      4727  2363.5  3.9928 0.03452  0.001 ***\n",
       "TimePoint                      2     17939  8969.6 15.1525 0.13102  0.001 ***\n",
       "Genotype                       5      7126  1425.3  2.4077 0.05205  0.001 ***\n",
       "Treatment:TimePoint            4      6602  1650.5  2.7882 0.04822  0.001 ***\n",
       "Treatment:Genotype            10      8184   818.4  1.3825 0.05977  0.001 ***\n",
       "TimePoint:Genotype            10      6902   690.2  1.1659 0.05041  0.077 .  \n",
       "Treatment:TimePoint:Genotype   6      3156   526.0  0.8886 0.02305  0.798    \n",
       "Residuals                    139     82282   592.0         0.60096           \n",
       "Total                        178    136918                 1.00000           \n",
       "---\n",
       "Signif. codes:  0 ‘***’ 0.001 ‘**’ 0.01 ‘*’ 0.05 ‘.’ 0.1 ‘ ’ 1"
      ]
     },
     "metadata": {},
     "output_type": "display_data"
    }
   ],
   "source": [
    "#What explains the most variation\n",
    "\n",
    "ps_clr_df=as.data.frame(otu_table(ps_clr))\n",
    "ps_clr_meta= as(sample_data(ps_clr), \"data.frame\")\n",
    "\n",
    "adonis(ps_clr_df~Treatment*TimePoint*Genotype, \n",
    "       data= ps_clr_meta, permutations = 999,\n",
    "         method = \"euclidean\") \n",
    "#Timepoits has the biggest effect so I will parse the data by timepoints"
   ]
  },
  {
   "cell_type": "code",
   "execution_count": 10,
   "id": "500a5de4",
   "metadata": {
    "button": false,
    "new_sheet": false,
    "run_control": {
     "read_only": false
    }
   },
   "outputs": [
    {
     "data": {
      "text/plain": [
       "\n",
       "Call:\n",
       "adonis(formula = ps_clr_df ~ Treatment * Genotype, data = ps_clr_meta,      permutations = 999, method = \"euclidean\") \n",
       "\n",
       "Permutation: free\n",
       "Number of permutations: 999\n",
       "\n",
       "Terms added sequentially (first to last)\n",
       "\n",
       "                   Df SumsOfSqs MeanSqs F.Model      R2 Pr(>F)    \n",
       "Treatment           2      2014 1007.04  1.5169 0.03329  0.015 *  \n",
       "Genotype            5      6568 1313.62  1.9787 0.10857  0.001 ***\n",
       "Treatment:Genotype 10      7433  743.34  1.1197 0.12287  0.096 .  \n",
       "Residuals          67     44481  663.89         0.73526           \n",
       "Total              84     60496                 1.00000           \n",
       "---\n",
       "Signif. codes:  0 ‘***’ 0.001 ‘**’ 0.01 ‘*’ 0.05 ‘.’ 0.1 ‘ ’ 1"
      ]
     },
     "metadata": {},
     "output_type": "display_data"
    },
    {
     "data": {
      "text/plain": [
       "\n",
       "Call:\n",
       "adonis(formula = ps_clr_df ~ Treatment * Genotype, data = ps_clr_meta,      permutations = 999, method = \"euclidean\") \n",
       "\n",
       "Permutation: free\n",
       "Number of permutations: 999\n",
       "\n",
       "Terms added sequentially (first to last)\n",
       "\n",
       "                   Df SumsOfSqs MeanSqs F.Model      R2 Pr(>F)    \n",
       "Treatment           2    1569.0  784.52  2.1141 0.10716  0.001 ***\n",
       "Genotype            2     697.9  348.94  0.9403 0.04766  0.625    \n",
       "Treatment:Genotype  3    1242.4  414.14  1.1160 0.08485  0.163    \n",
       "Residuals          30   11132.9  371.10         0.76033           \n",
       "Total              37   14642.2                 1.00000           \n",
       "---\n",
       "Signif. codes:  0 ‘***’ 0.001 ‘**’ 0.01 ‘*’ 0.05 ‘.’ 0.1 ‘ ’ 1"
      ]
     },
     "metadata": {},
     "output_type": "display_data"
    },
    {
     "data": {
      "text/plain": [
       "\n",
       "Call:\n",
       "adonis(formula = ps_clr_df ~ Treatment * Genotype, data = ps_clr_meta,      permutations = 999, method = \"euclidean\") \n",
       "\n",
       "Permutation: free\n",
       "Number of permutations: 999\n",
       "\n",
       "Terms added sequentially (first to last)\n",
       "\n",
       "                   Df SumsOfSqs MeanSqs F.Model      R2 Pr(>F)    \n",
       "Treatment           2    5009.0 2504.51  3.5499 0.20824  0.001 ***\n",
       "Genotype            2    1280.5  640.25  0.9075 0.05323  0.570    \n",
       "Treatment:Genotype  3    2243.1  747.71  1.0598 0.09325  0.332    \n",
       "Residuals          22   15521.5  705.52         0.64527           \n",
       "Total              29   24054.1                 1.00000           \n",
       "---\n",
       "Signif. codes:  0 ‘***’ 0.001 ‘**’ 0.01 ‘*’ 0.05 ‘.’ 0.1 ‘ ’ 1"
      ]
     },
     "metadata": {},
     "output_type": "display_data"
    }
   ],
   "source": [
    "#By time point\n",
    "ps_clr_df=as.data.frame(otu_table(ps_clr_time1))\n",
    "ps_clr_meta= as(sample_data(ps_clr_time1), \"data.frame\")\n",
    "\n",
    "adonis(ps_clr_df~Treatment*Genotype, \n",
    "       data= ps_clr_meta, permutations = 999,\n",
    "         method = \"euclidean\") \n",
    "#At timepoint 1 genotype has the largest effect\n",
    "\n",
    "\n",
    "ps_clr_df=as.data.frame(otu_table(ps_clr_time2))\n",
    "ps_clr_meta= as(sample_data(ps_clr_time2), \"data.frame\")\n",
    "\n",
    "adonis(ps_clr_df~Treatment*Genotype, \n",
    "       data= ps_clr_meta, permutations = 999,\n",
    "         method = \"euclidean\") \n",
    "#At timepoint 1 genotype has the largest effect\n",
    "\n",
    "\n",
    "ps_clr_df=as.data.frame(otu_table(ps_clr_time3))\n",
    "ps_clr_meta= as(sample_data(ps_clr_time3), \"data.frame\")\n",
    "\n",
    "adonis(ps_clr_df~Treatment*Genotype, \n",
    "       data= ps_clr_meta, permutations = 999,\n",
    "         method = \"euclidean\") \n",
    "#At timepoint 1 genotype has the largest effect"
   ]
  },
  {
   "cell_type": "code",
   "execution_count": 15,
   "id": "1b2826ef",
   "metadata": {
    "button": false,
    "new_sheet": false,
    "run_control": {
     "read_only": false
    }
   },
   "outputs": [
    {
     "data": {
      "text/plain": [
       "\n",
       "Permutation test for homogeneity of multivariate dispersions\n",
       "Permutation: free\n",
       "Number of permutations: 999\n",
       "\n",
       "Response: Distances\n",
       "          Df  Sum Sq Mean Sq      F N.Perm Pr(>F)    \n",
       "Groups     5 2205.73  441.15 20.389    999  0.001 ***\n",
       "Residuals 24  519.28   21.64                         \n",
       "---\n",
       "Signif. codes:  0 ‘***’ 0.001 ‘**’ 0.01 ‘*’ 0.05 ‘.’ 0.1 ‘ ’ 1\n",
       "\n",
       "Pairwise comparisons:\n",
       "(Observed p-value below diagonal, permuted p-value above diagonal)\n",
       "           G_31       G_48       G_50       G_62        G_7   G_8\n",
       "G_31            6.4000e-01 7.5100e-01 1.8700e-01 1.0000e-03 0.016\n",
       "G_48 6.3412e-01            9.3300e-01 3.1400e-01 1.0000e-03 0.073\n",
       "G_50 7.4560e-01 9.2403e-01            3.3900e-01 1.0000e-03 0.102\n",
       "G_62 2.1094e-01 3.1573e-01 3.7392e-01            1.0000e-03 0.727\n",
       "G_7  3.5954e-08 4.6290e-07 5.0892e-06 2.1948e-04            0.008\n",
       "G_8  1.7792e-03 8.1718e-02 1.1052e-01 6.4989e-01 3.0797e-04      "
      ]
     },
     "metadata": {},
     "output_type": "display_data"
    },
    {
     "data": {
      "text/plain": [
       "  Tukey multiple comparisons of means\n",
       "    95% family-wise confidence level\n",
       "\n",
       "Fit: aov(formula = distances ~ group, data = df)\n",
       "\n",
       "$group\n",
       "                 diff        lwr       upr     p adj\n",
       "G_48-G_31   1.0025836  -7.706250  9.711417 0.9991471\n",
       "G_50-G_31   0.7265155  -8.921334 10.374365 0.9998928\n",
       "G_62-G_31   4.8393277  -3.869506 13.548161 0.5337201\n",
       "G_7-G_31   21.9239724  13.502639 30.345306 0.0000004\n",
       "G_8-G_31    7.6215586  -4.411424 19.654541 0.3936372\n",
       "G_50-G_48  -0.2760682  -9.559716  9.007579 0.9999989\n",
       "G_62-G_48   3.8367441  -4.466803 12.140291 0.7099927\n",
       "G_7-G_48   20.9213888  12.919891 28.922887 0.0000004\n",
       "G_8-G_48    6.6189750  -5.124014 18.361964 0.5187158\n",
       "G_62-G_50   4.1128123  -5.170835 13.396460 0.7438677\n",
       "G_7-G_50   21.1974569  12.182958 30.211956 0.0000023\n",
       "G_8-G_50    6.8950431  -5.560277 19.350363 0.5376828\n",
       "G_7-G_62   17.0846447   9.083147 25.086143 0.0000108\n",
       "G_8-G_62    2.7822309  -8.960758 14.525219 0.9757995\n",
       "G_8-G_7   -14.3024138 -25.833800 -2.771028 0.0091959\n"
      ]
     },
     "metadata": {},
     "output_type": "display_data"
    },
    {
     "data": {
      "text/plain": [
       "\n",
       "Call:\n",
       "adonis(formula = ps_clr_df_C1 ~ Genotype, data = ps_clr_meta_C1,      permutations = 999, method = \"euclidean\") \n",
       "\n",
       "Permutation: free\n",
       "Number of permutations: 999\n",
       "\n",
       "Terms added sequentially (first to last)\n",
       "\n",
       "          Df SumsOfSqs MeanSqs F.Model      R2 Pr(>F)   \n",
       "Genotype   5    4993.9  998.78  1.5628 0.24561  0.005 **\n",
       "Residuals 24   15338.7  639.11         0.75439          \n",
       "Total     29   20332.6                 1.00000          \n",
       "---\n",
       "Signif. codes:  0 ‘***’ 0.001 ‘**’ 0.01 ‘*’ 0.05 ‘.’ 0.1 ‘ ’ 1"
      ]
     },
     "metadata": {},
     "output_type": "display_data"
    },
    {
     "name": "stderr",
     "output_type": "stream",
     "text": [
      "'nperm' >= set of all permutations: complete enumeration.\n",
      "\n",
      "Set of permutations < 'minperm'. Generating entire set.\n",
      "\n",
      "Set of permutations < 'minperm'. Generating entire set.\n",
      "\n"
     ]
    },
    {
     "data": {
      "text/html": [
       "<table class=\"dataframe\">\n",
       "<caption>A pwadonis: 15 × 8</caption>\n",
       "<thead>\n",
       "\t<tr><th scope=col>pairs</th><th scope=col>Df</th><th scope=col>SumsOfSqs</th><th scope=col>F.Model</th><th scope=col>R2</th><th scope=col>p.value</th><th scope=col>p.adjusted</th><th scope=col>sig</th></tr>\n",
       "\t<tr><th scope=col>&lt;chr&gt;</th><th scope=col>&lt;dbl&gt;</th><th scope=col>&lt;dbl&gt;</th><th scope=col>&lt;dbl&gt;</th><th scope=col>&lt;dbl&gt;</th><th scope=col>&lt;dbl&gt;</th><th scope=col>&lt;dbl&gt;</th><th scope=col>&lt;chr&gt;</th></tr>\n",
       "</thead>\n",
       "<tbody>\n",
       "\t<tr><td>G_50 vs G_62</td><td>1</td><td> 515.9389</td><td>1.2975703</td><td>0.13956015</td><td>0.1150000</td><td>1.000</td><td> </td></tr>\n",
       "\t<tr><td>G_50 vs G_8 </td><td>1</td><td> 721.9226</td><td>1.6194681</td><td>0.28818885</td><td>0.1333333</td><td>1.000</td><td> </td></tr>\n",
       "\t<tr><td>G_50 vs G_31</td><td>1</td><td> 350.4987</td><td>1.3472666</td><td>0.16140213</td><td>0.0880000</td><td>1.000</td><td> </td></tr>\n",
       "\t<tr><td>G_50 vs G_7 </td><td>1</td><td>1878.3625</td><td>1.7245689</td><td>0.16080543</td><td>0.0180000</td><td>0.270</td><td> </td></tr>\n",
       "\t<tr><td>G_50 vs G_48</td><td>1</td><td> 407.8850</td><td>1.4547260</td><td>0.15386232</td><td>0.0520000</td><td>0.780</td><td> </td></tr>\n",
       "\t<tr><td>G_62 vs G_8 </td><td>1</td><td> 742.9434</td><td>1.3852245</td><td>0.18756701</td><td>0.2750000</td><td>1.000</td><td> </td></tr>\n",
       "\t<tr><td>G_62 vs G_31</td><td>1</td><td> 435.4739</td><td>1.2037117</td><td>0.11796802</td><td>0.0650000</td><td>0.975</td><td> </td></tr>\n",
       "\t<tr><td>G_62 vs G_7 </td><td>1</td><td>1811.4289</td><td>1.7731455</td><td>0.13881823</td><td>0.0030000</td><td>0.045</td><td>.</td></tr>\n",
       "\t<tr><td>G_62 vs G_48</td><td>1</td><td> 353.2476</td><td>0.9604379</td><td>0.08762769</td><td>0.5760000</td><td>1.000</td><td> </td></tr>\n",
       "\t<tr><td>G_8 vs G_31 </td><td>1</td><td> 663.4942</td><td>1.7853720</td><td>0.26312073</td><td>0.2390000</td><td>1.000</td><td> </td></tr>\n",
       "\t<tr><td>G_8 vs G_7  </td><td>1</td><td>1265.5220</td><td>0.9003014</td><td>0.11395785</td><td>0.6660000</td><td>1.000</td><td> </td></tr>\n",
       "\t<tr><td>G_8 vs G_48 </td><td>1</td><td> 738.7627</td><td>1.9439921</td><td>0.24471224</td><td>0.1280000</td><td>1.000</td><td> </td></tr>\n",
       "\t<tr><td>G_31 vs G_7 </td><td>1</td><td>1879.7496</td><td>1.9030368</td><td>0.15987826</td><td>0.0040000</td><td>0.060</td><td> </td></tr>\n",
       "\t<tr><td>G_31 vs G_48</td><td>1</td><td> 290.8390</td><td>1.1291703</td><td>0.11147708</td><td>0.2120000</td><td>1.000</td><td> </td></tr>\n",
       "\t<tr><td>G_7 vs G_48 </td><td>1</td><td>2016.0936</td><td>2.1531864</td><td>0.16370075</td><td>0.0060000</td><td>0.090</td><td> </td></tr>\n",
       "</tbody>\n",
       "</table>\n"
      ],
      "text/latex": [
       "A pwadonis: 15 × 8\n",
       "\\begin{tabular}{llllllll}\n",
       " pairs & Df & SumsOfSqs & F.Model & R2 & p.value & p.adjusted & sig\\\\\n",
       " <chr> & <dbl> & <dbl> & <dbl> & <dbl> & <dbl> & <dbl> & <chr>\\\\\n",
       "\\hline\n",
       "\t G\\_50 vs G\\_62 & 1 &  515.9389 & 1.2975703 & 0.13956015 & 0.1150000 & 1.000 &  \\\\\n",
       "\t G\\_50 vs G\\_8  & 1 &  721.9226 & 1.6194681 & 0.28818885 & 0.1333333 & 1.000 &  \\\\\n",
       "\t G\\_50 vs G\\_31 & 1 &  350.4987 & 1.3472666 & 0.16140213 & 0.0880000 & 1.000 &  \\\\\n",
       "\t G\\_50 vs G\\_7  & 1 & 1878.3625 & 1.7245689 & 0.16080543 & 0.0180000 & 0.270 &  \\\\\n",
       "\t G\\_50 vs G\\_48 & 1 &  407.8850 & 1.4547260 & 0.15386232 & 0.0520000 & 0.780 &  \\\\\n",
       "\t G\\_62 vs G\\_8  & 1 &  742.9434 & 1.3852245 & 0.18756701 & 0.2750000 & 1.000 &  \\\\\n",
       "\t G\\_62 vs G\\_31 & 1 &  435.4739 & 1.2037117 & 0.11796802 & 0.0650000 & 0.975 &  \\\\\n",
       "\t G\\_62 vs G\\_7  & 1 & 1811.4289 & 1.7731455 & 0.13881823 & 0.0030000 & 0.045 & .\\\\\n",
       "\t G\\_62 vs G\\_48 & 1 &  353.2476 & 0.9604379 & 0.08762769 & 0.5760000 & 1.000 &  \\\\\n",
       "\t G\\_8 vs G\\_31  & 1 &  663.4942 & 1.7853720 & 0.26312073 & 0.2390000 & 1.000 &  \\\\\n",
       "\t G\\_8 vs G\\_7   & 1 & 1265.5220 & 0.9003014 & 0.11395785 & 0.6660000 & 1.000 &  \\\\\n",
       "\t G\\_8 vs G\\_48  & 1 &  738.7627 & 1.9439921 & 0.24471224 & 0.1280000 & 1.000 &  \\\\\n",
       "\t G\\_31 vs G\\_7  & 1 & 1879.7496 & 1.9030368 & 0.15987826 & 0.0040000 & 0.060 &  \\\\\n",
       "\t G\\_31 vs G\\_48 & 1 &  290.8390 & 1.1291703 & 0.11147708 & 0.2120000 & 1.000 &  \\\\\n",
       "\t G\\_7 vs G\\_48  & 1 & 2016.0936 & 2.1531864 & 0.16370075 & 0.0060000 & 0.090 &  \\\\\n",
       "\\end{tabular}\n"
      ],
      "text/markdown": [
       "\n",
       "A pwadonis: 15 × 8\n",
       "\n",
       "| pairs &lt;chr&gt; | Df &lt;dbl&gt; | SumsOfSqs &lt;dbl&gt; | F.Model &lt;dbl&gt; | R2 &lt;dbl&gt; | p.value &lt;dbl&gt; | p.adjusted &lt;dbl&gt; | sig &lt;chr&gt; |\n",
       "|---|---|---|---|---|---|---|---|\n",
       "| G_50 vs G_62 | 1 |  515.9389 | 1.2975703 | 0.13956015 | 0.1150000 | 1.000 | <!----> |\n",
       "| G_50 vs G_8  | 1 |  721.9226 | 1.6194681 | 0.28818885 | 0.1333333 | 1.000 | <!----> |\n",
       "| G_50 vs G_31 | 1 |  350.4987 | 1.3472666 | 0.16140213 | 0.0880000 | 1.000 | <!----> |\n",
       "| G_50 vs G_7  | 1 | 1878.3625 | 1.7245689 | 0.16080543 | 0.0180000 | 0.270 | <!----> |\n",
       "| G_50 vs G_48 | 1 |  407.8850 | 1.4547260 | 0.15386232 | 0.0520000 | 0.780 | <!----> |\n",
       "| G_62 vs G_8  | 1 |  742.9434 | 1.3852245 | 0.18756701 | 0.2750000 | 1.000 | <!----> |\n",
       "| G_62 vs G_31 | 1 |  435.4739 | 1.2037117 | 0.11796802 | 0.0650000 | 0.975 | <!----> |\n",
       "| G_62 vs G_7  | 1 | 1811.4289 | 1.7731455 | 0.13881823 | 0.0030000 | 0.045 | . |\n",
       "| G_62 vs G_48 | 1 |  353.2476 | 0.9604379 | 0.08762769 | 0.5760000 | 1.000 | <!----> |\n",
       "| G_8 vs G_31  | 1 |  663.4942 | 1.7853720 | 0.26312073 | 0.2390000 | 1.000 | <!----> |\n",
       "| G_8 vs G_7   | 1 | 1265.5220 | 0.9003014 | 0.11395785 | 0.6660000 | 1.000 | <!----> |\n",
       "| G_8 vs G_48  | 1 |  738.7627 | 1.9439921 | 0.24471224 | 0.1280000 | 1.000 | <!----> |\n",
       "| G_31 vs G_7  | 1 | 1879.7496 | 1.9030368 | 0.15987826 | 0.0040000 | 0.060 | <!----> |\n",
       "| G_31 vs G_48 | 1 |  290.8390 | 1.1291703 | 0.11147708 | 0.2120000 | 1.000 | <!----> |\n",
       "| G_7 vs G_48  | 1 | 2016.0936 | 2.1531864 | 0.16370075 | 0.0060000 | 0.090 | <!----> |\n",
       "\n"
      ],
      "text/plain": [
       "   pairs        Df SumsOfSqs F.Model   R2         p.value   p.adjusted sig\n",
       "1  G_50 vs G_62 1   515.9389 1.2975703 0.13956015 0.1150000 1.000         \n",
       "2  G_50 vs G_8  1   721.9226 1.6194681 0.28818885 0.1333333 1.000         \n",
       "3  G_50 vs G_31 1   350.4987 1.3472666 0.16140213 0.0880000 1.000         \n",
       "4  G_50 vs G_7  1  1878.3625 1.7245689 0.16080543 0.0180000 0.270         \n",
       "5  G_50 vs G_48 1   407.8850 1.4547260 0.15386232 0.0520000 0.780         \n",
       "6  G_62 vs G_8  1   742.9434 1.3852245 0.18756701 0.2750000 1.000         \n",
       "7  G_62 vs G_31 1   435.4739 1.2037117 0.11796802 0.0650000 0.975         \n",
       "8  G_62 vs G_7  1  1811.4289 1.7731455 0.13881823 0.0030000 0.045      .  \n",
       "9  G_62 vs G_48 1   353.2476 0.9604379 0.08762769 0.5760000 1.000         \n",
       "10 G_8 vs G_31  1   663.4942 1.7853720 0.26312073 0.2390000 1.000         \n",
       "11 G_8 vs G_7   1  1265.5220 0.9003014 0.11395785 0.6660000 1.000         \n",
       "12 G_8 vs G_48  1   738.7627 1.9439921 0.24471224 0.1280000 1.000         \n",
       "13 G_31 vs G_7  1  1879.7496 1.9030368 0.15987826 0.0040000 0.060         \n",
       "14 G_31 vs G_48 1   290.8390 1.1291703 0.11147708 0.2120000 1.000         \n",
       "15 G_7 vs G_48  1  2016.0936 2.1531864 0.16370075 0.0060000 0.090         "
      ]
     },
     "metadata": {},
     "output_type": "display_data"
    },
    {
     "data": {
      "image/png": "[encoded data removed]",
      "text/plain": [
       "plot without title"
      ]
     },
     "metadata": {
      "image/png": {
       "height": 420,
       "width": 420
      }
     },
     "output_type": "display_data"
    }
   ],
   "source": [
    "##Genotype differences\n",
    "\n",
    "#distances between controls only\n",
    "ps_clr.dist_C1<- vegdist(otu_table(ps_clr_C1), method =\"euclidean\")\n",
    "## Calculate multivariate dispersions\n",
    "mod_geno <- betadisper(ps_clr.dist_C1, sample_data(ps_clr_C1)$Genotype)\n",
    "#test the pair-wise comparisons for Multivariate Homogeneity Of Groups Dispersions (Variances)\n",
    "permutest(mod_geno, pairwise = TRUE, permutations = 999)\n",
    "TukeyHSD(mod_geno)\n",
    "boxplot(mod_geno)\n",
    "\n",
    "\n",
    "#test control-1 samples for genotype differences\n",
    "\n",
    "ps_clr_df_C1=as.data.frame(otu_table(ps_clr_C1))\n",
    "ps_clr_meta_C1= as(sample_data(ps_clr_C1), \"data.frame\")\n",
    "\n",
    "adonis(ps_clr_df_C1~Genotype, \n",
    "       data= ps_clr_meta_C1, permutations = 999,\n",
    "         method = \"euclidean\") \n",
    "\n",
    "\n",
    "pairwise.adonis(ps_clr_df_C1, ps_clr_meta_C1$Genotype, sim.method = \"euclidean\",\n",
    "                p.adjust.m = \"bonferroni\")\n",
    "\n",
    "\n",
    "#Pairwise from tukey AC7 is diferent from AC31, AC48, AC50, AC62, AC8\n",
    "#Permutest groups are sid diff and AC7 is different from all genotypes\n",
    "# Adonis sig different \n",
    "#Pairwise adonis only AC7 was different from AC62, Ac31, AC48"
   ]
  },
  {
   "cell_type": "code",
   "execution_count": 67,
   "id": "0916a729",
   "metadata": {
    "button": false,
    "new_sheet": false,
    "run_control": {
     "read_only": false
    }
   },
   "outputs": [
    {
     "data": {
      "text/plain": [
       "  Tukey multiple comparisons of means\n",
       "    95% family-wise confidence level\n",
       "\n",
       "Fit: aov(formula = distances ~ group, data = df)\n",
       "\n",
       "$group\n",
       "          diff        lwr      upr     p adj\n",
       "N-C   1.164715  -6.880105 9.209535 0.9363412\n",
       "NP-C -1.024303  -8.843030 6.794423 0.9475578\n",
       "NP-N -2.189018 -10.297981 5.919945 0.7960592\n"
      ]
     },
     "metadata": {},
     "output_type": "display_data"
    },
    {
     "data": {
      "text/plain": [
       "\n",
       "Permutation test for homogeneity of multivariate dispersions\n",
       "Permutation: free\n",
       "Number of permutations: 999\n",
       "\n",
       "Response: Distances\n",
       "          Df  Sum Sq Mean Sq      F N.Perm Pr(>F)\n",
       "Groups     2    65.7  32.847 0.2076    999  0.811\n",
       "Residuals 82 12973.2 158.210                     \n",
       "\n",
       "Pairwise comparisons:\n",
       "(Observed p-value below diagonal, permuted p-value above diagonal)\n",
       "         C       N    NP\n",
       "C          0.75700 0.742\n",
       "N  0.74639         0.529\n",
       "NP 0.73069 0.53481      "
      ]
     },
     "metadata": {},
     "output_type": "display_data"
    },
    {
     "data": {
      "text/plain": [
       "\n",
       "Call:\n",
       "adonis(formula = ps_clr_time1_df ~ Treatment:Genotype, data = ps_clr_time1_meta,      permutations = 999, method = \"euclidean\", strata = ps_clr_time1_meta$Genotype) \n",
       "\n",
       "Blocks:  strata \n",
       "Permutation: free\n",
       "Number of permutations: 999\n",
       "\n",
       "Terms added sequentially (first to last)\n",
       "\n",
       "                   Df SumsOfSqs MeanSqs F.Model      R2 Pr(>F)  \n",
       "Treatment:Genotype 17     16016  942.10   1.419 0.26474  0.016 *\n",
       "Residuals          67     44481  663.89         0.73526         \n",
       "Total              84     60496                 1.00000         \n",
       "---\n",
       "Signif. codes:  0 ‘***’ 0.001 ‘**’ 0.01 ‘*’ 0.05 ‘.’ 0.1 ‘ ’ 1"
      ]
     },
     "metadata": {},
     "output_type": "display_data"
    },
    {
     "data": {
      "text/html": [
       "<table class=\"dataframe\">\n",
       "<caption>A pwadonis: 3 × 8</caption>\n",
       "<thead>\n",
       "\t<tr><th scope=col>pairs</th><th scope=col>Df</th><th scope=col>SumsOfSqs</th><th scope=col>F.Model</th><th scope=col>R2</th><th scope=col>p.value</th><th scope=col>p.adjusted</th><th scope=col>sig</th></tr>\n",
       "\t<tr><th scope=col>&lt;chr&gt;</th><th scope=col>&lt;dbl&gt;</th><th scope=col>&lt;dbl&gt;</th><th scope=col>&lt;dbl&gt;</th><th scope=col>&lt;dbl&gt;</th><th scope=col>&lt;dbl&gt;</th><th scope=col>&lt;dbl&gt;</th><th scope=col>&lt;chr&gt;</th></tr>\n",
       "</thead>\n",
       "<tbody>\n",
       "\t<tr><td>NP vs C</td><td>1</td><td> 968.2937</td><td>1.451148</td><td>0.02482668</td><td>0.035</td><td>0.105</td><td></td></tr>\n",
       "\t<tr><td>NP vs N</td><td>1</td><td> 945.9534</td><td>1.314180</td><td>0.02419589</td><td>0.102</td><td>0.306</td><td></td></tr>\n",
       "\t<tr><td>C vs N </td><td>1</td><td>1107.8527</td><td>1.466956</td><td>0.02644738</td><td>0.068</td><td>0.204</td><td></td></tr>\n",
       "</tbody>\n",
       "</table>\n"
      ],
      "text/latex": [
       "A pwadonis: 3 × 8\n",
       "\\begin{tabular}{llllllll}\n",
       " pairs & Df & SumsOfSqs & F.Model & R2 & p.value & p.adjusted & sig\\\\\n",
       " <chr> & <dbl> & <dbl> & <dbl> & <dbl> & <dbl> & <dbl> & <chr>\\\\\n",
       "\\hline\n",
       "\t NP vs C & 1 &  968.2937 & 1.451148 & 0.02482668 & 0.035 & 0.105 & \\\\\n",
       "\t NP vs N & 1 &  945.9534 & 1.314180 & 0.02419589 & 0.102 & 0.306 & \\\\\n",
       "\t C vs N  & 1 & 1107.8527 & 1.466956 & 0.02644738 & 0.068 & 0.204 & \\\\\n",
       "\\end{tabular}\n"
      ],
      "text/markdown": [
       "\n",
       "A pwadonis: 3 × 8\n",
       "\n",
       "| pairs &lt;chr&gt; | Df &lt;dbl&gt; | SumsOfSqs &lt;dbl&gt; | F.Model &lt;dbl&gt; | R2 &lt;dbl&gt; | p.value &lt;dbl&gt; | p.adjusted &lt;dbl&gt; | sig &lt;chr&gt; |\n",
       "|---|---|---|---|---|---|---|---|\n",
       "| NP vs C | 1 |  968.2937 | 1.451148 | 0.02482668 | 0.035 | 0.105 | <!----> |\n",
       "| NP vs N | 1 |  945.9534 | 1.314180 | 0.02419589 | 0.102 | 0.306 | <!----> |\n",
       "| C vs N  | 1 | 1107.8527 | 1.466956 | 0.02644738 | 0.068 | 0.204 | <!----> |\n",
       "\n"
      ],
      "text/plain": [
       "  pairs   Df SumsOfSqs F.Model  R2         p.value p.adjusted sig\n",
       "1 NP vs C 1   968.2937 1.451148 0.02482668 0.035   0.105         \n",
       "2 NP vs N 1   945.9534 1.314180 0.02419589 0.102   0.306         \n",
       "3 C vs N  1  1107.8527 1.466956 0.02644738 0.068   0.204         "
      ]
     },
     "metadata": {},
     "output_type": "display_data"
    },
    {
     "data": {
      "image/png": "[encoded data removed]",
      "text/plain": [
       "plot without title"
      ]
     },
     "metadata": {
      "image/png": {
       "height": 420,
       "width": 420
      }
     },
     "output_type": "display_data"
    }
   ],
   "source": [
    "#distances between T-1 only test nutrient treatment\n",
    "ps_clr_time1.dist <- vegdist(otu_table(ps_clr_time1), method =\"euclidean\")\n",
    "## Calculate multivariate dispersions\n",
    "mod_T1 <- betadisper(ps_clr_time1.dist, sample_data(ps_clr_time1)$Treatment)\n",
    "#test the pair-wise comparisons for Multivariate Homogeneity Of Groups Dispersions (Variances)\n",
    "TukeyHSD(mod_T1)\n",
    "permutest(mod_T1, pairwise = TRUE, permutations = 999)\n",
    "boxplot(mod_T1)\n",
    "\n",
    "\n",
    "#test t-1 samples for treatment differences\n",
    "\n",
    "ps_clr_time1_df=as.data.frame(otu_table(ps_clr_time1))\n",
    "ps_clr_time1_meta= as(sample_data(ps_clr_time1), \"data.frame\")\n",
    "\n",
    "adonis(ps_clr_time1_df~Treatment:Genotype, \n",
    "       data= ps_clr_time1_meta, permutations = 999,\n",
    "         method = \"euclidean\", strata=ps_clr_time1_meta$Genotype) \n",
    "\n",
    "\n",
    "pairwise.adonis(ps_clr_time1_df, ps_clr_time1_meta$Treatment, sim.method = \"euclidean\",\n",
    "                p.adjust.m = \"bonferroni\")\n",
    "\n",
    "\n",
    "#variance not significant\n",
    "#group differences are sig, but not pairwise\n",
    "\n"
   ]
  },
  {
   "cell_type": "code",
   "execution_count": 49,
   "id": "36a464f2",
   "metadata": {
    "button": false,
    "new_sheet": false,
    "run_control": {
     "read_only": false
    }
   },
   "outputs": [
    {
     "data": {
      "text/plain": [
       "  Tukey multiple comparisons of means\n",
       "    95% family-wise confidence level\n",
       "\n",
       "Fit: aov(formula = distances ~ group, data = df)\n",
       "\n",
       "$group\n",
       "           diff       lwr      upr     p adj\n",
       "N-C   3.9794592 -1.208048 9.166967 0.1602863\n",
       "NP-C  0.2052711 -4.530254 4.940796 0.9938161\n",
       "NP-N -3.7741881 -8.961696 1.413319 0.1908718\n"
      ]
     },
     "metadata": {},
     "output_type": "display_data"
    },
    {
     "data": {
      "text/plain": [
       "\n",
       "Permutation test for homogeneity of multivariate dispersions\n",
       "Permutation: free\n",
       "Number of permutations: 999\n",
       "\n",
       "Response: Distances\n",
       "          Df Sum Sq Mean Sq      F N.Perm Pr(>F)\n",
       "Groups     2 111.04   55.52 2.1183    999  0.132\n",
       "Residuals 35 917.35   26.21                     \n",
       "\n",
       "Pairwise comparisons:\n",
       "(Observed p-value below diagonal, permuted p-value above diagonal)\n",
       "          C        N    NP\n",
       "C           0.083000 0.904\n",
       "N  0.090053          0.124\n",
       "NP 0.898093 0.127768      "
      ]
     },
     "metadata": {},
     "output_type": "display_data"
    },
    {
     "data": {
      "text/plain": [
       "\n",
       "Call:\n",
       "adonis(formula = ps_clr_time2_df ~ Treatment, data = ps_clr_time2_meta,      permutations = 999, method = \"euclidean\", strata = ps_clr_time2_meta$Genotype) \n",
       "\n",
       "Blocks:  strata \n",
       "Permutation: free\n",
       "Number of permutations: 999\n",
       "\n",
       "Terms added sequentially (first to last)\n",
       "\n",
       "          Df SumsOfSqs MeanSqs F.Model      R2 Pr(>F)    \n",
       "Treatment  2      1569  784.52  2.1003 0.10716  0.001 ***\n",
       "Residuals 35     13073  373.52         0.89284           \n",
       "Total     37     14642                 1.00000           \n",
       "---\n",
       "Signif. codes:  0 ‘***’ 0.001 ‘**’ 0.01 ‘*’ 0.05 ‘.’ 0.1 ‘ ’ 1"
      ]
     },
     "metadata": {},
     "output_type": "display_data"
    },
    {
     "data": {
      "text/html": [
       "<table class=\"dataframe\">\n",
       "<caption>A pwadonis: 3 × 8</caption>\n",
       "<thead>\n",
       "\t<tr><th scope=col>pairs</th><th scope=col>Df</th><th scope=col>SumsOfSqs</th><th scope=col>F.Model</th><th scope=col>R2</th><th scope=col>p.value</th><th scope=col>p.adjusted</th><th scope=col>sig</th></tr>\n",
       "\t<tr><th scope=col>&lt;chr&gt;</th><th scope=col>&lt;dbl&gt;</th><th scope=col>&lt;dbl&gt;</th><th scope=col>&lt;dbl&gt;</th><th scope=col>&lt;dbl&gt;</th><th scope=col>&lt;dbl&gt;</th><th scope=col>&lt;dbl&gt;</th><th scope=col>&lt;chr&gt;</th></tr>\n",
       "</thead>\n",
       "<tbody>\n",
       "\t<tr><td>N vs NP</td><td>1</td><td>981.9880</td><td>2.411705</td><td>0.09879298</td><td>0.001</td><td>0.003</td><td>*</td></tr>\n",
       "\t<tr><td>N vs C </td><td>1</td><td>706.2955</td><td>1.768679</td><td>0.07441219</td><td>0.005</td><td>0.015</td><td>.</td></tr>\n",
       "\t<tr><td>NP vs C</td><td>1</td><td>682.3060</td><td>2.111127</td><td>0.07509934</td><td>0.001</td><td>0.003</td><td>*</td></tr>\n",
       "</tbody>\n",
       "</table>\n"
      ],
      "text/latex": [
       "A pwadonis: 3 × 8\n",
       "\\begin{tabular}{llllllll}\n",
       " pairs & Df & SumsOfSqs & F.Model & R2 & p.value & p.adjusted & sig\\\\\n",
       " <chr> & <dbl> & <dbl> & <dbl> & <dbl> & <dbl> & <dbl> & <chr>\\\\\n",
       "\\hline\n",
       "\t N vs NP & 1 & 981.9880 & 2.411705 & 0.09879298 & 0.001 & 0.003 & *\\\\\n",
       "\t N vs C  & 1 & 706.2955 & 1.768679 & 0.07441219 & 0.005 & 0.015 & .\\\\\n",
       "\t NP vs C & 1 & 682.3060 & 2.111127 & 0.07509934 & 0.001 & 0.003 & *\\\\\n",
       "\\end{tabular}\n"
      ],
      "text/markdown": [
       "\n",
       "A pwadonis: 3 × 8\n",
       "\n",
       "| pairs &lt;chr&gt; | Df &lt;dbl&gt; | SumsOfSqs &lt;dbl&gt; | F.Model &lt;dbl&gt; | R2 &lt;dbl&gt; | p.value &lt;dbl&gt; | p.adjusted &lt;dbl&gt; | sig &lt;chr&gt; |\n",
       "|---|---|---|---|---|---|---|---|\n",
       "| N vs NP | 1 | 981.9880 | 2.411705 | 0.09879298 | 0.001 | 0.003 | * |\n",
       "| N vs C  | 1 | 706.2955 | 1.768679 | 0.07441219 | 0.005 | 0.015 | . |\n",
       "| NP vs C | 1 | 682.3060 | 2.111127 | 0.07509934 | 0.001 | 0.003 | * |\n",
       "\n"
      ],
      "text/plain": [
       "  pairs   Df SumsOfSqs F.Model  R2         p.value p.adjusted sig\n",
       "1 N vs NP 1  981.9880  2.411705 0.09879298 0.001   0.003      *  \n",
       "2 N vs C  1  706.2955  1.768679 0.07441219 0.005   0.015      .  \n",
       "3 NP vs C 1  682.3060  2.111127 0.07509934 0.001   0.003      *  "
      ]
     },
     "metadata": {},
     "output_type": "display_data"
    },
    {
     "data": {
      "image/png": "[encoded data removed]",
      "text/plain": [
       "plot without title"
      ]
     },
     "metadata": {
      "image/png": {
       "height": 420,
       "width": 420
      }
     },
     "output_type": "display_data"
    }
   ],
   "source": [
    "#distances between T-2 only test treatment\n",
    "ps_clr_time2.dist <- vegdist(otu_table(ps_clr_time2), method =\"euclidean\")\n",
    "## Calculate multivariate dispersions\n",
    "mod_T2 <- betadisper(ps_clr_time2.dist, sample_data(ps_clr_time2)$Treatment)\n",
    "#test the pair-wise comparisons for Multivariate Homogeneity Of Groups Dispersions (Variances)\n",
    "TukeyHSD(mod_T2)\n",
    "permutest(mod_T2, pairwise = TRUE, permutations = 999)\n",
    "boxplot(mod_T2)\n",
    "\n",
    "\n",
    "#test t-1 samples for treatment differences\n",
    "\n",
    "ps_clr_time2_df=as.data.frame(otu_table(ps_clr_time2))\n",
    "ps_clr_time2_meta= as(sample_data(ps_clr_time2), \"data.frame\")\n",
    "\n",
    "adonis(ps_clr_time2_df~Treatment, \n",
    "       data= ps_clr_time2_meta, permutations = 999,\n",
    "         method = \"euclidean\", strata=ps_clr_time2_meta$Genotype) \n",
    "\n",
    "\n",
    "pairwise.adonis(ps_clr_time2_df, ps_clr_time2_meta$Treatment, sim.method = \"euclidean\",\n",
    "                p.adjust.m = \"bonferroni\")\n",
    "\n",
    "\n",
    "#variance not significant\n",
    "#group differences are sig, and so are all pairwise\n",
    "\n"
   ]
  },
  {
   "cell_type": "code",
   "execution_count": 50,
   "id": "43abebb5",
   "metadata": {
    "button": false,
    "new_sheet": false,
    "run_control": {
     "read_only": false
    }
   },
   "outputs": [
    {
     "data": {
      "text/plain": [
       "  Tukey multiple comparisons of means\n",
       "    95% family-wise confidence level\n",
       "\n",
       "Fit: aov(formula = distances ~ group, data = df)\n",
       "\n",
       "$group\n",
       "         diff       lwr       upr     p adj\n",
       "N-C  2.605983 -3.716796  8.928763 0.5697386\n",
       "NP-C 6.920887  2.031101 11.810674 0.0044020\n",
       "NP-N 4.314904 -2.230838 10.860646 0.2488702\n"
      ]
     },
     "metadata": {},
     "output_type": "display_data"
    },
    {
     "data": {
      "text/plain": [
       "\n",
       "Permutation test for homogeneity of multivariate dispersions\n",
       "Permutation: free\n",
       "Number of permutations: 999\n",
       "\n",
       "Response: Distances\n",
       "          Df Sum Sq Mean Sq      F N.Perm Pr(>F)   \n",
       "Groups     2 295.86 147.930 6.1744    999  0.008 **\n",
       "Residuals 27 646.88  23.959                        \n",
       "---\n",
       "Signif. codes:  0 ‘***’ 0.001 ‘**’ 0.01 ‘*’ 0.05 ‘.’ 0.1 ‘ ’ 1\n",
       "\n",
       "Pairwise comparisons:\n",
       "(Observed p-value below diagonal, permuted p-value above diagonal)\n",
       "           C         N    NP\n",
       "C            0.3030000 0.002\n",
       "N  0.3179552           0.196\n",
       "NP 0.0005005 0.1923609      "
      ]
     },
     "metadata": {},
     "output_type": "display_data"
    },
    {
     "data": {
      "text/plain": [
       "\n",
       "Call:\n",
       "adonis(formula = ps_clr_time3_df ~ Treatment, data = ps_clr_time3_meta,      permutations = 999, method = \"euclidean\", strata = ps_clr_time3_meta$Genotype) \n",
       "\n",
       "Blocks:  strata \n",
       "Permutation: free\n",
       "Number of permutations: 999\n",
       "\n",
       "Terms added sequentially (first to last)\n",
       "\n",
       "          Df SumsOfSqs MeanSqs F.Model      R2 Pr(>F)    \n",
       "Treatment  2      5009 2504.51  3.5506 0.20824  0.001 ***\n",
       "Residuals 27     19045  705.37         0.79176           \n",
       "Total     29     24054                 1.00000           \n",
       "---\n",
       "Signif. codes:  0 ‘***’ 0.001 ‘**’ 0.01 ‘*’ 0.05 ‘.’ 0.1 ‘ ’ 1"
      ]
     },
     "metadata": {},
     "output_type": "display_data"
    },
    {
     "data": {
      "text/html": [
       "<table class=\"dataframe\">\n",
       "<caption>A pwadonis: 3 × 8</caption>\n",
       "<thead>\n",
       "\t<tr><th scope=col>pairs</th><th scope=col>Df</th><th scope=col>SumsOfSqs</th><th scope=col>F.Model</th><th scope=col>R2</th><th scope=col>p.value</th><th scope=col>p.adjusted</th><th scope=col>sig</th></tr>\n",
       "\t<tr><th scope=col>&lt;chr&gt;</th><th scope=col>&lt;dbl&gt;</th><th scope=col>&lt;dbl&gt;</th><th scope=col>&lt;dbl&gt;</th><th scope=col>&lt;dbl&gt;</th><th scope=col>&lt;dbl&gt;</th><th scope=col>&lt;dbl&gt;</th><th scope=col>&lt;chr&gt;</th></tr>\n",
       "</thead>\n",
       "<tbody>\n",
       "\t<tr><td>C vs N </td><td>1</td><td>3673.012</td><td>6.339351</td><td>0.2716164</td><td>0.001</td><td>0.003</td><td>*</td></tr>\n",
       "\t<tr><td>C vs NP</td><td>1</td><td>2129.041</td><td>3.075380</td><td>0.1179419</td><td>0.001</td><td>0.003</td><td>*</td></tr>\n",
       "\t<tr><td>N vs NP</td><td>1</td><td>1703.578</td><td>1.936228</td><td>0.1214985</td><td>0.014</td><td>0.042</td><td>.</td></tr>\n",
       "</tbody>\n",
       "</table>\n"
      ],
      "text/latex": [
       "A pwadonis: 3 × 8\n",
       "\\begin{tabular}{llllllll}\n",
       " pairs & Df & SumsOfSqs & F.Model & R2 & p.value & p.adjusted & sig\\\\\n",
       " <chr> & <dbl> & <dbl> & <dbl> & <dbl> & <dbl> & <dbl> & <chr>\\\\\n",
       "\\hline\n",
       "\t C vs N  & 1 & 3673.012 & 6.339351 & 0.2716164 & 0.001 & 0.003 & *\\\\\n",
       "\t C vs NP & 1 & 2129.041 & 3.075380 & 0.1179419 & 0.001 & 0.003 & *\\\\\n",
       "\t N vs NP & 1 & 1703.578 & 1.936228 & 0.1214985 & 0.014 & 0.042 & .\\\\\n",
       "\\end{tabular}\n"
      ],
      "text/markdown": [
       "\n",
       "A pwadonis: 3 × 8\n",
       "\n",
       "| pairs &lt;chr&gt; | Df &lt;dbl&gt; | SumsOfSqs &lt;dbl&gt; | F.Model &lt;dbl&gt; | R2 &lt;dbl&gt; | p.value &lt;dbl&gt; | p.adjusted &lt;dbl&gt; | sig &lt;chr&gt; |\n",
       "|---|---|---|---|---|---|---|---|\n",
       "| C vs N  | 1 | 3673.012 | 6.339351 | 0.2716164 | 0.001 | 0.003 | * |\n",
       "| C vs NP | 1 | 2129.041 | 3.075380 | 0.1179419 | 0.001 | 0.003 | * |\n",
       "| N vs NP | 1 | 1703.578 | 1.936228 | 0.1214985 | 0.014 | 0.042 | . |\n",
       "\n"
      ],
      "text/plain": [
       "  pairs   Df SumsOfSqs F.Model  R2        p.value p.adjusted sig\n",
       "1 C vs N  1  3673.012  6.339351 0.2716164 0.001   0.003      *  \n",
       "2 C vs NP 1  2129.041  3.075380 0.1179419 0.001   0.003      *  \n",
       "3 N vs NP 1  1703.578  1.936228 0.1214985 0.014   0.042      .  "
      ]
     },
     "metadata": {},
     "output_type": "display_data"
    },
    {
     "data": {
      "image/png": "[encoded data removed]",
      "text/plain": [
       "plot without title"
      ]
     },
     "metadata": {
      "image/png": {
       "height": 420,
       "width": 420
      }
     },
     "output_type": "display_data"
    }
   ],
   "source": [
    "#distances between T-3 only test treatment\n",
    "ps_clr_time3.dist <- vegdist(otu_table(ps_clr_time3), method =\"euclidean\")\n",
    "## Calculate multivariate dispersions\n",
    "mod_T3 <- betadisper(ps_clr_time3.dist, sample_data(ps_clr_time3)$Treatment)\n",
    "#test the pair-wise comparisons for Multivariate Homogeneity Of Groups Dispersions (Variances)\n",
    "TukeyHSD(mod_T3)\n",
    "permutest(mod_T3, pairwise = TRUE, permutations = 999)\n",
    "boxplot(mod_T3)\n",
    "\n",
    "\n",
    "#test t-1 samples for treatment differences\n",
    "\n",
    "ps_clr_time3_df=as.data.frame(otu_table(ps_clr_time3))\n",
    "ps_clr_time3_meta= as(sample_data(ps_clr_time3), \"data.frame\")\n",
    "\n",
    "adonis(ps_clr_time3_df~Treatment, \n",
    "       data= ps_clr_time3_meta, permutations = 999,\n",
    "         method = \"euclidean\", strata=ps_clr_time3_meta$Genotype) \n",
    "\n",
    "\n",
    "\n",
    "pairwise.adonis(ps_clr_time3_df, ps_clr_time3_meta$Treatment, sim.method = \"euclidean\",\n",
    "                p.adjust.m = \"bonferroni\")\n",
    "\n",
    "\n",
    "#variance was significant and pairwise between Np and C\n",
    "#group differences are sig, and C and Np and N"
   ]
  },
  {
   "cell_type": "code",
   "execution_count": 61,
   "id": "43d9bd43",
   "metadata": {
    "button": false,
    "new_sheet": false,
    "run_control": {
     "read_only": false
    }
   },
   "outputs": [
    {
     "data": {
      "text/plain": [
       "  Tukey multiple comparisons of means\n",
       "    95% family-wise confidence level\n",
       "\n",
       "Fit: aov(formula = distances ~ group, data = df)\n",
       "\n",
       "$group\n",
       "              diff       lwr      upr     p adj\n",
       "T-2-T-1 -2.6267846 -8.009327 2.755758 0.4773155\n",
       "T-3-T-1 -0.6257123 -6.114290 4.862865 0.9600034\n",
       "T-3-T-2  2.0010723 -3.577773 7.579917 0.6691708\n"
      ]
     },
     "metadata": {},
     "output_type": "display_data"
    },
    {
     "data": {
      "text/plain": [
       "\n",
       "Permutation test for homogeneity of multivariate dispersions\n",
       "Permutation: free\n",
       "Number of permutations: 999\n",
       "\n",
       "Response: Distances\n",
       "          Df Sum Sq Mean Sq      F N.Perm Pr(>F)\n",
       "Groups     2  107.3  53.670 0.7291    999  0.485\n",
       "Residuals 81 5962.2  73.608                     \n",
       "\n",
       "Pairwise comparisons:\n",
       "(Observed p-value below diagonal, permuted p-value above diagonal)\n",
       "        T-1     T-2   T-3\n",
       "T-1         0.32800 0.814\n",
       "T-2 0.32555         0.223\n",
       "T-3 0.79517 0.23076      "
      ]
     },
     "metadata": {},
     "output_type": "display_data"
    },
    {
     "data": {
      "text/plain": [
       "\n",
       "Call:\n",
       "adonis(formula = ps_clr_df_CON ~ TimePoint, data = ps_clr_meta_CON,      permutations = 999, method = \"euclidean\", strata = ps_clr_meta_CON$Genotype) \n",
       "\n",
       "Blocks:  strata \n",
       "Permutation: free\n",
       "Number of permutations: 999\n",
       "\n",
       "Terms added sequentially (first to last)\n",
       "\n",
       "          Df SumsOfSqs MeanSqs F.Model      R2 Pr(>F)    \n",
       "TimePoint  2     13221  6610.6  11.135 0.21564  0.001 ***\n",
       "Residuals 81     48089   593.7         0.78436           \n",
       "Total     83     61311                 1.00000           \n",
       "---\n",
       "Signif. codes:  0 ‘***’ 0.001 ‘**’ 0.01 ‘*’ 0.05 ‘.’ 0.1 ‘ ’ 1"
      ]
     },
     "metadata": {},
     "output_type": "display_data"
    },
    {
     "data": {
      "text/html": [
       "<table class=\"dataframe\">\n",
       "<caption>A pwadonis: 3 × 8</caption>\n",
       "<thead>\n",
       "\t<tr><th scope=col>pairs</th><th scope=col>Df</th><th scope=col>SumsOfSqs</th><th scope=col>F.Model</th><th scope=col>R2</th><th scope=col>p.value</th><th scope=col>p.adjusted</th><th scope=col>sig</th></tr>\n",
       "\t<tr><th scope=col>&lt;chr&gt;</th><th scope=col>&lt;dbl&gt;</th><th scope=col>&lt;dbl&gt;</th><th scope=col>&lt;dbl&gt;</th><th scope=col>&lt;dbl&gt;</th><th scope=col>&lt;dbl&gt;</th><th scope=col>&lt;dbl&gt;</th><th scope=col>&lt;chr&gt;</th></tr>\n",
       "</thead>\n",
       "<tbody>\n",
       "\t<tr><td>T-2 vs T-1</td><td>1</td><td>3454.632</td><td> 5.670923</td><td>0.09195457</td><td>0.001</td><td>0.003</td><td>*</td></tr>\n",
       "\t<tr><td>T-2 vs T-3</td><td>1</td><td>6489.811</td><td>12.158100</td><td>0.18950218</td><td>0.001</td><td>0.003</td><td>*</td></tr>\n",
       "\t<tr><td>T-1 vs T-3</td><td>1</td><td>9995.755</td><td>15.733171</td><td>0.22561961</td><td>0.001</td><td>0.003</td><td>*</td></tr>\n",
       "</tbody>\n",
       "</table>\n"
      ],
      "text/latex": [
       "A pwadonis: 3 × 8\n",
       "\\begin{tabular}{llllllll}\n",
       " pairs & Df & SumsOfSqs & F.Model & R2 & p.value & p.adjusted & sig\\\\\n",
       " <chr> & <dbl> & <dbl> & <dbl> & <dbl> & <dbl> & <dbl> & <chr>\\\\\n",
       "\\hline\n",
       "\t T-2 vs T-1 & 1 & 3454.632 &  5.670923 & 0.09195457 & 0.001 & 0.003 & *\\\\\n",
       "\t T-2 vs T-3 & 1 & 6489.811 & 12.158100 & 0.18950218 & 0.001 & 0.003 & *\\\\\n",
       "\t T-1 vs T-3 & 1 & 9995.755 & 15.733171 & 0.22561961 & 0.001 & 0.003 & *\\\\\n",
       "\\end{tabular}\n"
      ],
      "text/markdown": [
       "\n",
       "A pwadonis: 3 × 8\n",
       "\n",
       "| pairs &lt;chr&gt; | Df &lt;dbl&gt; | SumsOfSqs &lt;dbl&gt; | F.Model &lt;dbl&gt; | R2 &lt;dbl&gt; | p.value &lt;dbl&gt; | p.adjusted &lt;dbl&gt; | sig &lt;chr&gt; |\n",
       "|---|---|---|---|---|---|---|---|\n",
       "| T-2 vs T-1 | 1 | 3454.632 |  5.670923 | 0.09195457 | 0.001 | 0.003 | * |\n",
       "| T-2 vs T-3 | 1 | 6489.811 | 12.158100 | 0.18950218 | 0.001 | 0.003 | * |\n",
       "| T-1 vs T-3 | 1 | 9995.755 | 15.733171 | 0.22561961 | 0.001 | 0.003 | * |\n",
       "\n"
      ],
      "text/plain": [
       "  pairs      Df SumsOfSqs F.Model   R2         p.value p.adjusted sig\n",
       "1 T-2 vs T-1 1  3454.632   5.670923 0.09195457 0.001   0.003      *  \n",
       "2 T-2 vs T-3 1  6489.811  12.158100 0.18950218 0.001   0.003      *  \n",
       "3 T-1 vs T-3 1  9995.755  15.733171 0.22561961 0.001   0.003      *  "
      ]
     },
     "metadata": {},
     "output_type": "display_data"
    },
    {
     "data": {
      "image/png": "[encoded data removed]",
      "text/plain": [
       "plot without title"
      ]
     },
     "metadata": {
      "image/png": {
       "height": 420,
       "width": 420
      }
     },
     "output_type": "display_data"
    }
   ],
   "source": [
    "#distances between controls from three time points at Ambient(control)\n",
    "ps_clr.dist_CON <- vegdist(otu_table(ps_clr_CON), method =\"euclidean\")\n",
    "## Calculate multivariate dispersions\n",
    "mod_geno <- betadisper(ps_clr.dist_CON, sample_data(ps_clr_CON)$TimePoint)\n",
    "#test the pair-wise comparisons for Multivariate Homogeneity Of Groups Dispersions (Variances)\n",
    "TukeyHSD(mod_geno)\n",
    "permutest(mod_geno, pairwise = TRUE, permutations = 999, strata=Genotype)\n",
    "boxplot(mod_geno)\n",
    "\n",
    "\n",
    "#test control-1 samples for genotype differences\n",
    "\n",
    "ps_clr_df_CON=as.data.frame(otu_table(ps_clr_CON))\n",
    "ps_clr_meta_CON= as(sample_data(ps_clr_CON), \"data.frame\")\n",
    "\n",
    "adonis(ps_clr_df_CON~TimePoint, \n",
    "       data= ps_clr_meta_CON, permutations = 999,\n",
    "         method = \"euclidean\",  strata=ps_clr_meta_CON$Genotype) \n",
    "\n",
    "\n",
    "pairwise.adonis(ps_clr_df_CON, ps_clr_meta_CON$TimePoint, sim.method = \"euclidean\",\n",
    "                p.adjust.m = \"bonferroni\")\n",
    "\n",
    "#Dispersion is not sig\n",
    "#Grouping are sig and so are all pairwise"
   ]
  },
  {
   "cell_type": "code",
   "execution_count": 63,
   "id": "0fe59ce1",
   "metadata": {
    "button": false,
    "new_sheet": false,
    "run_control": {
     "read_only": false
    }
   },
   "outputs": [
    {
     "data": {
      "text/plain": [
       "  Tukey multiple comparisons of means\n",
       "    95% family-wise confidence level\n",
       "\n",
       "Fit: aov(formula = distances ~ group, data = df)\n",
       "\n",
       "$group\n",
       "            diff       lwr      upr     p adj\n",
       "T-2-T-1 1.753148 -10.79031 14.29660 0.9348871\n",
       "T-3-T-1 5.268855 -10.21512 20.75283 0.6750674\n",
       "T-3-T-2 3.515707 -12.20835 19.23976 0.8424402\n"
      ]
     },
     "metadata": {},
     "output_type": "display_data"
    },
    {
     "data": {
      "text/plain": [
       "\n",
       "Permutation test for homogeneity of multivariate dispersions\n",
       "Permutation: free\n",
       "Number of permutations: 999\n",
       "\n",
       "Response: Distances\n",
       "          Df Sum Sq Mean Sq      F N.Perm Pr(>F)\n",
       "Groups     2   95.5  47.749 0.3634    999  0.713\n",
       "Residuals 23 3022.4 131.408                     \n",
       "\n",
       "Pairwise comparisons:\n",
       "(Observed p-value below diagonal, permuted p-value above diagonal)\n",
       "        T-1     T-2   T-3\n",
       "T-1         0.74300 0.484\n",
       "T-2 0.74417         0.388\n",
       "T-3 0.48223 0.39476      "
      ]
     },
     "metadata": {},
     "output_type": "display_data"
    },
    {
     "data": {
      "text/plain": [
       "\n",
       "Call:\n",
       "adonis(formula = ps_clr_df_N ~ TimePoint, data = ps_clr_meta_N,      permutations = 999, method = \"euclidean\", strata = ps_clr_meta_N$Genotype) \n",
       "\n",
       "Blocks:  strata \n",
       "Permutation: free\n",
       "Number of permutations: 999\n",
       "\n",
       "Terms added sequentially (first to last)\n",
       "\n",
       "          Df SumsOfSqs MeanSqs F.Model      R2 Pr(>F)    \n",
       "TimePoint  2    4122.4 2061.19   3.471 0.23185  0.001 ***\n",
       "Residuals 23   13658.0  593.83         0.76815           \n",
       "Total     25   17780.4                 1.00000           \n",
       "---\n",
       "Signif. codes:  0 ‘***’ 0.001 ‘**’ 0.01 ‘*’ 0.05 ‘.’ 0.1 ‘ ’ 1"
      ]
     },
     "metadata": {},
     "output_type": "display_data"
    },
    {
     "data": {
      "text/html": [
       "<table class=\"dataframe\">\n",
       "<caption>A pwadonis: 3 × 8</caption>\n",
       "<thead>\n",
       "\t<tr><th scope=col>pairs</th><th scope=col>Df</th><th scope=col>SumsOfSqs</th><th scope=col>F.Model</th><th scope=col>R2</th><th scope=col>p.value</th><th scope=col>p.adjusted</th><th scope=col>sig</th></tr>\n",
       "\t<tr><th scope=col>&lt;chr&gt;</th><th scope=col>&lt;dbl&gt;</th><th scope=col>&lt;dbl&gt;</th><th scope=col>&lt;dbl&gt;</th><th scope=col>&lt;dbl&gt;</th><th scope=col>&lt;dbl&gt;</th><th scope=col>&lt;dbl&gt;</th><th scope=col>&lt;chr&gt;</th></tr>\n",
       "</thead>\n",
       "<tbody>\n",
       "\t<tr><td>T-2 vs T-1</td><td>1</td><td>1742.219</td><td>3.141967</td><td>0.1419010</td><td>0.001</td><td>0.003</td><td>*</td></tr>\n",
       "\t<tr><td>T-2 vs T-3</td><td>1</td><td>1930.974</td><td>3.221349</td><td>0.1985870</td><td>0.001</td><td>0.003</td><td>*</td></tr>\n",
       "\t<tr><td>T-1 vs T-3</td><td>1</td><td>2601.930</td><td>4.052887</td><td>0.2245007</td><td>0.001</td><td>0.003</td><td>*</td></tr>\n",
       "</tbody>\n",
       "</table>\n"
      ],
      "text/latex": [
       "A pwadonis: 3 × 8\n",
       "\\begin{tabular}{llllllll}\n",
       " pairs & Df & SumsOfSqs & F.Model & R2 & p.value & p.adjusted & sig\\\\\n",
       " <chr> & <dbl> & <dbl> & <dbl> & <dbl> & <dbl> & <dbl> & <chr>\\\\\n",
       "\\hline\n",
       "\t T-2 vs T-1 & 1 & 1742.219 & 3.141967 & 0.1419010 & 0.001 & 0.003 & *\\\\\n",
       "\t T-2 vs T-3 & 1 & 1930.974 & 3.221349 & 0.1985870 & 0.001 & 0.003 & *\\\\\n",
       "\t T-1 vs T-3 & 1 & 2601.930 & 4.052887 & 0.2245007 & 0.001 & 0.003 & *\\\\\n",
       "\\end{tabular}\n"
      ],
      "text/markdown": [
       "\n",
       "A pwadonis: 3 × 8\n",
       "\n",
       "| pairs &lt;chr&gt; | Df &lt;dbl&gt; | SumsOfSqs &lt;dbl&gt; | F.Model &lt;dbl&gt; | R2 &lt;dbl&gt; | p.value &lt;dbl&gt; | p.adjusted &lt;dbl&gt; | sig &lt;chr&gt; |\n",
       "|---|---|---|---|---|---|---|---|\n",
       "| T-2 vs T-1 | 1 | 1742.219 | 3.141967 | 0.1419010 | 0.001 | 0.003 | * |\n",
       "| T-2 vs T-3 | 1 | 1930.974 | 3.221349 | 0.1985870 | 0.001 | 0.003 | * |\n",
       "| T-1 vs T-3 | 1 | 2601.930 | 4.052887 | 0.2245007 | 0.001 | 0.003 | * |\n",
       "\n"
      ],
      "text/plain": [
       "  pairs      Df SumsOfSqs F.Model  R2        p.value p.adjusted sig\n",
       "1 T-2 vs T-1 1  1742.219  3.141967 0.1419010 0.001   0.003      *  \n",
       "2 T-2 vs T-3 1  1930.974  3.221349 0.1985870 0.001   0.003      *  \n",
       "3 T-1 vs T-3 1  2601.930  4.052887 0.2245007 0.001   0.003      *  "
      ]
     },
     "metadata": {},
     "output_type": "display_data"
    },
    {
     "data": {
      "image/png": "[encoded data removed]",
      "text/plain": [
       "plot without title"
      ]
     },
     "metadata": {
      "image/png": {
       "height": 420,
       "width": 420
      }
     },
     "output_type": "display_data"
    }
   ],
   "source": [
    "#distances between controls from three time points o\n",
    "ps_clr.dist_N <- vegdist(otu_table(ps_clr_N), method =\"euclidean\")\n",
    "## Calculate multivariate dispersions\n",
    "mod_N <- betadisper(ps_clr.dist_N, sample_data(ps_clr_N)$TimePoint)\n",
    "#test the pair-wise comparisons for Multivariate Homogeneity Of Groups Dispersions (Variances)\n",
    "TukeyHSD(mod_N)\n",
    "permutest(mod_N, pairwise = TRUE, permutations = 999)\n",
    "boxplot(mod_N)\n",
    "\n",
    "\n",
    "#test control-1 samples for genotype differences\n",
    "\n",
    "ps_clr_df_N=as.data.frame(otu_table(ps_clr_N))\n",
    "ps_clr_meta_N= as(sample_data(ps_clr_N), \"data.frame\")\n",
    "\n",
    "adonis(ps_clr_df_N~TimePoint, \n",
    "       data= ps_clr_meta_N, permutations = 999,\n",
    "         method = \"euclidean\",  strata=ps_clr_meta_N$Genotype) \n",
    "\n",
    "\n",
    "pairwise.adonis(ps_clr_df_N, ps_clr_meta_N$TimePoint, sim.method = \"euclidean\",\n",
    "                p.adjust.m = \"bonferroni\")\n",
    "\n",
    "#Dispersion is not sig\n",
    "#Grouping are sig and so are all pairwise"
   ]
  },
  {
   "cell_type": "code",
   "execution_count": 64,
   "id": "edcc413c",
   "metadata": {
    "button": false,
    "new_sheet": false,
    "run_control": {
     "read_only": false
    }
   },
   "outputs": [
    {
     "data": {
      "text/plain": [
       "phyloseq-class experiment-level object\n",
       "otu_table()   OTU Table:         [ 666 taxa and 41 samples ]\n",
       "sample_data() Sample Data:       [ 41 samples by 59 sample variables ]\n",
       "tax_table()   Taxonomy Table:    [ 666 taxa by 8 taxonomic ranks ]\n",
       "phy_tree()    Phylogenetic Tree: [ 666 tips and 665 internal nodes ]"
      ]
     },
     "metadata": {},
     "output_type": "display_data"
    }
   ],
   "source": [
    "ps_clr_NP"
   ]
  },
  {
   "cell_type": "code",
   "execution_count": 65,
   "id": "6ee30940",
   "metadata": {
    "button": false,
    "new_sheet": false,
    "run_control": {
     "read_only": false
    }
   },
   "outputs": [
    {
     "data": {
      "text/plain": [
       "  Tukey multiple comparisons of means\n",
       "    95% family-wise confidence level\n",
       "\n",
       "Fit: aov(formula = distances ~ group, data = df)\n",
       "\n",
       "$group\n",
       "             diff       lwr       upr     p adj\n",
       "T-2-T-1 -2.391853 -9.093333  4.309628 0.6619662\n",
       "T-3-T-1  9.212946  2.040626 16.385267 0.0091237\n",
       "T-3-T-2 11.604799  4.226712 18.982886 0.0013028\n"
      ]
     },
     "metadata": {},
     "output_type": "display_data"
    },
    {
     "data": {
      "text/plain": [
       "\n",
       "Permutation test for homogeneity of multivariate dispersions\n",
       "Permutation: free\n",
       "Number of permutations: 999\n",
       "\n",
       "Response: Distances\n",
       "          Df  Sum Sq Mean Sq      F N.Perm Pr(>F)    \n",
       "Groups     2  901.45  450.73 7.9948    999  0.001 ***\n",
       "Residuals 38 2142.35   56.38                         \n",
       "---\n",
       "Signif. codes:  0 ‘***’ 0.001 ‘**’ 0.01 ‘*’ 0.05 ‘.’ 0.1 ‘ ’ 1\n",
       "\n",
       "Pairwise comparisons:\n",
       "(Observed p-value below diagonal, permuted p-value above diagonal)\n",
       "           T-1        T-2   T-3\n",
       "T-1            4.5800e-01 0.004\n",
       "T-2 4.3388e-01            0.001\n",
       "T-3 1.1739e-02 3.3470e-06      "
      ]
     },
     "metadata": {},
     "output_type": "display_data"
    },
    {
     "data": {
      "text/plain": [
       "\n",
       "Call:\n",
       "adonis(formula = ps_clr_df_NP ~ TimePoint, data = ps_clr_meta_NP,      permutations = 999, method = \"euclidean\", strata = ps_clr_meta_NP$Genotype) \n",
       "\n",
       "Blocks:  strata \n",
       "Permutation: free\n",
       "Number of permutations: 999\n",
       "\n",
       "Terms added sequentially (first to last)\n",
       "\n",
       "          Df SumsOfSqs MeanSqs F.Model      R2 Pr(>F)    \n",
       "TimePoint  2    5298.1 2649.06  4.8216 0.20241  0.001 ***\n",
       "Residuals 38   20877.7  549.41         0.79759           \n",
       "Total     40   26175.8                 1.00000           \n",
       "---\n",
       "Signif. codes:  0 ‘***’ 0.001 ‘**’ 0.01 ‘*’ 0.05 ‘.’ 0.1 ‘ ’ 1"
      ]
     },
     "metadata": {},
     "output_type": "display_data"
    },
    {
     "data": {
      "text/html": [
       "<table class=\"dataframe\">\n",
       "<caption>A pwadonis: 3 × 8</caption>\n",
       "<thead>\n",
       "\t<tr><th scope=col>pairs</th><th scope=col>Df</th><th scope=col>SumsOfSqs</th><th scope=col>F.Model</th><th scope=col>R2</th><th scope=col>p.value</th><th scope=col>p.adjusted</th><th scope=col>sig</th></tr>\n",
       "\t<tr><th scope=col>&lt;chr&gt;</th><th scope=col>&lt;dbl&gt;</th><th scope=col>&lt;dbl&gt;</th><th scope=col>&lt;dbl&gt;</th><th scope=col>&lt;dbl&gt;</th><th scope=col>&lt;dbl&gt;</th><th scope=col>&lt;dbl&gt;</th><th scope=col>&lt;chr&gt;</th></tr>\n",
       "</thead>\n",
       "<tbody>\n",
       "\t<tr><td>T-2 vs T-1</td><td>1</td><td>2083.594</td><td>4.993898</td><td>0.1513582</td><td>0.001</td><td>0.003</td><td>*</td></tr>\n",
       "\t<tr><td>T-2 vs T-3</td><td>1</td><td>2356.258</td><td>4.019402</td><td>0.1487598</td><td>0.001</td><td>0.003</td><td>*</td></tr>\n",
       "\t<tr><td>T-1 vs T-3</td><td>1</td><td>3548.472</td><td>5.347339</td><td>0.1762045</td><td>0.001</td><td>0.003</td><td>*</td></tr>\n",
       "</tbody>\n",
       "</table>\n"
      ],
      "text/latex": [
       "A pwadonis: 3 × 8\n",
       "\\begin{tabular}{llllllll}\n",
       " pairs & Df & SumsOfSqs & F.Model & R2 & p.value & p.adjusted & sig\\\\\n",
       " <chr> & <dbl> & <dbl> & <dbl> & <dbl> & <dbl> & <dbl> & <chr>\\\\\n",
       "\\hline\n",
       "\t T-2 vs T-1 & 1 & 2083.594 & 4.993898 & 0.1513582 & 0.001 & 0.003 & *\\\\\n",
       "\t T-2 vs T-3 & 1 & 2356.258 & 4.019402 & 0.1487598 & 0.001 & 0.003 & *\\\\\n",
       "\t T-1 vs T-3 & 1 & 3548.472 & 5.347339 & 0.1762045 & 0.001 & 0.003 & *\\\\\n",
       "\\end{tabular}\n"
      ],
      "text/markdown": [
       "\n",
       "A pwadonis: 3 × 8\n",
       "\n",
       "| pairs &lt;chr&gt; | Df &lt;dbl&gt; | SumsOfSqs &lt;dbl&gt; | F.Model &lt;dbl&gt; | R2 &lt;dbl&gt; | p.value &lt;dbl&gt; | p.adjusted &lt;dbl&gt; | sig &lt;chr&gt; |\n",
       "|---|---|---|---|---|---|---|---|\n",
       "| T-2 vs T-1 | 1 | 2083.594 | 4.993898 | 0.1513582 | 0.001 | 0.003 | * |\n",
       "| T-2 vs T-3 | 1 | 2356.258 | 4.019402 | 0.1487598 | 0.001 | 0.003 | * |\n",
       "| T-1 vs T-3 | 1 | 3548.472 | 5.347339 | 0.1762045 | 0.001 | 0.003 | * |\n",
       "\n"
      ],
      "text/plain": [
       "  pairs      Df SumsOfSqs F.Model  R2        p.value p.adjusted sig\n",
       "1 T-2 vs T-1 1  2083.594  4.993898 0.1513582 0.001   0.003      *  \n",
       "2 T-2 vs T-3 1  2356.258  4.019402 0.1487598 0.001   0.003      *  \n",
       "3 T-1 vs T-3 1  3548.472  5.347339 0.1762045 0.001   0.003      *  "
      ]
     },
     "metadata": {},
     "output_type": "display_data"
    },
    {
     "data": {
      "image/png": "[encoded data removed]",
      "text/plain": [
       "plot without title"
      ]
     },
     "metadata": {
      "image/png": {
       "height": 420,
       "width": 420
      }
     },
     "output_type": "display_data"
    }
   ],
   "source": [
    "#distances between controls from three time points o\n",
    "ps_clr.dist_NP <- vegdist(otu_table(ps_clr_NP), method =\"euclidean\")\n",
    "## Calculate multivariate dispersions\n",
    "mod_NP <- betadisper(ps_clr.dist_NP, sample_data(ps_clr_NP)$TimePoint)\n",
    "#test the pair-wise comparisons for Multivariate Homogeneity Of Groups Dispersions (Variances)\n",
    "TukeyHSD(mod_NP, conf.level = 0.95)\n",
    "permutest(mod_NP, pairwise = TRUE, permutations = 999, , strata=Genotype)\n",
    "boxplot(mod_NP)\n",
    "\n",
    "\n",
    "#test control-1 samples for genotype differences\n",
    "\n",
    "ps_clr_df_NP=as.data.frame(otu_table(ps_clr_NP))\n",
    "ps_clr_meta_NP= as(sample_data(ps_clr_NP), \"data.frame\")\n",
    "\n",
    "adonis(ps_clr_df_NP~TimePoint, \n",
    "       data= ps_clr_meta_NP, permutations = 999,\n",
    "         method = \"euclidean\", strata=ps_clr_meta_NP$Genotype) \n",
    "\n",
    "\n",
    "pairwise.adonis(ps_clr_df_NP, ps_clr_meta_NP$TimePoint, sim.method = \"euclidean\",\n",
    "                p.adjust.m = \"bonferroni\")\n",
    "\n",
    "#Dispersion is sig and pairwise is for t-1 and t2\n",
    "#Grouping are sig and so are all pairwise"
   ]
  },
  {
   "cell_type": "code",
   "execution_count": 27,
   "id": "8b3d0fd3",
   "metadata": {
    "button": false,
    "new_sheet": false,
    "run_control": {
     "read_only": false
    }
   },
   "outputs": [
    {
     "name": "stderr",
     "output_type": "stream",
     "text": [
      "\n",
      "Attaching package: ‘data.table’\n",
      "\n",
      "\n",
      "The following object is masked from ‘package:purrr’:\n",
      "\n",
      "    transpose\n",
      "\n",
      "\n",
      "The following objects are masked from ‘package:dplyr’:\n",
      "\n",
      "    between, first, last\n",
      "\n",
      "\n"
     ]
    }
   ],
   "source": [
    "library(\"data.table\")\n",
    "fast_melt = function(physeq){\n",
    "  # supports \"naked\" otu_table as `physeq` input.\n",
    "  otutab = as(otu_table(physeq), \"matrix\")\n",
    "  if(!taxa_are_rows(physeq)){otutab <- t(otutab)}\n",
    "  otudt = data.table(otutab, keep.rownames = TRUE)\n",
    "  setnames(otudt, \"rn\", \"taxaID\")\n",
    "  # Enforce character taxaID key\n",
    "  otudt[, taxaIDchar := as.character(taxaID)]\n",
    "  otudt[, taxaID := NULL]\n",
    "  setnames(otudt, \"taxaIDchar\", \"taxaID\")\n",
    "  # Melt count table\n",
    "  mdt = melt.data.table(otudt, \n",
    "                        id.vars = \"taxaID\",\n",
    "                        variable.name = \"SampleID\",\n",
    "                        value.name = \"count\")\n",
    "  # Remove zeroes, NAs\n",
    "  mdt <- mdt[count > 0][!is.na(count)]\n",
    "  # Calculate relative abundance\n",
    "  mdt[, RelativeAbundance := count / sum(count), by = SampleID]\n",
    "  if(!is.null(tax_table(physeq, errorIfNULL = FALSE))){\n",
    "    # If there is a tax_table, join with it. Otherwise, skip this join.\n",
    "    taxdt = data.table(as(tax_table(physeq, errorIfNULL = TRUE), \"matrix\"), keep.rownames = TRUE)\n",
    "    setnames(taxdt, \"rn\", \"taxaID\")\n",
    "    # Enforce character taxaID key\n",
    "    taxdt[, taxaIDchar := as.character(taxaID)]\n",
    "    taxdt[, taxaID := NULL]\n",
    "    setnames(taxdt, \"taxaIDchar\", \"taxaID\")\n",
    "    # Join with tax table\n",
    "    setkey(taxdt, \"taxaID\")\n",
    "    setkey(mdt, \"taxaID\")\n",
    "    mdt <- taxdt[mdt]\n",
    "  }\n",
    "  return(mdt)\n",
    "}\n",
    "\n",
    "summarize_taxa = function(physeq, Rank, GroupBy = NULL){\n",
    "  Rank <- Rank[1]\n",
    "  if(!Rank %in% rank_names(physeq)){\n",
    "    message(\"The argument to `Rank` was:\\n\", Rank,\n",
    "            \"\\nBut it was not found among taxonomic ranks:\\n\",\n",
    "            paste0(rank_names(physeq), collapse = \", \"), \"\\n\",\n",
    "            \"Please check the list shown above and try again.\")\n",
    "  }\n",
    "  if(!is.null(GroupBy)){\n",
    "    GroupBy <- GroupBy[1]\n",
    "    if(!GroupBy %in% sample_variables(physeq)){\n",
    "      message(\"The argument to `GroupBy` was:\\n\", GroupBy,\n",
    "              \"\\nBut it was not found among sample variables:\\n\",\n",
    "              paste0(sample_variables(physeq), collapse = \", \"), \"\\n\",\n",
    "              \"Please check the list shown above and try again.\")\n",
    "    }\n",
    "  }\n",
    "  # Start with fast melt\n",
    "  mdt = fast_melt(physeq)\n",
    "  if(!is.null(GroupBy)){\n",
    "    # Add the variable indicated in `GroupBy`, if provided.\n",
    "    sdt = data.table(SampleID = sample_names(physeq),\n",
    "                     var1 = get_variable(physeq, GroupBy))\n",
    "    setnames(sdt, \"var1\", GroupBy)\n",
    "    # Join\n",
    "    setkey(sdt, SampleID)\n",
    "    setkey(mdt, SampleID)\n",
    "    mdt <- sdt[mdt]\n",
    "  }\n",
    "  # Summarize\n",
    "Nsamples = nsamples(physeq)\n",
    "  summarydt = mdt[, list(meanRA = (mean(RelativeAbundance))*100,\n",
    "                         sdRA = sd(RelativeAbundance)*100,\n",
    "                         minRA = min(RelativeAbundance)*100,\n",
    "                         maxRA = max(RelativeAbundance)*100),\n",
    "                  by = c(Rank, GroupBy)]\n",
    "  return(summarydt)\n",
    "}\n",
    "\n"
   ]
  },
  {
   "cell_type": "code",
   "execution_count": 28,
   "id": "cf5bd818",
   "metadata": {
    "button": false,
    "new_sheet": false,
    "run_control": {
     "read_only": false
    }
   },
   "outputs": [
    {
     "data": {
      "text/html": [
       "<table class=\"dataframe\">\n",
       "<caption>A data.table: 6 × 6</caption>\n",
       "<thead>\n",
       "\t<tr><th scope=col>Family</th><th scope=col>Genotype</th><th scope=col>meanRA</th><th scope=col>sdRA</th><th scope=col>minRA</th><th scope=col>maxRA</th></tr>\n",
       "\t<tr><th scope=col>&lt;chr&gt;</th><th scope=col>&lt;chr&gt;</th><th scope=col>&lt;dbl&gt;</th><th scope=col>&lt;dbl&gt;</th><th scope=col>&lt;dbl&gt;</th><th scope=col>&lt;dbl&gt;</th></tr>\n",
       "</thead>\n",
       "<tbody>\n",
       "\t<tr><td>Midichloriaceae    </td><td>G_7</td><td>10.633937</td><td>26.984090</td><td>0.03078818</td><td>97.588583</td></tr>\n",
       "\t<tr><td>Endozoicomonadaceae</td><td>G_7</td><td> 8.187019</td><td>11.728108</td><td>0.02331274</td><td>43.115990</td></tr>\n",
       "\t<tr><td>Paenibacillaceae   </td><td>G_7</td><td> 4.557799</td><td>11.303058</td><td>0.12896570</td><td>62.640354</td></tr>\n",
       "\t<tr><td>Alteromonadaceae   </td><td>G_7</td><td> 3.446926</td><td> 8.094200</td><td>0.05828185</td><td>44.827169</td></tr>\n",
       "\t<tr><td>Francisellaceae    </td><td>G_7</td><td> 1.868204</td><td> 1.842791</td><td>0.07909828</td><td> 3.760357</td></tr>\n",
       "\t<tr><td>Nostocaceae        </td><td>G_7</td><td> 1.857460</td><td> 2.242485</td><td>0.11951511</td><td> 9.103182</td></tr>\n",
       "</tbody>\n",
       "</table>\n"
      ],
      "text/latex": [
       "A data.table: 6 × 6\n",
       "\\begin{tabular}{llllll}\n",
       " Family & Genotype & meanRA & sdRA & minRA & maxRA\\\\\n",
       " <chr> & <chr> & <dbl> & <dbl> & <dbl> & <dbl>\\\\\n",
       "\\hline\n",
       "\t Midichloriaceae     & G\\_7 & 10.633937 & 26.984090 & 0.03078818 & 97.588583\\\\\n",
       "\t Endozoicomonadaceae & G\\_7 &  8.187019 & 11.728108 & 0.02331274 & 43.115990\\\\\n",
       "\t Paenibacillaceae    & G\\_7 &  4.557799 & 11.303058 & 0.12896570 & 62.640354\\\\\n",
       "\t Alteromonadaceae    & G\\_7 &  3.446926 &  8.094200 & 0.05828185 & 44.827169\\\\\n",
       "\t Francisellaceae     & G\\_7 &  1.868204 &  1.842791 & 0.07909828 &  3.760357\\\\\n",
       "\t Nostocaceae         & G\\_7 &  1.857460 &  2.242485 & 0.11951511 &  9.103182\\\\\n",
       "\\end{tabular}\n"
      ],
      "text/markdown": [
       "\n",
       "A data.table: 6 × 6\n",
       "\n",
       "| Family &lt;chr&gt; | Genotype &lt;chr&gt; | meanRA &lt;dbl&gt; | sdRA &lt;dbl&gt; | minRA &lt;dbl&gt; | maxRA &lt;dbl&gt; |\n",
       "|---|---|---|---|---|---|\n",
       "| Midichloriaceae     | G_7 | 10.633937 | 26.984090 | 0.03078818 | 97.588583 |\n",
       "| Endozoicomonadaceae | G_7 |  8.187019 | 11.728108 | 0.02331274 | 43.115990 |\n",
       "| Paenibacillaceae    | G_7 |  4.557799 | 11.303058 | 0.12896570 | 62.640354 |\n",
       "| Alteromonadaceae    | G_7 |  3.446926 |  8.094200 | 0.05828185 | 44.827169 |\n",
       "| Francisellaceae     | G_7 |  1.868204 |  1.842791 | 0.07909828 |  3.760357 |\n",
       "| Nostocaceae         | G_7 |  1.857460 |  2.242485 | 0.11951511 |  9.103182 |\n",
       "\n"
      ],
      "text/plain": [
       "  Family              Genotype meanRA    sdRA      minRA      maxRA    \n",
       "1 Midichloriaceae     G_7      10.633937 26.984090 0.03078818 97.588583\n",
       "2 Endozoicomonadaceae G_7       8.187019 11.728108 0.02331274 43.115990\n",
       "3 Paenibacillaceae    G_7       4.557799 11.303058 0.12896570 62.640354\n",
       "4 Alteromonadaceae    G_7       3.446926  8.094200 0.05828185 44.827169\n",
       "5 Francisellaceae     G_7       1.868204  1.842791 0.07909828  3.760357\n",
       "6 Nostocaceae         G_7       1.857460  2.242485 0.11951511  9.103182"
      ]
     },
     "metadata": {},
     "output_type": "display_data"
    }
   ],
   "source": [
    "subset_samples(ps, treatment==\"A\" | TimePoint==\"T-1\" ) %>%\n",
    "summarize_taxa(Rank=\"Family\", GroupBy=\"Genotype\") %>%\n",
    "filter(Genotype==\"G_7\") %>%\n",
    "arrange(-meanRA) %>%\n",
    "head()"
   ]
  },
  {
   "cell_type": "code",
   "execution_count": 31,
   "id": "4e1967b7",
   "metadata": {
    "button": false,
    "new_sheet": false,
    "run_control": {
     "read_only": false
    }
   },
   "outputs": [
    {
     "data": {
      "text/html": [
       "<table class=\"dataframe\">\n",
       "<caption>A data.table: 6 × 6</caption>\n",
       "<thead>\n",
       "\t<tr><th scope=col>Family</th><th scope=col>Treatments</th><th scope=col>meanRA</th><th scope=col>sdRA</th><th scope=col>minRA</th><th scope=col>maxRA</th></tr>\n",
       "\t<tr><th scope=col>&lt;chr&gt;</th><th scope=col>&lt;chr&gt;</th><th scope=col>&lt;dbl&gt;</th><th scope=col>&lt;dbl&gt;</th><th scope=col>&lt;dbl&gt;</th><th scope=col>&lt;dbl&gt;</th></tr>\n",
       "</thead>\n",
       "<tbody>\n",
       "\t<tr><td>Midichloriaceae </td><td>AC_D75 </td><td>60.084307</td><td>42.901967</td><td>0.02733485</td><td>98.43544</td></tr>\n",
       "\t<tr><td>Midichloriaceae </td><td>NPC_D75</td><td>58.891386</td><td>43.750137</td><td>0.02707093</td><td>98.68762</td></tr>\n",
       "\t<tr><td>Midichloriaceae </td><td>NC_D75 </td><td>42.689982</td><td>47.217763</td><td>0.01848429</td><td>99.50647</td></tr>\n",
       "\t<tr><td>Paenibacillaceae</td><td>NC_D75 </td><td> 8.042689</td><td>18.488510</td><td>0.04846918</td><td>67.57568</td></tr>\n",
       "\t<tr><td>Paenibacillaceae</td><td>NPC_D75</td><td> 4.245141</td><td>11.552734</td><td>0.04179554</td><td>62.64035</td></tr>\n",
       "\t<tr><td>Paenibacillaceae</td><td>AC_D75 </td><td> 4.125993</td><td> 5.988056</td><td>0.05216484</td><td>22.80853</td></tr>\n",
       "</tbody>\n",
       "</table>\n"
      ],
      "text/latex": [
       "A data.table: 6 × 6\n",
       "\\begin{tabular}{llllll}\n",
       " Family & Treatments & meanRA & sdRA & minRA & maxRA\\\\\n",
       " <chr> & <chr> & <dbl> & <dbl> & <dbl> & <dbl>\\\\\n",
       "\\hline\n",
       "\t Midichloriaceae  & AC\\_D75  & 60.084307 & 42.901967 & 0.02733485 & 98.43544\\\\\n",
       "\t Midichloriaceae  & NPC\\_D75 & 58.891386 & 43.750137 & 0.02707093 & 98.68762\\\\\n",
       "\t Midichloriaceae  & NC\\_D75  & 42.689982 & 47.217763 & 0.01848429 & 99.50647\\\\\n",
       "\t Paenibacillaceae & NC\\_D75  &  8.042689 & 18.488510 & 0.04846918 & 67.57568\\\\\n",
       "\t Paenibacillaceae & NPC\\_D75 &  4.245141 & 11.552734 & 0.04179554 & 62.64035\\\\\n",
       "\t Paenibacillaceae & AC\\_D75  &  4.125993 &  5.988056 & 0.05216484 & 22.80853\\\\\n",
       "\\end{tabular}\n"
      ],
      "text/markdown": [
       "\n",
       "A data.table: 6 × 6\n",
       "\n",
       "| Family &lt;chr&gt; | Treatments &lt;chr&gt; | meanRA &lt;dbl&gt; | sdRA &lt;dbl&gt; | minRA &lt;dbl&gt; | maxRA &lt;dbl&gt; |\n",
       "|---|---|---|---|---|---|\n",
       "| Midichloriaceae  | AC_D75  | 60.084307 | 42.901967 | 0.02733485 | 98.43544 |\n",
       "| Midichloriaceae  | NPC_D75 | 58.891386 | 43.750137 | 0.02707093 | 98.68762 |\n",
       "| Midichloriaceae  | NC_D75  | 42.689982 | 47.217763 | 0.01848429 | 99.50647 |\n",
       "| Paenibacillaceae | NC_D75  |  8.042689 | 18.488510 | 0.04846918 | 67.57568 |\n",
       "| Paenibacillaceae | NPC_D75 |  4.245141 | 11.552734 | 0.04179554 | 62.64035 |\n",
       "| Paenibacillaceae | AC_D75  |  4.125993 |  5.988056 | 0.05216484 | 22.80853 |\n",
       "\n"
      ],
      "text/plain": [
       "  Family           Treatments meanRA    sdRA      minRA      maxRA   \n",
       "1 Midichloriaceae  AC_D75     60.084307 42.901967 0.02733485 98.43544\n",
       "2 Midichloriaceae  NPC_D75    58.891386 43.750137 0.02707093 98.68762\n",
       "3 Midichloriaceae  NC_D75     42.689982 47.217763 0.01848429 99.50647\n",
       "4 Paenibacillaceae NC_D75      8.042689 18.488510 0.04846918 67.57568\n",
       "5 Paenibacillaceae NPC_D75     4.245141 11.552734 0.04179554 62.64035\n",
       "6 Paenibacillaceae AC_D75      4.125993  5.988056 0.05216484 22.80853"
      ]
     },
     "metadata": {},
     "output_type": "display_data"
    }
   ],
   "source": [
    "subset_samples(ps, TimePoint==\"T-1\") %>%\n",
    "summarize_taxa(Rank=\"Family\", GroupBy=\"Treatments\") %>%\n",
    "arrange(-meanRA) %>%\n",
    "head()"
   ]
  },
  {
   "cell_type": "code",
   "execution_count": 36,
   "id": "3c641fc3",
   "metadata": {
    "button": false,
    "new_sheet": false,
    "run_control": {
     "read_only": false
    }
   },
   "outputs": [
    {
     "data": {
      "text/html": [
       "<table class=\"dataframe\">\n",
       "<caption>A data.table: 6 × 6</caption>\n",
       "<thead>\n",
       "\t<tr><th scope=col>Family</th><th scope=col>Treatments</th><th scope=col>meanRA</th><th scope=col>sdRA</th><th scope=col>minRA</th><th scope=col>maxRA</th></tr>\n",
       "\t<tr><th scope=col>&lt;chr&gt;</th><th scope=col>&lt;chr&gt;</th><th scope=col>&lt;dbl&gt;</th><th scope=col>&lt;dbl&gt;</th><th scope=col>&lt;dbl&gt;</th><th scope=col>&lt;dbl&gt;</th></tr>\n",
       "</thead>\n",
       "<tbody>\n",
       "\t<tr><td>Midichloriaceae    </td><td>NPH_D100</td><td>76.852630</td><td>23.528238</td><td>0.02931692</td><td>93.73880</td></tr>\n",
       "\t<tr><td>Midichloriaceae    </td><td>NH_D100 </td><td>65.179482</td><td>34.134068</td><td>0.02196354</td><td>98.99522</td></tr>\n",
       "\t<tr><td>Midichloriaceae    </td><td>AH_D100 </td><td>51.409192</td><td>41.619750</td><td>0.02042692</td><td>97.00473</td></tr>\n",
       "\t<tr><td>Endozoicomonadaceae</td><td>AH_D100 </td><td> 7.205888</td><td>12.075585</td><td>0.07490637</td><td>43.11599</td></tr>\n",
       "\t<tr><td>Moraxellaceae      </td><td>NH_D100 </td><td> 3.529694</td><td> 5.071402</td><td>0.02614672</td><td>12.04726</td></tr>\n",
       "\t<tr><td>Alteromonadaceae   </td><td>AH_D100 </td><td> 2.559630</td><td> 4.593434</td><td>0.10674800</td><td>19.39898</td></tr>\n",
       "</tbody>\n",
       "</table>\n"
      ],
      "text/latex": [
       "A data.table: 6 × 6\n",
       "\\begin{tabular}{llllll}\n",
       " Family & Treatments & meanRA & sdRA & minRA & maxRA\\\\\n",
       " <chr> & <chr> & <dbl> & <dbl> & <dbl> & <dbl>\\\\\n",
       "\\hline\n",
       "\t Midichloriaceae     & NPH\\_D100 & 76.852630 & 23.528238 & 0.02931692 & 93.73880\\\\\n",
       "\t Midichloriaceae     & NH\\_D100  & 65.179482 & 34.134068 & 0.02196354 & 98.99522\\\\\n",
       "\t Midichloriaceae     & AH\\_D100  & 51.409192 & 41.619750 & 0.02042692 & 97.00473\\\\\n",
       "\t Endozoicomonadaceae & AH\\_D100  &  7.205888 & 12.075585 & 0.07490637 & 43.11599\\\\\n",
       "\t Moraxellaceae       & NH\\_D100  &  3.529694 &  5.071402 & 0.02614672 & 12.04726\\\\\n",
       "\t Alteromonadaceae    & AH\\_D100  &  2.559630 &  4.593434 & 0.10674800 & 19.39898\\\\\n",
       "\\end{tabular}\n"
      ],
      "text/markdown": [
       "\n",
       "A data.table: 6 × 6\n",
       "\n",
       "| Family &lt;chr&gt; | Treatments &lt;chr&gt; | meanRA &lt;dbl&gt; | sdRA &lt;dbl&gt; | minRA &lt;dbl&gt; | maxRA &lt;dbl&gt; |\n",
       "|---|---|---|---|---|---|\n",
       "| Midichloriaceae     | NPH_D100 | 76.852630 | 23.528238 | 0.02931692 | 93.73880 |\n",
       "| Midichloriaceae     | NH_D100  | 65.179482 | 34.134068 | 0.02196354 | 98.99522 |\n",
       "| Midichloriaceae     | AH_D100  | 51.409192 | 41.619750 | 0.02042692 | 97.00473 |\n",
       "| Endozoicomonadaceae | AH_D100  |  7.205888 | 12.075585 | 0.07490637 | 43.11599 |\n",
       "| Moraxellaceae       | NH_D100  |  3.529694 |  5.071402 | 0.02614672 | 12.04726 |\n",
       "| Alteromonadaceae    | AH_D100  |  2.559630 |  4.593434 | 0.10674800 | 19.39898 |\n",
       "\n"
      ],
      "text/plain": [
       "  Family              Treatments meanRA    sdRA      minRA      maxRA   \n",
       "1 Midichloriaceae     NPH_D100   76.852630 23.528238 0.02931692 93.73880\n",
       "2 Midichloriaceae     NH_D100    65.179482 34.134068 0.02196354 98.99522\n",
       "3 Midichloriaceae     AH_D100    51.409192 41.619750 0.02042692 97.00473\n",
       "4 Endozoicomonadaceae AH_D100     7.205888 12.075585 0.07490637 43.11599\n",
       "5 Moraxellaceae       NH_D100     3.529694  5.071402 0.02614672 12.04726\n",
       "6 Alteromonadaceae    AH_D100     2.559630  4.593434 0.10674800 19.39898"
      ]
     },
     "metadata": {},
     "output_type": "display_data"
    }
   ],
   "source": [
    "subset_samples(ps, TimePoint==\"T-2\") %>%\n",
    "summarize_taxa(Rank=\"Family\", GroupBy=\"Treatments\") %>%\n",
    "arrange(-meanRA) %>%\n",
    "head()"
   ]
  },
  {
   "cell_type": "code",
   "execution_count": 37,
   "id": "88045ee4",
   "metadata": {
    "button": false,
    "new_sheet": false,
    "run_control": {
     "read_only": false
    }
   },
   "outputs": [
    {
     "data": {
      "text/html": [
       "<table class=\"dataframe\">\n",
       "<caption>A data.table: 6 × 6</caption>\n",
       "<thead>\n",
       "\t<tr><th scope=col>Family</th><th scope=col>Treatments</th><th scope=col>meanRA</th><th scope=col>sdRA</th><th scope=col>minRA</th><th scope=col>maxRA</th></tr>\n",
       "\t<tr><th scope=col>&lt;chr&gt;</th><th scope=col>&lt;chr&gt;</th><th scope=col>&lt;dbl&gt;</th><th scope=col>&lt;dbl&gt;</th><th scope=col>&lt;dbl&gt;</th><th scope=col>&lt;dbl&gt;</th></tr>\n",
       "</thead>\n",
       "<tbody>\n",
       "\t<tr><td>Midichloriaceae       </td><td>NPH_D111</td><td>38.258769</td><td>34.36705</td><td>1.261887345</td><td>88.82907</td></tr>\n",
       "\t<tr><td>Midichloriaceae       </td><td>AH_D111 </td><td>31.204311</td><td>29.30171</td><td>0.008180294</td><td>77.02282</td></tr>\n",
       "\t<tr><td>Midichloriaceae       </td><td>NH_101  </td><td>27.811987</td><td>18.61199</td><td>2.029850746</td><td>47.00185</td></tr>\n",
       "\t<tr><td>Colwelliaceae         </td><td>NH_101  </td><td>14.360006</td><td>14.96791</td><td>1.221001221</td><td>34.56091</td></tr>\n",
       "\t<tr><td>Pseudoalteromonadaceae</td><td>NH_101  </td><td> 6.495886</td><td>16.63604</td><td>0.307503075</td><td>47.66169</td></tr>\n",
       "\t<tr><td>Alteromonadaceae      </td><td>AH_D111 </td><td> 5.501072</td><td>10.48122</td><td>0.042613636</td><td>44.82717</td></tr>\n",
       "</tbody>\n",
       "</table>\n"
      ],
      "text/latex": [
       "A data.table: 6 × 6\n",
       "\\begin{tabular}{llllll}\n",
       " Family & Treatments & meanRA & sdRA & minRA & maxRA\\\\\n",
       " <chr> & <chr> & <dbl> & <dbl> & <dbl> & <dbl>\\\\\n",
       "\\hline\n",
       "\t Midichloriaceae        & NPH\\_D111 & 38.258769 & 34.36705 & 1.261887345 & 88.82907\\\\\n",
       "\t Midichloriaceae        & AH\\_D111  & 31.204311 & 29.30171 & 0.008180294 & 77.02282\\\\\n",
       "\t Midichloriaceae        & NH\\_101   & 27.811987 & 18.61199 & 2.029850746 & 47.00185\\\\\n",
       "\t Colwelliaceae          & NH\\_101   & 14.360006 & 14.96791 & 1.221001221 & 34.56091\\\\\n",
       "\t Pseudoalteromonadaceae & NH\\_101   &  6.495886 & 16.63604 & 0.307503075 & 47.66169\\\\\n",
       "\t Alteromonadaceae       & AH\\_D111  &  5.501072 & 10.48122 & 0.042613636 & 44.82717\\\\\n",
       "\\end{tabular}\n"
      ],
      "text/markdown": [
       "\n",
       "A data.table: 6 × 6\n",
       "\n",
       "| Family &lt;chr&gt; | Treatments &lt;chr&gt; | meanRA &lt;dbl&gt; | sdRA &lt;dbl&gt; | minRA &lt;dbl&gt; | maxRA &lt;dbl&gt; |\n",
       "|---|---|---|---|---|---|\n",
       "| Midichloriaceae        | NPH_D111 | 38.258769 | 34.36705 | 1.261887345 | 88.82907 |\n",
       "| Midichloriaceae        | AH_D111  | 31.204311 | 29.30171 | 0.008180294 | 77.02282 |\n",
       "| Midichloriaceae        | NH_101   | 27.811987 | 18.61199 | 2.029850746 | 47.00185 |\n",
       "| Colwelliaceae          | NH_101   | 14.360006 | 14.96791 | 1.221001221 | 34.56091 |\n",
       "| Pseudoalteromonadaceae | NH_101   |  6.495886 | 16.63604 | 0.307503075 | 47.66169 |\n",
       "| Alteromonadaceae       | AH_D111  |  5.501072 | 10.48122 | 0.042613636 | 44.82717 |\n",
       "\n"
      ],
      "text/plain": [
       "  Family                 Treatments meanRA    sdRA     minRA       maxRA   \n",
       "1 Midichloriaceae        NPH_D111   38.258769 34.36705 1.261887345 88.82907\n",
       "2 Midichloriaceae        AH_D111    31.204311 29.30171 0.008180294 77.02282\n",
       "3 Midichloriaceae        NH_101     27.811987 18.61199 2.029850746 47.00185\n",
       "4 Colwelliaceae          NH_101     14.360006 14.96791 1.221001221 34.56091\n",
       "5 Pseudoalteromonadaceae NH_101      6.495886 16.63604 0.307503075 47.66169\n",
       "6 Alteromonadaceae       AH_D111     5.501072 10.48122 0.042613636 44.82717"
      ]
     },
     "metadata": {},
     "output_type": "display_data"
    }
   ],
   "source": [
    "subset_samples(ps, TimePoint==\"T-3\") %>%\n",
    "summarize_taxa(Rank=\"Family\", GroupBy=\"Treatments\") %>%\n",
    "arrange(-meanRA)  %>%\n",
    "head()"
   ]
  },
  {
   "cell_type": "code",
   "execution_count": 32,
   "id": "76e1351f",
   "metadata": {
    "button": false,
    "new_sheet": false,
    "run_control": {
     "read_only": false
    }
   },
   "outputs": [
    {
     "data": {
      "text/html": [
       "<table class=\"dataframe\">\n",
       "<caption>A data.table: 3 × 6</caption>\n",
       "<thead>\n",
       "\t<tr><th scope=col>ASV</th><th scope=col>Treatments</th><th scope=col>meanRA</th><th scope=col>sdRA</th><th scope=col>minRA</th><th scope=col>maxRA</th></tr>\n",
       "\t<tr><th scope=col>&lt;chr&gt;</th><th scope=col>&lt;chr&gt;</th><th scope=col>&lt;dbl&gt;</th><th scope=col>&lt;dbl&gt;</th><th scope=col>&lt;dbl&gt;</th><th scope=col>&lt;dbl&gt;</th></tr>\n",
       "</thead>\n",
       "<tbody>\n",
       "\t<tr><td>ASV989</td><td>AC_D75 </td><td>1.8845483</td><td>3.030171</td><td>0.05924873</td><td>9.1031823</td></tr>\n",
       "\t<tr><td>ASV989</td><td>NPC_D75</td><td>1.1775854</td><td>1.756462</td><td>0.06571166</td><td>5.8346554</td></tr>\n",
       "\t<tr><td>ASV989</td><td>NC_D75 </td><td>0.1500085</td><td>0.054043</td><td>0.11179430</td><td>0.1882226</td></tr>\n",
       "</tbody>\n",
       "</table>\n"
      ],
      "text/latex": [
       "A data.table: 3 × 6\n",
       "\\begin{tabular}{llllll}\n",
       " ASV & Treatments & meanRA & sdRA & minRA & maxRA\\\\\n",
       " <chr> & <chr> & <dbl> & <dbl> & <dbl> & <dbl>\\\\\n",
       "\\hline\n",
       "\t ASV989 & AC\\_D75  & 1.8845483 & 3.030171 & 0.05924873 & 9.1031823\\\\\n",
       "\t ASV989 & NPC\\_D75 & 1.1775854 & 1.756462 & 0.06571166 & 5.8346554\\\\\n",
       "\t ASV989 & NC\\_D75  & 0.1500085 & 0.054043 & 0.11179430 & 0.1882226\\\\\n",
       "\\end{tabular}\n"
      ],
      "text/markdown": [
       "\n",
       "A data.table: 3 × 6\n",
       "\n",
       "| ASV &lt;chr&gt; | Treatments &lt;chr&gt; | meanRA &lt;dbl&gt; | sdRA &lt;dbl&gt; | minRA &lt;dbl&gt; | maxRA &lt;dbl&gt; |\n",
       "|---|---|---|---|---|---|\n",
       "| ASV989 | AC_D75  | 1.8845483 | 3.030171 | 0.05924873 | 9.1031823 |\n",
       "| ASV989 | NPC_D75 | 1.1775854 | 1.756462 | 0.06571166 | 5.8346554 |\n",
       "| ASV989 | NC_D75  | 0.1500085 | 0.054043 | 0.11179430 | 0.1882226 |\n",
       "\n"
      ],
      "text/plain": [
       "  ASV    Treatments meanRA    sdRA     minRA      maxRA    \n",
       "1 ASV989 AC_D75     1.8845483 3.030171 0.05924873 9.1031823\n",
       "2 ASV989 NPC_D75    1.1775854 1.756462 0.06571166 5.8346554\n",
       "3 ASV989 NC_D75     0.1500085 0.054043 0.11179430 0.1882226"
      ]
     },
     "metadata": {},
     "output_type": "display_data"
    },
    {
     "data": {
      "text/html": [
       "<table class=\"dataframe\">\n",
       "<caption>A data.table: 6 × 6</caption>\n",
       "<thead>\n",
       "\t<tr><th scope=col>ASV</th><th scope=col>Genotype</th><th scope=col>meanRA</th><th scope=col>sdRA</th><th scope=col>minRA</th><th scope=col>maxRA</th></tr>\n",
       "\t<tr><th scope=col>&lt;chr&gt;</th><th scope=col>&lt;chr&gt;</th><th scope=col>&lt;dbl&gt;</th><th scope=col>&lt;dbl&gt;</th><th scope=col>&lt;dbl&gt;</th><th scope=col>&lt;dbl&gt;</th></tr>\n",
       "</thead>\n",
       "<tbody>\n",
       "\t<tr><td>ASV989</td><td>G_7 </td><td>3.5638429</td><td>3.17034427</td><td>0.59136606</td><td>9.1031823</td></tr>\n",
       "\t<tr><td>ASV989</td><td>G_31</td><td>2.0344285</td><td>3.29153451</td><td>0.08040740</td><td>5.8346554</td></tr>\n",
       "\t<tr><td>ASV989</td><td>G_8 </td><td>0.7113630</td><td>0.76867145</td><td>0.10530275</td><td>1.7611026</td></tr>\n",
       "\t<tr><td>ASV989</td><td>G_50</td><td>0.4638518</td><td>0.67626852</td><td>0.05924873</td><td>1.9760192</td></tr>\n",
       "\t<tr><td>ASV989</td><td>G_62</td><td>0.2034334</td><td>0.12034893</td><td>0.06571166</td><td>0.2883691</td></tr>\n",
       "\t<tr><td>ASV989</td><td>G_48</td><td>0.1359117</td><td>0.06459467</td><td>0.09023642</td><td>0.1815871</td></tr>\n",
       "</tbody>\n",
       "</table>\n"
      ],
      "text/latex": [
       "A data.table: 6 × 6\n",
       "\\begin{tabular}{llllll}\n",
       " ASV & Genotype & meanRA & sdRA & minRA & maxRA\\\\\n",
       " <chr> & <chr> & <dbl> & <dbl> & <dbl> & <dbl>\\\\\n",
       "\\hline\n",
       "\t ASV989 & G\\_7  & 3.5638429 & 3.17034427 & 0.59136606 & 9.1031823\\\\\n",
       "\t ASV989 & G\\_31 & 2.0344285 & 3.29153451 & 0.08040740 & 5.8346554\\\\\n",
       "\t ASV989 & G\\_8  & 0.7113630 & 0.76867145 & 0.10530275 & 1.7611026\\\\\n",
       "\t ASV989 & G\\_50 & 0.4638518 & 0.67626852 & 0.05924873 & 1.9760192\\\\\n",
       "\t ASV989 & G\\_62 & 0.2034334 & 0.12034893 & 0.06571166 & 0.2883691\\\\\n",
       "\t ASV989 & G\\_48 & 0.1359117 & 0.06459467 & 0.09023642 & 0.1815871\\\\\n",
       "\\end{tabular}\n"
      ],
      "text/markdown": [
       "\n",
       "A data.table: 6 × 6\n",
       "\n",
       "| ASV &lt;chr&gt; | Genotype &lt;chr&gt; | meanRA &lt;dbl&gt; | sdRA &lt;dbl&gt; | minRA &lt;dbl&gt; | maxRA &lt;dbl&gt; |\n",
       "|---|---|---|---|---|---|\n",
       "| ASV989 | G_7  | 3.5638429 | 3.17034427 | 0.59136606 | 9.1031823 |\n",
       "| ASV989 | G_31 | 2.0344285 | 3.29153451 | 0.08040740 | 5.8346554 |\n",
       "| ASV989 | G_8  | 0.7113630 | 0.76867145 | 0.10530275 | 1.7611026 |\n",
       "| ASV989 | G_50 | 0.4638518 | 0.67626852 | 0.05924873 | 1.9760192 |\n",
       "| ASV989 | G_62 | 0.2034334 | 0.12034893 | 0.06571166 | 0.2883691 |\n",
       "| ASV989 | G_48 | 0.1359117 | 0.06459467 | 0.09023642 | 0.1815871 |\n",
       "\n"
      ],
      "text/plain": [
       "  ASV    Genotype meanRA    sdRA       minRA      maxRA    \n",
       "1 ASV989 G_7      3.5638429 3.17034427 0.59136606 9.1031823\n",
       "2 ASV989 G_31     2.0344285 3.29153451 0.08040740 5.8346554\n",
       "3 ASV989 G_8      0.7113630 0.76867145 0.10530275 1.7611026\n",
       "4 ASV989 G_50     0.4638518 0.67626852 0.05924873 1.9760192\n",
       "5 ASV989 G_62     0.2034334 0.12034893 0.06571166 0.2883691\n",
       "6 ASV989 G_48     0.1359117 0.06459467 0.09023642 0.1815871"
      ]
     },
     "metadata": {},
     "output_type": "display_data"
    }
   ],
   "source": [
    "#Rivularia\n",
    "subset_samples(ps, TimePoint==\"T-1\") %>%\n",
    "summarize_taxa(Rank=\"ASV\", GroupBy=\"Treatments\") %>%\n",
    "filter(ASV==\"ASV989\") %>%\n",
    "arrange(-meanRA)\n",
    "\n",
    "\n",
    "subset_samples(ps, TimePoint==\"T-1\") %>%\n",
    "summarize_taxa(Rank=\"ASV\", GroupBy=\"Genotype\") %>%\n",
    "filter(ASV==\"ASV989\") %>%\n",
    "arrange(-meanRA)"
   ]
  },
  {
   "cell_type": "code",
   "execution_count": 33,
   "id": "a32dd9db",
   "metadata": {
    "button": false,
    "new_sheet": false,
    "run_control": {
     "read_only": false
    }
   },
   "outputs": [
    {
     "data": {
      "text/html": [
       "<table class=\"dataframe\">\n",
       "<caption>A data.table: 3 × 6</caption>\n",
       "<thead>\n",
       "\t<tr><th scope=col>ASV</th><th scope=col>Treatments</th><th scope=col>meanRA</th><th scope=col>sdRA</th><th scope=col>minRA</th><th scope=col>maxRA</th></tr>\n",
       "\t<tr><th scope=col>&lt;chr&gt;</th><th scope=col>&lt;chr&gt;</th><th scope=col>&lt;dbl&gt;</th><th scope=col>&lt;dbl&gt;</th><th scope=col>&lt;dbl&gt;</th><th scope=col>&lt;dbl&gt;</th></tr>\n",
       "</thead>\n",
       "<tbody>\n",
       "\t<tr><td>ASV347</td><td>AC_D75 </td><td>1.2328812</td><td>1.4654537</td><td>0.01934610</td><td>5.242464</td></tr>\n",
       "\t<tr><td>ASV347</td><td>NPC_D75</td><td>0.9177585</td><td>0.9168164</td><td>0.04511821</td><td>2.568901</td></tr>\n",
       "\t<tr><td>ASV347</td><td>NC_D75 </td><td>0.8765982</td><td>0.6772311</td><td>0.01739433</td><td>1.796157</td></tr>\n",
       "</tbody>\n",
       "</table>\n"
      ],
      "text/latex": [
       "A data.table: 3 × 6\n",
       "\\begin{tabular}{llllll}\n",
       " ASV & Treatments & meanRA & sdRA & minRA & maxRA\\\\\n",
       " <chr> & <chr> & <dbl> & <dbl> & <dbl> & <dbl>\\\\\n",
       "\\hline\n",
       "\t ASV347 & AC\\_D75  & 1.2328812 & 1.4654537 & 0.01934610 & 5.242464\\\\\n",
       "\t ASV347 & NPC\\_D75 & 0.9177585 & 0.9168164 & 0.04511821 & 2.568901\\\\\n",
       "\t ASV347 & NC\\_D75  & 0.8765982 & 0.6772311 & 0.01739433 & 1.796157\\\\\n",
       "\\end{tabular}\n"
      ],
      "text/markdown": [
       "\n",
       "A data.table: 3 × 6\n",
       "\n",
       "| ASV &lt;chr&gt; | Treatments &lt;chr&gt; | meanRA &lt;dbl&gt; | sdRA &lt;dbl&gt; | minRA &lt;dbl&gt; | maxRA &lt;dbl&gt; |\n",
       "|---|---|---|---|---|---|\n",
       "| ASV347 | AC_D75  | 1.2328812 | 1.4654537 | 0.01934610 | 5.242464 |\n",
       "| ASV347 | NPC_D75 | 0.9177585 | 0.9168164 | 0.04511821 | 2.568901 |\n",
       "| ASV347 | NC_D75  | 0.8765982 | 0.6772311 | 0.01739433 | 1.796157 |\n",
       "\n"
      ],
      "text/plain": [
       "  ASV    Treatments meanRA    sdRA      minRA      maxRA   \n",
       "1 ASV347 AC_D75     1.2328812 1.4654537 0.01934610 5.242464\n",
       "2 ASV347 NPC_D75    0.9177585 0.9168164 0.04511821 2.568901\n",
       "3 ASV347 NC_D75     0.8765982 0.6772311 0.01739433 1.796157"
      ]
     },
     "metadata": {},
     "output_type": "display_data"
    },
    {
     "data": {
      "text/html": [
       "<table class=\"dataframe\">\n",
       "<caption>A data.table: 6 × 6</caption>\n",
       "<thead>\n",
       "\t<tr><th scope=col>ASV</th><th scope=col>Genotype</th><th scope=col>meanRA</th><th scope=col>sdRA</th><th scope=col>minRA</th><th scope=col>maxRA</th></tr>\n",
       "\t<tr><th scope=col>&lt;chr&gt;</th><th scope=col>&lt;chr&gt;</th><th scope=col>&lt;dbl&gt;</th><th scope=col>&lt;dbl&gt;</th><th scope=col>&lt;dbl&gt;</th><th scope=col>&lt;dbl&gt;</th></tr>\n",
       "</thead>\n",
       "<tbody>\n",
       "\t<tr><td>ASV347</td><td>G_8 </td><td>2.0053369</td><td>1.9260888</td><td>0.35621762</td><td>5.2424640</td></tr>\n",
       "\t<tr><td>ASV347</td><td>G_7 </td><td>1.5358241</td><td>1.5918769</td><td>0.18120045</td><td>4.9272487</td></tr>\n",
       "\t<tr><td>ASV347</td><td>G_50</td><td>0.9545349</td><td>0.6630256</td><td>0.15935747</td><td>1.9472422</td></tr>\n",
       "\t<tr><td>ASV347</td><td>G_62</td><td>0.7358414</td><td>0.6333206</td><td>0.01739433</td><td>1.7961571</td></tr>\n",
       "\t<tr><td>ASV347</td><td>G_48</td><td>0.5152398</td><td>0.4660561</td><td>0.01934610</td><td>1.0767160</td></tr>\n",
       "\t<tr><td>ASV347</td><td>G_31</td><td>0.4532596</td><td>0.4542585</td><td>0.03419388</td><td>0.9610521</td></tr>\n",
       "</tbody>\n",
       "</table>\n"
      ],
      "text/latex": [
       "A data.table: 6 × 6\n",
       "\\begin{tabular}{llllll}\n",
       " ASV & Genotype & meanRA & sdRA & minRA & maxRA\\\\\n",
       " <chr> & <chr> & <dbl> & <dbl> & <dbl> & <dbl>\\\\\n",
       "\\hline\n",
       "\t ASV347 & G\\_8  & 2.0053369 & 1.9260888 & 0.35621762 & 5.2424640\\\\\n",
       "\t ASV347 & G\\_7  & 1.5358241 & 1.5918769 & 0.18120045 & 4.9272487\\\\\n",
       "\t ASV347 & G\\_50 & 0.9545349 & 0.6630256 & 0.15935747 & 1.9472422\\\\\n",
       "\t ASV347 & G\\_62 & 0.7358414 & 0.6333206 & 0.01739433 & 1.7961571\\\\\n",
       "\t ASV347 & G\\_48 & 0.5152398 & 0.4660561 & 0.01934610 & 1.0767160\\\\\n",
       "\t ASV347 & G\\_31 & 0.4532596 & 0.4542585 & 0.03419388 & 0.9610521\\\\\n",
       "\\end{tabular}\n"
      ],
      "text/markdown": [
       "\n",
       "A data.table: 6 × 6\n",
       "\n",
       "| ASV &lt;chr&gt; | Genotype &lt;chr&gt; | meanRA &lt;dbl&gt; | sdRA &lt;dbl&gt; | minRA &lt;dbl&gt; | maxRA &lt;dbl&gt; |\n",
       "|---|---|---|---|---|---|\n",
       "| ASV347 | G_8  | 2.0053369 | 1.9260888 | 0.35621762 | 5.2424640 |\n",
       "| ASV347 | G_7  | 1.5358241 | 1.5918769 | 0.18120045 | 4.9272487 |\n",
       "| ASV347 | G_50 | 0.9545349 | 0.6630256 | 0.15935747 | 1.9472422 |\n",
       "| ASV347 | G_62 | 0.7358414 | 0.6333206 | 0.01739433 | 1.7961571 |\n",
       "| ASV347 | G_48 | 0.5152398 | 0.4660561 | 0.01934610 | 1.0767160 |\n",
       "| ASV347 | G_31 | 0.4532596 | 0.4542585 | 0.03419388 | 0.9610521 |\n",
       "\n"
      ],
      "text/plain": [
       "  ASV    Genotype meanRA    sdRA      minRA      maxRA    \n",
       "1 ASV347 G_8      2.0053369 1.9260888 0.35621762 5.2424640\n",
       "2 ASV347 G_7      1.5358241 1.5918769 0.18120045 4.9272487\n",
       "3 ASV347 G_50     0.9545349 0.6630256 0.15935747 1.9472422\n",
       "4 ASV347 G_62     0.7358414 0.6333206 0.01739433 1.7961571\n",
       "5 ASV347 G_48     0.5152398 0.4660561 0.01934610 1.0767160\n",
       "6 ASV347 G_31     0.4532596 0.4542585 0.03419388 0.9610521"
      ]
     },
     "metadata": {},
     "output_type": "display_data"
    }
   ],
   "source": [
    "#methyl\n",
    "subset_samples(ps, TimePoint==\"T-1\") %>%\n",
    "summarize_taxa(Rank=\"ASV\", GroupBy=\"Treatments\") %>%\n",
    "filter(ASV==\"ASV347\") %>%\n",
    "arrange(-meanRA)\n",
    "\n",
    "\n",
    "subset_samples(ps, TimePoint==\"T-1\") %>%\n",
    "summarize_taxa(Rank=\"ASV\", GroupBy=\"Genotype\") %>%\n",
    "filter(ASV==\"ASV347\") %>%\n",
    "arrange(-meanRA)"
   ]
  },
  {
   "cell_type": "code",
   "execution_count": 34,
   "id": "2f403662",
   "metadata": {
    "button": false,
    "new_sheet": false,
    "run_control": {
     "read_only": false
    }
   },
   "outputs": [
    {
     "data": {
      "text/html": [
       "<table class=\"dataframe\">\n",
       "<caption>A data.table: 3 × 6</caption>\n",
       "<thead>\n",
       "\t<tr><th scope=col>ASV</th><th scope=col>Treatments</th><th scope=col>meanRA</th><th scope=col>sdRA</th><th scope=col>minRA</th><th scope=col>maxRA</th></tr>\n",
       "\t<tr><th scope=col>&lt;chr&gt;</th><th scope=col>&lt;chr&gt;</th><th scope=col>&lt;dbl&gt;</th><th scope=col>&lt;dbl&gt;</th><th scope=col>&lt;dbl&gt;</th><th scope=col>&lt;dbl&gt;</th></tr>\n",
       "</thead>\n",
       "<tbody>\n",
       "\t<tr><td>ASV2609</td><td>NPC_D75</td><td>1.1123723</td><td>       NA</td><td>1.1123723</td><td>1.112372</td></tr>\n",
       "\t<tr><td>ASV2609</td><td>AC_D75 </td><td>1.0592068</td><td>0.9486553</td><td>0.2650260</td><td>3.160806</td></tr>\n",
       "\t<tr><td>ASV2609</td><td>NC_D75 </td><td>0.7179375</td><td>0.6387340</td><td>0.2662843</td><td>1.169591</td></tr>\n",
       "</tbody>\n",
       "</table>\n"
      ],
      "text/latex": [
       "A data.table: 3 × 6\n",
       "\\begin{tabular}{llllll}\n",
       " ASV & Treatments & meanRA & sdRA & minRA & maxRA\\\\\n",
       " <chr> & <chr> & <dbl> & <dbl> & <dbl> & <dbl>\\\\\n",
       "\\hline\n",
       "\t ASV2609 & NPC\\_D75 & 1.1123723 &        NA & 1.1123723 & 1.112372\\\\\n",
       "\t ASV2609 & AC\\_D75  & 1.0592068 & 0.9486553 & 0.2650260 & 3.160806\\\\\n",
       "\t ASV2609 & NC\\_D75  & 0.7179375 & 0.6387340 & 0.2662843 & 1.169591\\\\\n",
       "\\end{tabular}\n"
      ],
      "text/markdown": [
       "\n",
       "A data.table: 3 × 6\n",
       "\n",
       "| ASV &lt;chr&gt; | Treatments &lt;chr&gt; | meanRA &lt;dbl&gt; | sdRA &lt;dbl&gt; | minRA &lt;dbl&gt; | maxRA &lt;dbl&gt; |\n",
       "|---|---|---|---|---|---|\n",
       "| ASV2609 | NPC_D75 | 1.1123723 |        NA | 1.1123723 | 1.112372 |\n",
       "| ASV2609 | AC_D75  | 1.0592068 | 0.9486553 | 0.2650260 | 3.160806 |\n",
       "| ASV2609 | NC_D75  | 0.7179375 | 0.6387340 | 0.2662843 | 1.169591 |\n",
       "\n"
      ],
      "text/plain": [
       "  ASV     Treatments meanRA    sdRA      minRA     maxRA   \n",
       "1 ASV2609 NPC_D75    1.1123723        NA 1.1123723 1.112372\n",
       "2 ASV2609 AC_D75     1.0592068 0.9486553 0.2650260 3.160806\n",
       "3 ASV2609 NC_D75     0.7179375 0.6387340 0.2662843 1.169591"
      ]
     },
     "metadata": {},
     "output_type": "display_data"
    },
    {
     "data": {
      "text/html": [
       "<table class=\"dataframe\">\n",
       "<caption>A data.table: 5 × 6</caption>\n",
       "<thead>\n",
       "\t<tr><th scope=col>ASV</th><th scope=col>Genotype</th><th scope=col>meanRA</th><th scope=col>sdRA</th><th scope=col>minRA</th><th scope=col>maxRA</th></tr>\n",
       "\t<tr><th scope=col>&lt;chr&gt;</th><th scope=col>&lt;chr&gt;</th><th scope=col>&lt;dbl&gt;</th><th scope=col>&lt;dbl&gt;</th><th scope=col>&lt;dbl&gt;</th><th scope=col>&lt;dbl&gt;</th></tr>\n",
       "</thead>\n",
       "<tbody>\n",
       "\t<tr><td>ASV2609</td><td>G_62</td><td>1.5318076</td><td>1.48148110</td><td>0.2650260</td><td>3.1608060</td></tr>\n",
       "\t<tr><td>ASV2609</td><td>G_7 </td><td>1.2128163</td><td>0.51622460</td><td>0.6115515</td><td>1.9953952</td></tr>\n",
       "\t<tr><td>ASV2609</td><td>G_31</td><td>0.3405018</td><td>        NA</td><td>0.3405018</td><td>0.3405018</td></tr>\n",
       "\t<tr><td>ASV2609</td><td>G_48</td><td>0.3165829</td><td>0.07113296</td><td>0.2662843</td><td>0.3668815</td></tr>\n",
       "\t<tr><td>ASV2609</td><td>G_8 </td><td>0.2943275</td><td>        NA</td><td>0.2943275</td><td>0.2943275</td></tr>\n",
       "</tbody>\n",
       "</table>\n"
      ],
      "text/latex": [
       "A data.table: 5 × 6\n",
       "\\begin{tabular}{llllll}\n",
       " ASV & Genotype & meanRA & sdRA & minRA & maxRA\\\\\n",
       " <chr> & <chr> & <dbl> & <dbl> & <dbl> & <dbl>\\\\\n",
       "\\hline\n",
       "\t ASV2609 & G\\_62 & 1.5318076 & 1.48148110 & 0.2650260 & 3.1608060\\\\\n",
       "\t ASV2609 & G\\_7  & 1.2128163 & 0.51622460 & 0.6115515 & 1.9953952\\\\\n",
       "\t ASV2609 & G\\_31 & 0.3405018 &         NA & 0.3405018 & 0.3405018\\\\\n",
       "\t ASV2609 & G\\_48 & 0.3165829 & 0.07113296 & 0.2662843 & 0.3668815\\\\\n",
       "\t ASV2609 & G\\_8  & 0.2943275 &         NA & 0.2943275 & 0.2943275\\\\\n",
       "\\end{tabular}\n"
      ],
      "text/markdown": [
       "\n",
       "A data.table: 5 × 6\n",
       "\n",
       "| ASV &lt;chr&gt; | Genotype &lt;chr&gt; | meanRA &lt;dbl&gt; | sdRA &lt;dbl&gt; | minRA &lt;dbl&gt; | maxRA &lt;dbl&gt; |\n",
       "|---|---|---|---|---|---|\n",
       "| ASV2609 | G_62 | 1.5318076 | 1.48148110 | 0.2650260 | 3.1608060 |\n",
       "| ASV2609 | G_7  | 1.2128163 | 0.51622460 | 0.6115515 | 1.9953952 |\n",
       "| ASV2609 | G_31 | 0.3405018 |         NA | 0.3405018 | 0.3405018 |\n",
       "| ASV2609 | G_48 | 0.3165829 | 0.07113296 | 0.2662843 | 0.3668815 |\n",
       "| ASV2609 | G_8  | 0.2943275 |         NA | 0.2943275 | 0.2943275 |\n",
       "\n"
      ],
      "text/plain": [
       "  ASV     Genotype meanRA    sdRA       minRA     maxRA    \n",
       "1 ASV2609 G_62     1.5318076 1.48148110 0.2650260 3.1608060\n",
       "2 ASV2609 G_7      1.2128163 0.51622460 0.6115515 1.9953952\n",
       "3 ASV2609 G_31     0.3405018         NA 0.3405018 0.3405018\n",
       "4 ASV2609 G_48     0.3165829 0.07113296 0.2662843 0.3668815\n",
       "5 ASV2609 G_8      0.2943275         NA 0.2943275 0.2943275"
      ]
     },
     "metadata": {},
     "output_type": "display_data"
    }
   ],
   "source": [
    "#pseudomon\n",
    "subset_samples(ps, TimePoint==\"T-1\") %>%\n",
    "summarize_taxa(Rank=\"ASV\", GroupBy=\"Treatments\") %>%\n",
    "filter(ASV==\"ASV2609\") %>%\n",
    "arrange(-meanRA)\n",
    "\n",
    "\n",
    "subset_samples(ps, TimePoint==\"T-1\") %>%\n",
    "summarize_taxa(Rank=\"ASV\", GroupBy=\"Genotype\") %>%\n",
    "filter(ASV==\"ASV2609\") %>%\n",
    "arrange(-meanRA)"
   ]
  },
  {
   "cell_type": "code",
   "execution_count": 39,
   "id": "d19de20a",
   "metadata": {
    "button": false,
    "new_sheet": false,
    "run_control": {
     "read_only": false
    }
   },
   "outputs": [
    {
     "data": {
      "text/html": [
       "<table class=\"dataframe\">\n",
       "<caption>A data.table: 6 × 6</caption>\n",
       "<thead>\n",
       "\t<tr><th scope=col>Family</th><th scope=col>Treatments</th><th scope=col>meanRA</th><th scope=col>sdRA</th><th scope=col>minRA</th><th scope=col>maxRA</th></tr>\n",
       "\t<tr><th scope=col>&lt;chr&gt;</th><th scope=col>&lt;chr&gt;</th><th scope=col>&lt;dbl&gt;</th><th scope=col>&lt;dbl&gt;</th><th scope=col>&lt;dbl&gt;</th><th scope=col>&lt;dbl&gt;</th></tr>\n",
       "</thead>\n",
       "<tbody>\n",
       "\t<tr><td>Midichloriaceae    </td><td>AC_D75 </td><td>60.084307</td><td>42.901967</td><td>0.027334852</td><td>98.43544</td></tr>\n",
       "\t<tr><td>Midichloriaceae    </td><td>AH_D100</td><td>51.409192</td><td>41.619750</td><td>0.020426923</td><td>97.00473</td></tr>\n",
       "\t<tr><td>Midichloriaceae    </td><td>AH_D111</td><td>31.204311</td><td>29.301712</td><td>0.008180294</td><td>77.02282</td></tr>\n",
       "\t<tr><td>Endozoicomonadaceae</td><td>AH_D100</td><td> 7.205888</td><td>12.075585</td><td>0.074906367</td><td>43.11599</td></tr>\n",
       "\t<tr><td>Alteromonadaceae   </td><td>AH_D111</td><td> 5.501072</td><td>10.481222</td><td>0.042613636</td><td>44.82717</td></tr>\n",
       "\t<tr><td>Paenibacillaceae   </td><td>AC_D75 </td><td> 4.125993</td><td> 5.988056</td><td>0.052164841</td><td>22.80853</td></tr>\n",
       "</tbody>\n",
       "</table>\n"
      ],
      "text/latex": [
       "A data.table: 6 × 6\n",
       "\\begin{tabular}{llllll}\n",
       " Family & Treatments & meanRA & sdRA & minRA & maxRA\\\\\n",
       " <chr> & <chr> & <dbl> & <dbl> & <dbl> & <dbl>\\\\\n",
       "\\hline\n",
       "\t Midichloriaceae     & AC\\_D75  & 60.084307 & 42.901967 & 0.027334852 & 98.43544\\\\\n",
       "\t Midichloriaceae     & AH\\_D100 & 51.409192 & 41.619750 & 0.020426923 & 97.00473\\\\\n",
       "\t Midichloriaceae     & AH\\_D111 & 31.204311 & 29.301712 & 0.008180294 & 77.02282\\\\\n",
       "\t Endozoicomonadaceae & AH\\_D100 &  7.205888 & 12.075585 & 0.074906367 & 43.11599\\\\\n",
       "\t Alteromonadaceae    & AH\\_D111 &  5.501072 & 10.481222 & 0.042613636 & 44.82717\\\\\n",
       "\t Paenibacillaceae    & AC\\_D75  &  4.125993 &  5.988056 & 0.052164841 & 22.80853\\\\\n",
       "\\end{tabular}\n"
      ],
      "text/markdown": [
       "\n",
       "A data.table: 6 × 6\n",
       "\n",
       "| Family &lt;chr&gt; | Treatments &lt;chr&gt; | meanRA &lt;dbl&gt; | sdRA &lt;dbl&gt; | minRA &lt;dbl&gt; | maxRA &lt;dbl&gt; |\n",
       "|---|---|---|---|---|---|\n",
       "| Midichloriaceae     | AC_D75  | 60.084307 | 42.901967 | 0.027334852 | 98.43544 |\n",
       "| Midichloriaceae     | AH_D100 | 51.409192 | 41.619750 | 0.020426923 | 97.00473 |\n",
       "| Midichloriaceae     | AH_D111 | 31.204311 | 29.301712 | 0.008180294 | 77.02282 |\n",
       "| Endozoicomonadaceae | AH_D100 |  7.205888 | 12.075585 | 0.074906367 | 43.11599 |\n",
       "| Alteromonadaceae    | AH_D111 |  5.501072 | 10.481222 | 0.042613636 | 44.82717 |\n",
       "| Paenibacillaceae    | AC_D75  |  4.125993 |  5.988056 | 0.052164841 | 22.80853 |\n",
       "\n"
      ],
      "text/plain": [
       "  Family              Treatments meanRA    sdRA      minRA       maxRA   \n",
       "1 Midichloriaceae     AC_D75     60.084307 42.901967 0.027334852 98.43544\n",
       "2 Midichloriaceae     AH_D100    51.409192 41.619750 0.020426923 97.00473\n",
       "3 Midichloriaceae     AH_D111    31.204311 29.301712 0.008180294 77.02282\n",
       "4 Endozoicomonadaceae AH_D100     7.205888 12.075585 0.074906367 43.11599\n",
       "5 Alteromonadaceae    AH_D111     5.501072 10.481222 0.042613636 44.82717\n",
       "6 Paenibacillaceae    AC_D75      4.125993  5.988056 0.052164841 22.80853"
      ]
     },
     "metadata": {},
     "output_type": "display_data"
    }
   ],
   "source": [
    "subset_samples(ps, Treatment==\"C\") %>%\n",
    "summarize_taxa(Rank=\"Family\", \"Treatments\") %>%\n",
    "arrange(-meanRA) %>%\n",
    "head()"
   ]
  },
  {
   "cell_type": "code",
   "execution_count": 40,
   "id": "4ebd7aa8",
   "metadata": {
    "button": false,
    "new_sheet": false,
    "run_control": {
     "read_only": false
    }
   },
   "outputs": [
    {
     "data": {
      "text/html": [
       "<table class=\"dataframe\">\n",
       "<caption>A data.table: 6 × 6</caption>\n",
       "<thead>\n",
       "\t<tr><th scope=col>Family</th><th scope=col>Treatments</th><th scope=col>meanRA</th><th scope=col>sdRA</th><th scope=col>minRA</th><th scope=col>maxRA</th></tr>\n",
       "\t<tr><th scope=col>&lt;chr&gt;</th><th scope=col>&lt;chr&gt;</th><th scope=col>&lt;dbl&gt;</th><th scope=col>&lt;dbl&gt;</th><th scope=col>&lt;dbl&gt;</th><th scope=col>&lt;dbl&gt;</th></tr>\n",
       "</thead>\n",
       "<tbody>\n",
       "\t<tr><td>Midichloriaceae       </td><td>NH_D100</td><td>65.179482</td><td>34.13407</td><td>0.02196354</td><td>98.99522</td></tr>\n",
       "\t<tr><td>Midichloriaceae       </td><td>NC_D75 </td><td>42.689982</td><td>47.21776</td><td>0.01848429</td><td>99.50647</td></tr>\n",
       "\t<tr><td>Midichloriaceae       </td><td>NH_101 </td><td>27.811987</td><td>18.61199</td><td>2.02985075</td><td>47.00185</td></tr>\n",
       "\t<tr><td>Colwelliaceae         </td><td>NH_101 </td><td>14.360006</td><td>14.96791</td><td>1.22100122</td><td>34.56091</td></tr>\n",
       "\t<tr><td>Paenibacillaceae      </td><td>NC_D75 </td><td> 8.042689</td><td>18.48851</td><td>0.04846918</td><td>67.57568</td></tr>\n",
       "\t<tr><td>Pseudoalteromonadaceae</td><td>NH_101 </td><td> 6.495886</td><td>16.63604</td><td>0.30750308</td><td>47.66169</td></tr>\n",
       "</tbody>\n",
       "</table>\n"
      ],
      "text/latex": [
       "A data.table: 6 × 6\n",
       "\\begin{tabular}{llllll}\n",
       " Family & Treatments & meanRA & sdRA & minRA & maxRA\\\\\n",
       " <chr> & <chr> & <dbl> & <dbl> & <dbl> & <dbl>\\\\\n",
       "\\hline\n",
       "\t Midichloriaceae        & NH\\_D100 & 65.179482 & 34.13407 & 0.02196354 & 98.99522\\\\\n",
       "\t Midichloriaceae        & NC\\_D75  & 42.689982 & 47.21776 & 0.01848429 & 99.50647\\\\\n",
       "\t Midichloriaceae        & NH\\_101  & 27.811987 & 18.61199 & 2.02985075 & 47.00185\\\\\n",
       "\t Colwelliaceae          & NH\\_101  & 14.360006 & 14.96791 & 1.22100122 & 34.56091\\\\\n",
       "\t Paenibacillaceae       & NC\\_D75  &  8.042689 & 18.48851 & 0.04846918 & 67.57568\\\\\n",
       "\t Pseudoalteromonadaceae & NH\\_101  &  6.495886 & 16.63604 & 0.30750308 & 47.66169\\\\\n",
       "\\end{tabular}\n"
      ],
      "text/markdown": [
       "\n",
       "A data.table: 6 × 6\n",
       "\n",
       "| Family &lt;chr&gt; | Treatments &lt;chr&gt; | meanRA &lt;dbl&gt; | sdRA &lt;dbl&gt; | minRA &lt;dbl&gt; | maxRA &lt;dbl&gt; |\n",
       "|---|---|---|---|---|---|\n",
       "| Midichloriaceae        | NH_D100 | 65.179482 | 34.13407 | 0.02196354 | 98.99522 |\n",
       "| Midichloriaceae        | NC_D75  | 42.689982 | 47.21776 | 0.01848429 | 99.50647 |\n",
       "| Midichloriaceae        | NH_101  | 27.811987 | 18.61199 | 2.02985075 | 47.00185 |\n",
       "| Colwelliaceae          | NH_101  | 14.360006 | 14.96791 | 1.22100122 | 34.56091 |\n",
       "| Paenibacillaceae       | NC_D75  |  8.042689 | 18.48851 | 0.04846918 | 67.57568 |\n",
       "| Pseudoalteromonadaceae | NH_101  |  6.495886 | 16.63604 | 0.30750308 | 47.66169 |\n",
       "\n"
      ],
      "text/plain": [
       "  Family                 Treatments meanRA    sdRA     minRA      maxRA   \n",
       "1 Midichloriaceae        NH_D100    65.179482 34.13407 0.02196354 98.99522\n",
       "2 Midichloriaceae        NC_D75     42.689982 47.21776 0.01848429 99.50647\n",
       "3 Midichloriaceae        NH_101     27.811987 18.61199 2.02985075 47.00185\n",
       "4 Colwelliaceae          NH_101     14.360006 14.96791 1.22100122 34.56091\n",
       "5 Paenibacillaceae       NC_D75      8.042689 18.48851 0.04846918 67.57568\n",
       "6 Pseudoalteromonadaceae NH_101      6.495886 16.63604 0.30750308 47.66169"
      ]
     },
     "metadata": {},
     "output_type": "display_data"
    }
   ],
   "source": [
    "subset_samples(ps, Treatment==\"N\") %>%\n",
    "summarize_taxa(Rank=\"Family\", \"Treatments\") %>%\n",
    "arrange(-meanRA) %>%\n",
    "head()"
   ]
  },
  {
   "cell_type": "code",
   "execution_count": 41,
   "id": "8e5b65cd",
   "metadata": {
    "button": false,
    "new_sheet": false,
    "run_control": {
     "read_only": false
    }
   },
   "outputs": [
    {
     "data": {
      "text/html": [
       "<table class=\"dataframe\">\n",
       "<caption>A data.table: 6 × 6</caption>\n",
       "<thead>\n",
       "\t<tr><th scope=col>Family</th><th scope=col>Treatments</th><th scope=col>meanRA</th><th scope=col>sdRA</th><th scope=col>minRA</th><th scope=col>maxRA</th></tr>\n",
       "\t<tr><th scope=col>&lt;chr&gt;</th><th scope=col>&lt;chr&gt;</th><th scope=col>&lt;dbl&gt;</th><th scope=col>&lt;dbl&gt;</th><th scope=col>&lt;dbl&gt;</th><th scope=col>&lt;dbl&gt;</th></tr>\n",
       "</thead>\n",
       "<tbody>\n",
       "\t<tr><td>Midichloriaceae </td><td>NPH_D100</td><td>76.852630</td><td>23.528238</td><td>0.02931692</td><td>93.73880</td></tr>\n",
       "\t<tr><td>Midichloriaceae </td><td>NPC_D75 </td><td>58.891386</td><td>43.750137</td><td>0.02707093</td><td>98.68762</td></tr>\n",
       "\t<tr><td>Midichloriaceae </td><td>NPH_D111</td><td>38.258769</td><td>34.367050</td><td>1.26188734</td><td>88.82907</td></tr>\n",
       "\t<tr><td>Paenibacillaceae</td><td>NPC_D75 </td><td> 4.245141</td><td>11.552734</td><td>0.04179554</td><td>62.64035</td></tr>\n",
       "\t<tr><td>Arcobacteraceae </td><td>NPH_D111</td><td> 3.925177</td><td> 5.599920</td><td>0.10596427</td><td>12.60059</td></tr>\n",
       "\t<tr><td>Alteromonadaceae</td><td>NPH_D111</td><td> 3.252439</td><td> 5.926766</td><td>0.20781380</td><td>19.31577</td></tr>\n",
       "</tbody>\n",
       "</table>\n"
      ],
      "text/latex": [
       "A data.table: 6 × 6\n",
       "\\begin{tabular}{llllll}\n",
       " Family & Treatments & meanRA & sdRA & minRA & maxRA\\\\\n",
       " <chr> & <chr> & <dbl> & <dbl> & <dbl> & <dbl>\\\\\n",
       "\\hline\n",
       "\t Midichloriaceae  & NPH\\_D100 & 76.852630 & 23.528238 & 0.02931692 & 93.73880\\\\\n",
       "\t Midichloriaceae  & NPC\\_D75  & 58.891386 & 43.750137 & 0.02707093 & 98.68762\\\\\n",
       "\t Midichloriaceae  & NPH\\_D111 & 38.258769 & 34.367050 & 1.26188734 & 88.82907\\\\\n",
       "\t Paenibacillaceae & NPC\\_D75  &  4.245141 & 11.552734 & 0.04179554 & 62.64035\\\\\n",
       "\t Arcobacteraceae  & NPH\\_D111 &  3.925177 &  5.599920 & 0.10596427 & 12.60059\\\\\n",
       "\t Alteromonadaceae & NPH\\_D111 &  3.252439 &  5.926766 & 0.20781380 & 19.31577\\\\\n",
       "\\end{tabular}\n"
      ],
      "text/markdown": [
       "\n",
       "A data.table: 6 × 6\n",
       "\n",
       "| Family &lt;chr&gt; | Treatments &lt;chr&gt; | meanRA &lt;dbl&gt; | sdRA &lt;dbl&gt; | minRA &lt;dbl&gt; | maxRA &lt;dbl&gt; |\n",
       "|---|---|---|---|---|---|\n",
       "| Midichloriaceae  | NPH_D100 | 76.852630 | 23.528238 | 0.02931692 | 93.73880 |\n",
       "| Midichloriaceae  | NPC_D75  | 58.891386 | 43.750137 | 0.02707093 | 98.68762 |\n",
       "| Midichloriaceae  | NPH_D111 | 38.258769 | 34.367050 | 1.26188734 | 88.82907 |\n",
       "| Paenibacillaceae | NPC_D75  |  4.245141 | 11.552734 | 0.04179554 | 62.64035 |\n",
       "| Arcobacteraceae  | NPH_D111 |  3.925177 |  5.599920 | 0.10596427 | 12.60059 |\n",
       "| Alteromonadaceae | NPH_D111 |  3.252439 |  5.926766 | 0.20781380 | 19.31577 |\n",
       "\n"
      ],
      "text/plain": [
       "  Family           Treatments meanRA    sdRA      minRA      maxRA   \n",
       "1 Midichloriaceae  NPH_D100   76.852630 23.528238 0.02931692 93.73880\n",
       "2 Midichloriaceae  NPC_D75    58.891386 43.750137 0.02707093 98.68762\n",
       "3 Midichloriaceae  NPH_D111   38.258769 34.367050 1.26188734 88.82907\n",
       "4 Paenibacillaceae NPC_D75     4.245141 11.552734 0.04179554 62.64035\n",
       "5 Arcobacteraceae  NPH_D111    3.925177  5.599920 0.10596427 12.60059\n",
       "6 Alteromonadaceae NPH_D111    3.252439  5.926766 0.20781380 19.31577"
      ]
     },
     "metadata": {},
     "output_type": "display_data"
    }
   ],
   "source": [
    "subset_samples(ps, Treatment==\"NP\") %>%\n",
    "summarize_taxa(Rank=\"Family\", \"Treatments\") %>%\n",
    "arrange(-meanRA) %>%\n",
    "head()"
   ]
  }
 ],
 "metadata": {
  "kernelspec": {
   "display_name": "R",
   "language": "R",
   "name": "ir"
  },
  "language_info": {
   "codemirror_mode": "r",
   "file_extension": ".r",
   "mimetype": "text/x-r-source",
   "name": "R",
   "pygments_lexer": "r",
   "version": "4.0.5"
  }
 },
 "nbformat": 4,
 "nbformat_minor": 5
}
