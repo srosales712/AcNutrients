{
 "cells": [
  {
   "cell_type": "code",
   "execution_count": 1,
   "metadata": {},
   "outputs": [
    {
     "name": "stdout",
     "output_type": "stream",
     "text": [
      "/space/home/rosales/anaconda2/envs/qiime2-2018.11/bin/qiime\r\n"
     ]
    }
   ],
   "source": [
    "#Check qiime version and path\n",
    "!which qiime"
   ]
  },
  {
   "cell_type": "code",
   "execution_count": 2,
   "metadata": {},
   "outputs": [
    {
     "name": "stdout",
     "output_type": "stream",
     "text": [
      "/space/home/rosales/projects/2019_Acer_nutrients/notebooks\n",
      "/space/home/rosales/projects/2019_Acer_nutrients\n",
      "/space/home/rosales/projects/2019_Acer_nutrients\n"
     ]
    }
   ],
   "source": [
    "#mv to working directory\n",
    "!pwd\n",
    "%cd /space/home/rosales/projects/2019_Acer_nutrients/\n",
    "!pwd"
   ]
  },
  {
   "cell_type": "code",
   "execution_count": 5,
   "metadata": {},
   "outputs": [
    {
     "name": "stdout",
     "output_type": "stream",
     "text": [
      "\u001b[32mImported /space/home/rosales/rawdata/2019_Mar_Acer_nutr_tank_rsmas/CoralNutrientMB/Forward_reads/ as CasavaOneEightSingleLanePerSampleDirFmt to demux-single-end.qza\u001b[0m\r\n"
     ]
    }
   ],
   "source": [
    "#import only forward reads\n",
    "!qiime tools import \\\n",
    "  --type 'SampleData[SequencesWithQuality]' \\\n",
    "  --input-path /space/home/rosales/rawdata/2019_Mar_Acer_nutr_tank_rsmas/CoralNutrientMB/Forward_reads/ \\\n",
    "  --input-format CasavaOneEightSingleLanePerSampleDirFmt \\\n",
    "  --output-path demux-single-end.qza"
   ]
  },
  {
   "cell_type": "code",
   "execution_count": 8,
   "metadata": {},
   "outputs": [
    {
     "name": "stdout",
     "output_type": "stream",
     "text": [
      "\u001b[32mSaved SampleData[SequencesWithQuality] to: demux-single-end_trim.qza\u001b[0m\r\n"
     ]
    }
   ],
   "source": [
    "!qiime cutadapt trim-single \\\n",
    "--i-demultiplexed-sequences demux-single-end.qza \\\n",
    "--p-cores 16 \\\n",
    "--p-front GTGYCAGCMGCCGCGGTAA \\\n",
    "--o-trimmed-sequences demux-single-end_trim.qza"
   ]
  },
  {
   "cell_type": "code",
   "execution_count": 9,
   "metadata": {},
   "outputs": [
    {
     "name": "stdout",
     "output_type": "stream",
     "text": [
      "CPU times: user 6 µs, sys: 1e+03 ns, total: 7 µs\n",
      "Wall time: 15.5 µs\n",
      "\u001b[32mSaved FeatureTable[Frequency] to: /space/home/rosales/projects/2019_Acer_nutrients/table_AcNu_trim.qza\u001b[0m\n",
      "\u001b[32mSaved FeatureData[Sequence] to: /space/home/rosales/projects/2019_Acer_nutrients/rep_seqs_AcNu_trim.qza\u001b[0m\n",
      "\u001b[32mSaved SampleData[DADA2Stats] to: /space/home/rosales/projects/2019_Acer_nutrients/stats_dada_AcNu_trim.qza\u001b[0m\n"
     ]
    }
   ],
   "source": [
    "%time\n",
    "!qiime dada2 denoise-single \\\n",
    "--i-demultiplexed-seqs /space/home/rosales/projects/2019_Acer_nutrients/demux-single-end_trim.qza \\\n",
    "--p-trunc-len 220 \\\n",
    "--p-trim-left 20 \\\n",
    "--p-n-threads 20  \\\n",
    "--o-representative-sequences /space/home/rosales/projects/2019_Acer_nutrients/rep_seqs_AcNu_trim.qza \\\n",
    "--o-table /space/home/rosales/projects/2019_Acer_nutrients/table_AcNu_trim.qza \\\n",
    "--o-denoising-stats /space/home/rosales/projects/2019_Acer_nutrients/stats_dada_AcNu_trim\n"
   ]
  },
  {
   "cell_type": "code",
   "execution_count": 10,
   "metadata": {},
   "outputs": [
    {
     "name": "stdout",
     "output_type": "stream",
     "text": [
      "CPU times: user 5 µs, sys: 1 µs, total: 6 µs\n",
      "Wall time: 11.9 µs\n",
      "\u001b[32mSaved FeatureData[Taxonomy] to: /space/home/rosales/projects/2019_Acer_nutrients/taxonomyAcNu_trim.qza\u001b[0m\n"
     ]
    }
   ],
   "source": [
    "#used a trained silva db base for taxonomy\n",
    "%time\n",
    "!qiime feature-classifier classify-sklearn \\\n",
    "  --i-classifier /space/home/rosales/databases/silva-132-99-515-806-nb-classifier.qza \\\n",
    "  --i-reads /space/home/rosales/projects/2019_Acer_nutrients/rep_seqs_AcNu_trim.qza \\\n",
    "  --p-n-jobs -5 \\\n",
    "  --o-classification /space/home/rosales/projects/2019_Acer_nutrients/taxonomyAcNu_trim.qza"
   ]
  },
  {
   "cell_type": "code",
   "execution_count": 11,
   "metadata": {},
   "outputs": [
    {
     "name": "stdout",
     "output_type": "stream",
     "text": [
      "CPU times: user 5 µs, sys: 1e+03 ns, total: 6 µs\n",
      "Wall time: 12.2 µs\n",
      "\u001b[32mSaved FeatureTable[Frequency] to: /space/home/rosales/projects/2019_Acer_nutrients/table-BacArc_AcNu_trim.qza\u001b[0m\n"
     ]
    }
   ],
   "source": [
    "# Retain only bacteria and archaea in ASV table\n",
    "%time\n",
    "!qiime taxa filter-table \\\n",
    "  --i-table /space/home/rosales/projects/2019_Acer_nutrients/table_AcNu_trim.qza \\\n",
    "  --i-taxonomy /space/home/rosales/projects/2019_Acer_nutrients/taxonomyAcNu_trim.qza \\\n",
    "  --p-exclude mitochondria,chloroplast \\\n",
    "  --p-include D_0__Bacteria,D_0__Archaea \\\n",
    "  --o-filtered-table /space/home/rosales/projects/2019_Acer_nutrients/table-BacArc_AcNu_trim.qza\n"
   ]
  },
  {
   "cell_type": "code",
   "execution_count": 12,
   "metadata": {},
   "outputs": [
    {
     "name": "stdout",
     "output_type": "stream",
     "text": [
      "\u001b[32mSaved FeatureData[Sequence] to: /space/home/rosales/projects/2019_Acer_nutrients/rep_seqs_BacArc_AcNu_trim.qza\u001b[0m\r\n"
     ]
    }
   ],
   "source": [
    "# Retain only bacteria and archaea sequences\n",
    "\n",
    "!qiime taxa filter-seqs \\\n",
    "  --i-sequences /space/home/rosales/projects/2019_Acer_nutrients/rep_seqs_AcNu_trim.qza\\\n",
    "  --i-taxonomy  /space/home/rosales/projects/2019_Acer_nutrients/taxonomyAcNu_trim.qza \\\n",
    "  --p-exclude mitochondria,chloroplast \\\n",
    "  --p-include D_0__Bacteria,D_0__Archaea \\\n",
    "  --o-filtered-sequences /space/home/rosales/projects/2019_Acer_nutrients/rep_seqs_BacArc_AcNu_trim.qza\n"
   ]
  },
  {
   "cell_type": "code",
   "execution_count": null,
   "metadata": {},
   "outputs": [],
   "source": [
    "#get metadata file\n",
    "!git clone https://github.com/srosales712/AcNutrients.git"
   ]
  },
  {
   "cell_type": "code",
   "execution_count": 13,
   "metadata": {},
   "outputs": [
    {
     "name": "stdout",
     "output_type": "stream",
     "text": [
      "\u001b[32mSaved Visualization to: /space/home/rosales/projects/2019_Acer_nutrients/table-BacArc_AcNu_trim.qzv\u001b[0m\r\n"
     ]
    }
   ],
   "source": [
    "#visualize table\n",
    "!qiime feature-table summarize \\\n",
    "  --i-table /space/home/rosales/projects/2019_Acer_nutrients/table-BacArc_AcNu_trim.qza \\\n",
    "  --o-visualization /space/home/rosales/projects/2019_Acer_nutrients/table-BacArc_AcNu_trim.qzv\\\n",
    "  --m-sample-metadata-file /space/home/rosales/projects/2019_Acer_nutrients/AcNutrients/Nutrient_16s_Metadata.txt"
   ]
  },
  {
   "cell_type": "code",
   "execution_count": 14,
   "metadata": {},
   "outputs": [
    {
     "name": "stdout",
     "output_type": "stream",
     "text": [
      "\u001b[32mSaved Visualization to: /space/home/rosales/projects/2019_Acer_nutrients/rep_seqs_BacArc_AcNu_trim.qzv\u001b[0m\r\n"
     ]
    }
   ],
   "source": [
    "#visualize reads\n",
    "!qiime feature-table tabulate-seqs \\\n",
    "--i-data /space/home/rosales/projects/2019_Acer_nutrients/rep_seqs_BacArc_AcNu_trim.qza \\\n",
    "--o-visualization /space/home/rosales/projects/2019_Acer_nutrients/rep_seqs_BacArc_AcNu_trim.qzv\n"
   ]
  },
  {
   "cell_type": "code",
   "execution_count": 15,
   "metadata": {},
   "outputs": [
    {
     "name": "stdout",
     "output_type": "stream",
     "text": [
      "CPU times: user 5 µs, sys: 1e+03 ns, total: 6 µs\n",
      "Wall time: 12.2 µs\n",
      "\u001b[32mSaved FeatureData[AlignedSequence] to: /space/home/rosales/projects/2019_Acer_nutrients/aligned_rep_seqs_BacArc_AcNu_trim.qza\u001b[0m\n"
     ]
    }
   ],
   "source": [
    "#align sequences \n",
    "%time\n",
    "!qiime alignment mafft \\\n",
    "  --i-sequences /space/home/rosales/projects/2019_Acer_nutrients/rep_seqs_BacArc_AcNu_trim.qza \\\n",
    "  --o-alignment /space/home/rosales/projects/2019_Acer_nutrients/aligned_rep_seqs_BacArc_AcNu_trim.qza"
   ]
  },
  {
   "cell_type": "code",
   "execution_count": 16,
   "metadata": {},
   "outputs": [
    {
     "name": "stdout",
     "output_type": "stream",
     "text": [
      "\u001b[32mSaved Phylogeny[Unrooted] to: /space/home/rosales/projects/2019_Acer_nutrients/unrooted-tree-_BacArc_AcNu_trim.qza\u001b[0m\r\n"
     ]
    }
   ],
   "source": [
    "#Construct phylogenetic tree\n",
    "!qiime phylogeny fasttree \\\n",
    "  --i-alignment /space/home/rosales/projects/2019_Acer_nutrients/aligned_rep_seqs_BacArc_AcNu_trim.qza \\\n",
    "  --o-tree /space/home/rosales/projects/2019_Acer_nutrients/unrooted-tree-_BacArc_AcNu_trim.qza"
   ]
  },
  {
   "cell_type": "code",
   "execution_count": 17,
   "metadata": {},
   "outputs": [
    {
     "name": "stdout",
     "output_type": "stream",
     "text": [
      "\u001b[32mSaved Phylogeny[Rooted] to: /space/home/rosales/projects/2019_Acer_nutrients/rooted-tree-_BacArc_AcNu_trim.qza\u001b[0m\r\n"
     ]
    }
   ],
   "source": [
    "#root tree\n",
    "!qiime phylogeny midpoint-root \\\n",
    "--i-tree  /space/home/rosales/projects/2019_Acer_nutrients/unrooted-tree-_BacArc_AcNu_trim.qza\\\n",
    "--o-rooted-tree /space/home/rosales/projects/2019_Acer_nutrients/rooted-tree-_BacArc_AcNu_trim.qza"
   ]
  },
  {
   "cell_type": "code",
   "execution_count": 18,
   "metadata": {},
   "outputs": [
    {
     "name": "stdout",
     "output_type": "stream",
     "text": [
      "\u001b[32mExported /space/home/rosales/projects/2019_Acer_nutrients/table-BacArc_AcNu_trim.qza as BIOMV210DirFmt to directory /space/home/rosales/projects/2019_Acer_nutrients/exported_AcNu_trim\u001b[0m\n",
      "\u001b[32mExported /space/home/rosales/projects/2019_Acer_nutrients/rooted-tree-_BacArc_AcNu_trim.qza as NewickDirectoryFormat to directory /space/home/rosales/projects/2019_Acer_nutrients/exported_AcNu_trim\u001b[0m\n",
      "\u001b[32mExported /space/home/rosales/projects/2019_Acer_nutrients/taxonomyAcNu_trim.qza as TSVTaxonomyDirectoryFormat to directory /space/home/rosales/projects/2019_Acer_nutrients/exported_AcNu_trim\u001b[0m\n"
     ]
    }
   ],
   "source": [
    "#use export to convert data into biom format\n",
    "!qiime tools export \\\n",
    "--input-path /space/home/rosales/projects/2019_Acer_nutrients/table-BacArc_AcNu_trim.qza  \\\n",
    "--output-path /space/home/rosales/projects/2019_Acer_nutrients/exported_AcNu_trim \n",
    "\n",
    "!qiime tools export \\\n",
    "--input-path /space/home/rosales/projects/2019_Acer_nutrients/rooted-tree-_BacArc_AcNu_trim.qza  \\\n",
    "--output-path /space/home/rosales/projects/2019_Acer_nutrients/exported_AcNu_trim \n",
    "\n",
    "!qiime tools export \\\n",
    "--input-path /space/home/rosales/projects/2019_Acer_nutrients/taxonomyAcNu_trim.qza \\\n",
    "--output-path /space/home/rosales/projects/2019_Acer_nutrients/exported_AcNu_trim"
   ]
  },
  {
   "cell_type": "code",
   "execution_count": 19,
   "metadata": {},
   "outputs": [
    {
     "name": "stdout",
     "output_type": "stream",
     "text": [
      "2717 /space/home/rosales/projects/2019_Acer_nutrients/exported_AcNu_trim/feature-table.txt\r\n"
     ]
    }
   ],
   "source": [
    "#Convert from biom format to tsv\n",
    "!biom  convert \\\n",
    "-i /space/home/rosales/projects/2019_Acer_nutrients/exported_AcNu_trim/feature-table.biom \\\n",
    "--to-tsv \\\n",
    "-o /space/home/rosales/projects/2019_Acer_nutrients/exported_AcNu_trim/feature-table.txt\n",
    "!wc -l  /space/home/rosales/projects/2019_Acer_nutrients/exported_AcNu_trim/feature-table.txt"
   ]
  },
  {
   "cell_type": "code",
   "execution_count": 20,
   "metadata": {},
   "outputs": [],
   "source": [
    "#change OTUID label\n",
    "!sed -r 's/#OTU\\sID/ASV/g' /space/home/rosales/projects/2019_Acer_nutrients/exported_AcNu_trim/feature-table.txt | grep -v \"#\" > /space/home/rosales/projects/2019_Acer_nutrients/exported_AcNu/feature-tableAcNu_trim.txt\n",
    "\n"
   ]
  },
  {
   "cell_type": "code",
   "execution_count": 21,
   "metadata": {},
   "outputs": [
    {
     "name": "stdout",
     "output_type": "stream",
     "text": [
      "/space/home/rosales/projects/2019_Acer_nutrients/exported_AcNu_trim\n",
      "2926 taxonomyAcNu_trim.tsv\n"
     ]
    }
   ],
   "source": [
    "#remove confidence column and header\n",
    "%cd /space/home/rosales/projects/2019_Acer_nutrients/exported_AcNu_trim/\n",
    "!awk -v OFS='\\t' '{print $1, $2}' taxonomy.tsv | grep -v \"Feature\" > taxonomyAcNu_trim.tsv\n",
    "!wc -l taxonomyAcNu_trim.tsv"
   ]
  }
 ],
 "metadata": {
  "kernelspec": {
   "display_name": "Python 3",
   "language": "python",
   "name": "python3"
  },
  "language_info": {
   "codemirror_mode": {
    "name": "ipython",
    "version": 3
   },
   "file_extension": ".py",
   "mimetype": "text/x-python",
   "name": "python",
   "nbconvert_exporter": "python",
   "pygments_lexer": "ipython3",
   "version": "3.5.5"
  }
 },
 "nbformat": 4,
 "nbformat_minor": 2
}
