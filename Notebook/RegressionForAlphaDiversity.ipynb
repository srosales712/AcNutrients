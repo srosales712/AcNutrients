{
 "cells": [
  {
   "cell_type": "code",
   "execution_count": 17,
   "id": "866963b5",
   "metadata": {
    "button": false,
    "new_sheet": false,
    "run_control": {
     "read_only": false
    }
   },
   "outputs": [
    {
     "data": {
      "text/plain": [
       "[1] ‘1.34.0’"
      ]
     },
     "metadata": {},
     "output_type": "display_data"
    },
    {
     "data": {
      "text/plain": [
       "[1] ‘3.3.3’"
      ]
     },
     "metadata": {},
     "output_type": "display_data"
    },
    {
     "data": {
      "text/plain": [
       "[1] ‘5.4.1’"
      ]
     },
     "metadata": {},
     "output_type": "display_data"
    },
    {
     "data": {
      "text/plain": [
       "[1] ‘2.5.7’"
      ]
     },
     "metadata": {},
     "output_type": "display_data"
    },
    {
     "data": {
      "text/plain": [
       "[1] ‘1.0.6’"
      ]
     },
     "metadata": {},
     "output_type": "display_data"
    },
    {
     "data": {
      "text/plain": [
       "[1] ‘1.8.6’"
      ]
     },
     "metadata": {},
     "output_type": "display_data"
    },
    {
     "data": {
      "text/plain": [
       "[1] ‘4.7.3’"
      ]
     },
     "metadata": {},
     "output_type": "display_data"
    }
   ],
   "source": [
    "library(\"phyloseq\"); packageVersion(\"phyloseq\")\n",
    "library(\"ggplot2\"); packageVersion(\"ggplot2\")\n",
    "library(\"ape\"); packageVersion(\"ape\")\n",
    "library(\"vegan\"); packageVersion(\"vegan\")\n",
    "library(\"dplyr\"); packageVersion(\"dplyr\")\n",
    "library(\"plyr\"); packageVersion(\"plyr\")\n",
    "library(\"tidyverse\")\n",
    "library(breakaway);packageVersion(\"breakaway\")\n",
    "library(lme4)\n",
    "library(lsmeans)"
   ]
  },
  {
   "cell_type": "code",
   "execution_count": 2,
   "id": "8e9ce096",
   "metadata": {
    "button": false,
    "new_sheet": false,
    "run_control": {
     "read_only": false
    }
   },
   "outputs": [
    {
     "name": "stderr",
     "output_type": "stream",
     "text": [
      "Warning message in scan(file = file, what = what, sep = sep, quote = quote, dec = dec, :\n",
      "“number of items read is not a multiple of the number of columns”\n"
     ]
    },
    {
     "data": {
      "text/html": [
       "<table class=\"dataframe\">\n",
       "<caption>A data.frame: 6 × 60</caption>\n",
       "<thead>\n",
       "\t<tr><th></th><th scope=col>frag_ID</th><th scope=col>former.id</th><th scope=col>EuC1</th><th scope=col>EuC2</th><th scope=col>Richness</th><th scope=col>error</th><th scope=col>lower</th><th scope=col>upper</th><th scope=col>Bcode</th><th scope=col>Barcode</th><th scope=col>⋯</th><th scope=col>Date_DNA</th><th scope=col>dBW_g</th><th scope=col>Date_BW</th><th scope=col>Chl_a</th><th scope=col>Chl_a_mean</th><th scope=col>Sym_cm2</th><th scope=col>Sym_cm2_mean</th><th scope=col>Date.Blastate</th><th scope=col>Days_Experiment</th><th scope=col>Days_Survivor</th></tr>\n",
       "\t<tr><th></th><th scope=col>&lt;chr&gt;</th><th scope=col>&lt;chr&gt;</th><th scope=col>&lt;dbl&gt;</th><th scope=col>&lt;dbl&gt;</th><th scope=col>&lt;dbl&gt;</th><th scope=col>&lt;dbl&gt;</th><th scope=col>&lt;dbl&gt;</th><th scope=col>&lt;dbl&gt;</th><th scope=col>&lt;chr&gt;</th><th scope=col>&lt;chr&gt;</th><th scope=col>⋯</th><th scope=col>&lt;chr&gt;</th><th scope=col>&lt;dbl&gt;</th><th scope=col>&lt;chr&gt;</th><th scope=col>&lt;dbl&gt;</th><th scope=col>&lt;dbl&gt;</th><th scope=col>&lt;dbl&gt;</th><th scope=col>&lt;dbl&gt;</th><th scope=col>&lt;chr&gt;</th><th scope=col>&lt;int&gt;</th><th scope=col>&lt;int&gt;</th></tr>\n",
       "</thead>\n",
       "<tbody>\n",
       "\t<tr><th scope=row>AC281FebruaryG</th><td>281_AC</td><td>281-February-G</td><td>-0.007053997</td><td>-0.04281782</td><td> 62.06071</td><td>0.2480985</td><td> 62.01178</td><td> 62.31294</td><td>515rcbc144</td><td>GTTTGAAACACG</td><td>⋯</td><td>1/29/18</td><td>4.1258741</td><td>1/29/18</td><td>NA</td><td>3.105</td><td>NA</td><td>4.324443</td><td>NA </td><td>76</td><td>188</td></tr>\n",
       "\t<tr><th scope=row>AC284FebruaryG</th><td>284_AC</td><td>284-February-G</td><td>-0.021757804</td><td>-0.02848575</td><td> 53.16160</td><td>0.4106332</td><td> 53.03082</td><td> 53.84728</td><td>515rcbc28 </td><td>CTGTCTATACTA</td><td>⋯</td><td>1/29/18</td><td>4.7853084</td><td>1/29/18</td><td>NA</td><td>3.105</td><td>NA</td><td>4.324443</td><td>NA </td><td>76</td><td>188</td></tr>\n",
       "\t<tr><th scope=row>AC285FebruaryG</th><td>285_AC</td><td>285-February-G</td><td>-0.011859619</td><td>-0.07701386</td><td>111.30642</td><td>0.5636194</td><td>111.05867</td><td>112.60044</td><td>515rcbc185</td><td>CGCGCCTTAAAC</td><td>⋯</td><td>1/29/18</td><td>0.6627697</td><td>1/29/18</td><td>NA</td><td>5.310</td><td>NA</td><td>5.133481</td><td>NA </td><td>76</td><td>188</td></tr>\n",
       "\t<tr><th scope=row>AC286FebruaryG</th><td>286_AC</td><td>286-February-G</td><td> 0.009089110</td><td>-0.02756048</td><td> 33.03090</td><td>0.1770837</td><td> 33.00599</td><td> 33.15936</td><td>515rcbc41 </td><td>GCGATCACACCT</td><td>⋯</td><td>1/29/18</td><td>1.7548049</td><td>1/29/18</td><td>NA</td><td>5.705</td><td>NA</td><td>6.063486</td><td>NA </td><td>76</td><td>188</td></tr>\n",
       "\t<tr><th scope=row>AC289FebruaryG</th><td>289_AC</td><td>289-February-G</td><td>-0.011670994</td><td>-0.03444584</td><td> 45.12034</td><td>0.3534222</td><td> 45.02302</td><td> 45.62898</td><td>515rcbc7  </td><td>ACCTTACACCTT</td><td>⋯</td><td>1/29/18</td><td>2.1139784</td><td>1/29/18</td><td>NA</td><td>5.705</td><td>NA</td><td>6.063486</td><td>NA </td><td>76</td><td>188</td></tr>\n",
       "\t<tr><th scope=row>AC152FebruaryO</th><td>152_AC</td><td>152-February-O</td><td>-0.019906845</td><td>-0.02994868</td><td> 56.17302</td><td>0.4221207</td><td> 56.03326</td><td> 56.90015</td><td>515rcbc103</td><td>TTGCGGACCCTA</td><td>⋯</td><td>2/23/18</td><td>1.9417000</td><td>2/23/18</td><td>NA</td><td>   NA</td><td>NA</td><td>      NA</td><td>NAN</td><td>99</td><td>211</td></tr>\n",
       "</tbody>\n",
       "</table>\n"
      ],
      "text/latex": [
       "A data.frame: 6 × 60\n",
       "\\begin{tabular}{r|lllllllllllllllllllll}\n",
       "  & frag\\_ID & former.id & EuC1 & EuC2 & Richness & error & lower & upper & Bcode & Barcode & ⋯ & Date\\_DNA & dBW\\_g & Date\\_BW & Chl\\_a & Chl\\_a\\_mean & Sym\\_cm2 & Sym\\_cm2\\_mean & Date.Blastate & Days\\_Experiment & Days\\_Survivor\\\\\n",
       "  & <chr> & <chr> & <dbl> & <dbl> & <dbl> & <dbl> & <dbl> & <dbl> & <chr> & <chr> & ⋯ & <chr> & <dbl> & <chr> & <dbl> & <dbl> & <dbl> & <dbl> & <chr> & <int> & <int>\\\\\n",
       "\\hline\n",
       "\tAC281FebruaryG & 281\\_AC & 281-February-G & -0.007053997 & -0.04281782 &  62.06071 & 0.2480985 &  62.01178 &  62.31294 & 515rcbc144 & GTTTGAAACACG & ⋯ & 1/29/18 & 4.1258741 & 1/29/18 & NA & 3.105 & NA & 4.324443 & NA  & 76 & 188\\\\\n",
       "\tAC284FebruaryG & 284\\_AC & 284-February-G & -0.021757804 & -0.02848575 &  53.16160 & 0.4106332 &  53.03082 &  53.84728 & 515rcbc28  & CTGTCTATACTA & ⋯ & 1/29/18 & 4.7853084 & 1/29/18 & NA & 3.105 & NA & 4.324443 & NA  & 76 & 188\\\\\n",
       "\tAC285FebruaryG & 285\\_AC & 285-February-G & -0.011859619 & -0.07701386 & 111.30642 & 0.5636194 & 111.05867 & 112.60044 & 515rcbc185 & CGCGCCTTAAAC & ⋯ & 1/29/18 & 0.6627697 & 1/29/18 & NA & 5.310 & NA & 5.133481 & NA  & 76 & 188\\\\\n",
       "\tAC286FebruaryG & 286\\_AC & 286-February-G &  0.009089110 & -0.02756048 &  33.03090 & 0.1770837 &  33.00599 &  33.15936 & 515rcbc41  & GCGATCACACCT & ⋯ & 1/29/18 & 1.7548049 & 1/29/18 & NA & 5.705 & NA & 6.063486 & NA  & 76 & 188\\\\\n",
       "\tAC289FebruaryG & 289\\_AC & 289-February-G & -0.011670994 & -0.03444584 &  45.12034 & 0.3534222 &  45.02302 &  45.62898 & 515rcbc7   & ACCTTACACCTT & ⋯ & 1/29/18 & 2.1139784 & 1/29/18 & NA & 5.705 & NA & 6.063486 & NA  & 76 & 188\\\\\n",
       "\tAC152FebruaryO & 152\\_AC & 152-February-O & -0.019906845 & -0.02994868 &  56.17302 & 0.4221207 &  56.03326 &  56.90015 & 515rcbc103 & TTGCGGACCCTA & ⋯ & 2/23/18 & 1.9417000 & 2/23/18 & NA &    NA & NA &       NA & NAN & 99 & 211\\\\\n",
       "\\end{tabular}\n"
      ],
      "text/markdown": [
       "\n",
       "A data.frame: 6 × 60\n",
       "\n",
       "| <!--/--> | frag_ID &lt;chr&gt; | former.id &lt;chr&gt; | EuC1 &lt;dbl&gt; | EuC2 &lt;dbl&gt; | Richness &lt;dbl&gt; | error &lt;dbl&gt; | lower &lt;dbl&gt; | upper &lt;dbl&gt; | Bcode &lt;chr&gt; | Barcode &lt;chr&gt; | ⋯ ⋯ | Date_DNA &lt;chr&gt; | dBW_g &lt;dbl&gt; | Date_BW &lt;chr&gt; | Chl_a &lt;dbl&gt; | Chl_a_mean &lt;dbl&gt; | Sym_cm2 &lt;dbl&gt; | Sym_cm2_mean &lt;dbl&gt; | Date.Blastate &lt;chr&gt; | Days_Experiment &lt;int&gt; | Days_Survivor &lt;int&gt; |\n",
       "|---|---|---|---|---|---|---|---|---|---|---|---|---|---|---|---|---|---|---|---|---|---|\n",
       "| AC281FebruaryG | 281_AC | 281-February-G | -0.007053997 | -0.04281782 |  62.06071 | 0.2480985 |  62.01178 |  62.31294 | 515rcbc144 | GTTTGAAACACG | ⋯ | 1/29/18 | 4.1258741 | 1/29/18 | NA | 3.105 | NA | 4.324443 | NA  | 76 | 188 |\n",
       "| AC284FebruaryG | 284_AC | 284-February-G | -0.021757804 | -0.02848575 |  53.16160 | 0.4106332 |  53.03082 |  53.84728 | 515rcbc28  | CTGTCTATACTA | ⋯ | 1/29/18 | 4.7853084 | 1/29/18 | NA | 3.105 | NA | 4.324443 | NA  | 76 | 188 |\n",
       "| AC285FebruaryG | 285_AC | 285-February-G | -0.011859619 | -0.07701386 | 111.30642 | 0.5636194 | 111.05867 | 112.60044 | 515rcbc185 | CGCGCCTTAAAC | ⋯ | 1/29/18 | 0.6627697 | 1/29/18 | NA | 5.310 | NA | 5.133481 | NA  | 76 | 188 |\n",
       "| AC286FebruaryG | 286_AC | 286-February-G |  0.009089110 | -0.02756048 |  33.03090 | 0.1770837 |  33.00599 |  33.15936 | 515rcbc41  | GCGATCACACCT | ⋯ | 1/29/18 | 1.7548049 | 1/29/18 | NA | 5.705 | NA | 6.063486 | NA  | 76 | 188 |\n",
       "| AC289FebruaryG | 289_AC | 289-February-G | -0.011670994 | -0.03444584 |  45.12034 | 0.3534222 |  45.02302 |  45.62898 | 515rcbc7   | ACCTTACACCTT | ⋯ | 1/29/18 | 2.1139784 | 1/29/18 | NA | 5.705 | NA | 6.063486 | NA  | 76 | 188 |\n",
       "| AC152FebruaryO | 152_AC | 152-February-O | -0.019906845 | -0.02994868 |  56.17302 | 0.4221207 |  56.03326 |  56.90015 | 515rcbc103 | TTGCGGACCCTA | ⋯ | 2/23/18 | 1.9417000 | 2/23/18 | NA |    NA | NA |       NA | NAN | 99 | 211 |\n",
       "\n"
      ],
      "text/plain": [
       "               frag_ID former.id      EuC1         EuC2        Richness \n",
       "AC281FebruaryG 281_AC  281-February-G -0.007053997 -0.04281782  62.06071\n",
       "AC284FebruaryG 284_AC  284-February-G -0.021757804 -0.02848575  53.16160\n",
       "AC285FebruaryG 285_AC  285-February-G -0.011859619 -0.07701386 111.30642\n",
       "AC286FebruaryG 286_AC  286-February-G  0.009089110 -0.02756048  33.03090\n",
       "AC289FebruaryG 289_AC  289-February-G -0.011670994 -0.03444584  45.12034\n",
       "AC152FebruaryO 152_AC  152-February-O -0.019906845 -0.02994868  56.17302\n",
       "               error     lower     upper     Bcode      Barcode      ⋯ Date_DNA\n",
       "AC281FebruaryG 0.2480985  62.01178  62.31294 515rcbc144 GTTTGAAACACG ⋯ 1/29/18 \n",
       "AC284FebruaryG 0.4106332  53.03082  53.84728 515rcbc28  CTGTCTATACTA ⋯ 1/29/18 \n",
       "AC285FebruaryG 0.5636194 111.05867 112.60044 515rcbc185 CGCGCCTTAAAC ⋯ 1/29/18 \n",
       "AC286FebruaryG 0.1770837  33.00599  33.15936 515rcbc41  GCGATCACACCT ⋯ 1/29/18 \n",
       "AC289FebruaryG 0.3534222  45.02302  45.62898 515rcbc7   ACCTTACACCTT ⋯ 1/29/18 \n",
       "AC152FebruaryO 0.4221207  56.03326  56.90015 515rcbc103 TTGCGGACCCTA ⋯ 2/23/18 \n",
       "               dBW_g     Date_BW Chl_a Chl_a_mean Sym_cm2 Sym_cm2_mean\n",
       "AC281FebruaryG 4.1258741 1/29/18 NA    3.105      NA      4.324443    \n",
       "AC284FebruaryG 4.7853084 1/29/18 NA    3.105      NA      4.324443    \n",
       "AC285FebruaryG 0.6627697 1/29/18 NA    5.310      NA      5.133481    \n",
       "AC286FebruaryG 1.7548049 1/29/18 NA    5.705      NA      6.063486    \n",
       "AC289FebruaryG 2.1139784 1/29/18 NA    5.705      NA      6.063486    \n",
       "AC152FebruaryO 1.9417000 2/23/18 NA       NA      NA            NA    \n",
       "               Date.Blastate Days_Experiment Days_Survivor\n",
       "AC281FebruaryG NA            76              188          \n",
       "AC284FebruaryG NA            76              188          \n",
       "AC285FebruaryG NA            76              188          \n",
       "AC286FebruaryG NA            76              188          \n",
       "AC289FebruaryG NA            76              188          \n",
       "AC152FebruaryO NAN           99              211          "
      ]
     },
     "metadata": {},
     "output_type": "display_data"
    },
    {
     "data": {
      "text/html": [
       "<style>\n",
       ".list-inline {list-style: none; margin:0; padding: 0}\n",
       ".list-inline>li {display: inline-block}\n",
       ".list-inline>li:not(:last-child)::after {content: \"\\00b7\"; padding: 0 .5ex}\n",
       "</style>\n",
       "<ol class=list-inline><li>189</li><li>60</li></ol>\n"
      ],
      "text/latex": [
       "\\begin{enumerate*}\n",
       "\\item 189\n",
       "\\item 60\n",
       "\\end{enumerate*}\n"
      ],
      "text/markdown": [
       "1. 189\n",
       "2. 60\n",
       "\n",
       "\n"
      ],
      "text/plain": [
       "[1] 189  60"
      ]
     },
     "metadata": {},
     "output_type": "display_data"
    }
   ],
   "source": [
    "map<- read.table(\"/Users/stephanie.rosales/Documents/omics_projects/NutrientsAC16S/2019_Acer_nutrients/AcNutrients/Nutrient_16s_Metadata.txt\",\n",
    "                 row.names = 1, header = TRUE)\n",
    "head(map)\n",
    "dim(map)"
   ]
  },
  {
   "cell_type": "code",
   "execution_count": 18,
   "id": "22be9509",
   "metadata": {
    "button": false,
    "new_sheet": false,
    "run_control": {
     "read_only": false
    }
   },
   "outputs": [],
   "source": [
    "map = map %>%\n",
    "drop_na(EuC1) %>%\n",
    "drop_na(Treatment) \n"
   ]
  },
  {
   "cell_type": "code",
   "execution_count": 5,
   "id": "43cd0d1a",
   "metadata": {
    "button": false,
    "new_sheet": false,
    "run_control": {
     "read_only": false
    }
   },
   "outputs": [
    {
     "data": {
      "text/html": [
       "<style>\n",
       ".list-inline {list-style: none; margin:0; padding: 0}\n",
       ".list-inline>li {display: inline-block}\n",
       ".list-inline>li:not(:last-child)::after {content: \"\\00b7\"; padding: 0 .5ex}\n",
       "</style>\n",
       "<ol class=list-inline><li>29</li><li>60</li></ol>\n"
      ],
      "text/latex": [
       "\\begin{enumerate*}\n",
       "\\item 29\n",
       "\\item 60\n",
       "\\end{enumerate*}\n"
      ],
      "text/markdown": [
       "1. 29\n",
       "2. 60\n",
       "\n",
       "\n"
      ],
      "text/plain": [
       "[1] 29 60"
      ]
     },
     "metadata": {},
     "output_type": "display_data"
    }
   ],
   "source": [
    "ambient_75= map %>%\n",
    "filter (Treatment == \"C\", Days==\"Day75\")\n",
    "\n",
    "dim(ambient_75)"
   ]
  },
  {
   "cell_type": "code",
   "execution_count": 6,
   "id": "04fa8087",
   "metadata": {
    "button": false,
    "new_sheet": false,
    "run_control": {
     "read_only": false
    }
   },
   "outputs": [
    {
     "data": {
      "text/html": [
       "<style>\n",
       ".list-inline {list-style: none; margin:0; padding: 0}\n",
       ".list-inline>li {display: inline-block}\n",
       ".list-inline>li:not(:last-child)::after {content: \"\\00b7\"; padding: 0 .5ex}\n",
       "</style>\n",
       "<ol class=list-inline><li>84</li><li>60</li></ol>\n"
      ],
      "text/latex": [
       "\\begin{enumerate*}\n",
       "\\item 84\n",
       "\\item 60\n",
       "\\end{enumerate*}\n"
      ],
      "text/markdown": [
       "1. 84\n",
       "2. 60\n",
       "\n",
       "\n"
      ],
      "text/plain": [
       "[1] 84 60"
      ]
     },
     "metadata": {},
     "output_type": "display_data"
    }
   ],
   "source": [
    "nutrients_75= map %>%\n",
    "filter (Days==\"Day75\")\n",
    "\n",
    "dim(nutrients_75)"
   ]
  },
  {
   "cell_type": "code",
   "execution_count": 7,
   "id": "66f098e8",
   "metadata": {
    "button": false,
    "new_sheet": false,
    "run_control": {
     "read_only": false
    }
   },
   "outputs": [
    {
     "data": {
      "text/html": [
       "<style>\n",
       ".list-inline {list-style: none; margin:0; padding: 0}\n",
       ".list-inline>li {display: inline-block}\n",
       ".list-inline>li:not(:last-child)::after {content: \"\\00b7\"; padding: 0 .5ex}\n",
       "</style>\n",
       "<ol class=list-inline><li>84</li><li>60</li></ol>\n"
      ],
      "text/latex": [
       "\\begin{enumerate*}\n",
       "\\item 84\n",
       "\\item 60\n",
       "\\end{enumerate*}\n"
      ],
      "text/markdown": [
       "1. 84\n",
       "2. 60\n",
       "\n",
       "\n"
      ],
      "text/plain": [
       "[1] 84 60"
      ]
     },
     "metadata": {},
     "output_type": "display_data"
    }
   ],
   "source": [
    "heat_alldays= map %>%\n",
    "filter (Treatment == \"C\")\n",
    "\n",
    "dim(heat_alldays)"
   ]
  },
  {
   "cell_type": "code",
   "execution_count": 8,
   "id": "8724310b",
   "metadata": {
    "button": false,
    "new_sheet": false,
    "run_control": {
     "read_only": false
    }
   },
   "outputs": [
    {
     "data": {
      "text/html": [
       "<style>\n",
       ".list-inline {list-style: none; margin:0; padding: 0}\n",
       ".list-inline>li {display: inline-block}\n",
       ".list-inline>li:not(:last-child)::after {content: \"\\00b7\"; padding: 0 .5ex}\n",
       "</style>\n",
       "<ol class=list-inline><li>26</li><li>60</li></ol>\n"
      ],
      "text/latex": [
       "\\begin{enumerate*}\n",
       "\\item 26\n",
       "\\item 60\n",
       "\\end{enumerate*}\n"
      ],
      "text/markdown": [
       "1. 26\n",
       "2. 60\n",
       "\n",
       "\n"
      ],
      "text/plain": [
       "[1] 26 60"
      ]
     },
     "metadata": {},
     "output_type": "display_data"
    }
   ],
   "source": [
    "genets=c(\"G_48\", \"G_62\")\n",
    "N_alldays= map %>%\n",
    "filter(Treatment == \"N\", Genotype %in% genets)\n",
    "\n",
    "dim(N_alldays)"
   ]
  },
  {
   "cell_type": "code",
   "execution_count": 9,
   "id": "56558de8",
   "metadata": {
    "button": false,
    "new_sheet": false,
    "run_control": {
     "read_only": false
    }
   },
   "outputs": [
    {
     "data": {
      "text/html": [
       "<style>\n",
       ".list-inline {list-style: none; margin:0; padding: 0}\n",
       ".list-inline>li {display: inline-block}\n",
       ".list-inline>li:not(:last-child)::after {content: \"\\00b7\"; padding: 0 .5ex}\n",
       "</style>\n",
       "<ol class=list-inline><li>31</li><li>60</li></ol>\n"
      ],
      "text/latex": [
       "\\begin{enumerate*}\n",
       "\\item 31\n",
       "\\item 60\n",
       "\\end{enumerate*}\n"
      ],
      "text/markdown": [
       "1. 31\n",
       "2. 60\n",
       "\n",
       "\n"
      ],
      "text/plain": [
       "[1] 31 60"
      ]
     },
     "metadata": {},
     "output_type": "display_data"
    }
   ],
   "source": [
    "genets=c(\"G_48\", \"G_62\", \"G_31\")\n",
    "NP_alldays= map %>%\n",
    "filter(Treatment == \"N\", Genotype %in% genets)\n",
    "\n",
    "dim(NP_alldays)"
   ]
  },
  {
   "cell_type": "code",
   "execution_count": 10,
   "id": "dd2dcbc3",
   "metadata": {
    "button": false,
    "new_sheet": false,
    "run_control": {
     "read_only": false
    }
   },
   "outputs": [
    {
     "data": {
      "text/plain": [
       "Linear mixed model fit by REML ['lmerMod']\n",
       "Formula: Richness ~ -1 + Genotype + (1 | Replicate)\n",
       "   Data: ambient_75\n",
       "\n",
       "REML criterion at convergence: 229.7\n",
       "\n",
       "Scaled residuals: \n",
       "     Min       1Q   Median       3Q      Max \n",
       "-2.35738 -0.39682  0.00315  0.40240  1.70723 \n",
       "\n",
       "Random effects:\n",
       " Groups    Name        Variance Std.Dev.\n",
       " Replicate (Intercept)  77.81    8.821  \n",
       " Residual              826.50   28.749  \n",
       "Number of obs: 29, groups:  Replicate, 2\n",
       "\n",
       "Fixed effects:\n",
       "             Estimate Std. Error t value\n",
       "GenotypeG_31    33.25      14.31   2.323\n",
       "GenotypeG_48    45.15      13.29   3.397\n",
       "GenotypeG_50    38.43      15.67   2.452\n",
       "GenotypeG_62    45.29      14.31   3.164\n",
       "GenotypeG_7    163.55      12.54  13.040\n",
       "GenotypeG_8     73.75      21.26   3.468\n",
       "\n",
       "Correlation of Fixed Effects:\n",
       "            GnG_31 GnG_48 GnG_50 GnG_62 GntG_7\n",
       "GenotypG_48 0.205                             \n",
       "GenotypG_50 0.173  0.187                      \n",
       "GenotypG_62 0.193  0.205  0.173               \n",
       "GenotypeG_7 0.219  0.233  0.198  0.219        \n",
       "GenotypeG_8 0.128  0.138  0.117  0.128  0.146 "
      ]
     },
     "metadata": {},
     "output_type": "display_data"
    },
    {
     "data": {
      "text/plain": [
       "$emmeans\n",
       " Genotype emmean   SE    df lower.CL upper.CL\n",
       " G_31       33.3 14.4  7.59   -0.237     66.7\n",
       " G_48       45.1 13.3  6.05   12.695     77.6\n",
       " G_50       38.4 15.7  9.96    3.497     73.4\n",
       " G_62       45.3 14.4  7.59   11.796     78.8\n",
       " G_7       163.6 12.6  4.94  131.077    196.0\n",
       " G_8        73.7 21.3 18.05   29.083    118.4\n",
       "\n",
       "Degrees-of-freedom method: kenward-roger \n",
       "Confidence level used: 0.95 \n",
       "\n",
       "$contrasts\n",
       " contrast    estimate   SE   df t.ratio p.value\n",
       " G_31 - G_48  -11.894 17.5 22.1 -0.680  0.9824 \n",
       " G_31 - G_50   -5.176 19.4 22.1 -0.267  0.9998 \n",
       " G_31 - G_62  -12.033 18.2 22.0 -0.662  0.9844 \n",
       " G_31 - G_7  -130.300 16.8 22.0 -7.737  <.0001 \n",
       " G_31 - G_8   -40.496 24.1 22.0 -1.680  0.5583 \n",
       " G_48 - G_50    6.718 18.6 22.0  0.362  0.9991 \n",
       " G_48 - G_62   -0.139 17.5 22.1 -0.008  1.0000 \n",
       " G_48 - G_7  -118.406 16.0 22.0 -7.383  <.0001 \n",
       " G_48 - G_8   -28.602 23.5 22.0 -1.218  0.8233 \n",
       " G_50 - G_62   -6.858 19.4 22.1 -0.354  0.9992 \n",
       " G_50 - G_7  -125.124 18.1 22.0 -6.929  <.0001 \n",
       " G_50 - G_8   -35.321 24.9 22.0 -1.419  0.7159 \n",
       " G_62 - G_7  -118.267 16.8 22.0 -7.023  <.0001 \n",
       " G_62 - G_8   -28.463 24.1 22.0 -1.181  0.8412 \n",
       " G_7 - G_8     89.804 23.1 22.0  3.891  0.0089 \n",
       "\n",
       "Degrees-of-freedom method: kenward-roger \n",
       "P value adjustment: tukey method for comparing a family of 6 estimates \n"
      ]
     },
     "metadata": {},
     "output_type": "display_data"
    }
   ],
   "source": [
    "mixed.lmer_geno <- lmer(Richness ~ -1 + Genotype + (1|Replicate) , data =ambient_75)\n",
    "summary(mixed.lmer_geno)\n",
    "\n",
    "emmeans(mixed.lmer_geno, pairwise ~ -1 + Genotype, adjust=\"tukey\")"
   ]
  },
  {
   "cell_type": "code",
   "execution_count": 11,
   "id": "ab68b695",
   "metadata": {
    "button": false,
    "new_sheet": false,
    "run_control": {
     "read_only": false
    }
   },
   "outputs": [
    {
     "data": {
      "text/plain": [
       "Linear mixed model fit by REML ['lmerMod']\n",
       "Formula: Richness ~ -1 + Survivorship + (1 | Replicate)\n",
       "   Data: nutrients_75\n",
       "\n",
       "REML criterion at convergence: 909.1\n",
       "\n",
       "Scaled residuals: \n",
       "    Min      1Q  Median      3Q     Max \n",
       "-1.9230 -0.5259 -0.1820  0.2352  3.0478 \n",
       "\n",
       "Random effects:\n",
       " Groups    Name        Variance Std.Dev.\n",
       " Replicate (Intercept)  371.7   19.28   \n",
       " Residual              3418.7   58.47   \n",
       "Number of obs: 84, groups:  Replicate, 2\n",
       "\n",
       "Fixed effects:\n",
       "                 Estimate Std. Error t value\n",
       "SurvivorshipHigh    51.62      16.04   3.219\n",
       "SurvivorshipLow    108.14      16.76   6.452\n",
       "\n",
       "Correlation of Fixed Effects:\n",
       "            SrvvrH\n",
       "SurvvrshpLw 0.692 "
      ]
     },
     "metadata": {},
     "output_type": "display_data"
    },
    {
     "data": {
      "text/plain": [
       "$emmeans\n",
       " Survivorship emmean   SE   df lower.CL upper.CL\n",
       " High           51.6 16.0 1.29    -70.8      174\n",
       " Low           108.1 16.8 1.53     10.4      206\n",
       "\n",
       "Degrees-of-freedom method: kenward-roger \n",
       "Confidence level used: 0.95 \n",
       "\n",
       "$contrasts\n",
       " contrast   estimate   SE df t.ratio p.value\n",
       " High - Low    -56.5 12.9 81 -4.384  <.0001 \n",
       "\n",
       "Degrees-of-freedom method: kenward-roger \n"
      ]
     },
     "metadata": {},
     "output_type": "display_data"
    }
   ],
   "source": [
    "mixed.lmer_geno <- lmer(Richness ~ -1 + Survivorship + (1|Replicate) , data =nutrients_75)\n",
    "summary(mixed.lmer_geno)\n",
    "\n",
    "emmeans(mixed.lmer_geno, pairwise ~ -1 + Survivorship, adjust=\"tukey\")"
   ]
  },
  {
   "cell_type": "code",
   "execution_count": 12,
   "id": "8a60b884",
   "metadata": {
    "button": false,
    "new_sheet": false,
    "run_control": {
     "read_only": false
    }
   },
   "outputs": [
    {
     "data": {
      "text/plain": [
       "Linear mixed model fit by REML ['lmerMod']\n",
       "Formula: Richness ~ Treatment + (1 | Replicate:Genotype)\n",
       "   Data: nutrients_75\n",
       "\n",
       "REML criterion at convergence: 905.1\n",
       "\n",
       "Scaled residuals: \n",
       "    Min      1Q  Median      3Q     Max \n",
       "-2.6367 -0.5545 -0.2219  0.4649  2.9909 \n",
       "\n",
       "Random effects:\n",
       " Groups             Name        Variance Std.Dev.\n",
       " Replicate:Genotype (Intercept) 1403     37.46   \n",
       " Residual                       3046     55.19   \n",
       "Number of obs: 84, groups:  Replicate:Genotype, 12\n",
       "\n",
       "Fixed effects:\n",
       "            Estimate Std. Error t value\n",
       "(Intercept)   70.473     15.038   4.686\n",
       "TreatmentN    14.698     15.023   0.978\n",
       "TreatmentNP    1.696     14.576   0.116\n",
       "\n",
       "Correlation of Fixed Effects:\n",
       "            (Intr) TrtmnN\n",
       "TreatmentN  -0.475       \n",
       "TreatmentNP -0.488  0.491"
      ]
     },
     "metadata": {},
     "output_type": "display_data"
    },
    {
     "data": {
      "text/plain": [
       "$emmeans\n",
       " Treatment emmean   SE   df lower.CL upper.CL\n",
       " C           70.5 15.1 22.1     39.3      102\n",
       " N           85.2 15.4 24.2     53.4      117\n",
       " NP          72.2 15.0 22.0     41.1      103\n",
       "\n",
       "Degrees-of-freedom method: kenward-roger \n",
       "Confidence level used: 0.95 \n",
       "\n",
       "$contrasts\n",
       " contrast estimate   SE   df t.ratio p.value\n",
       " C - N       -14.7 15.0 70.8 -0.977  0.5935 \n",
       " C - NP       -1.7 14.6 70.6 -0.116  0.9926 \n",
       " N - NP       13.0 14.9 70.3  0.870  0.6610 \n",
       "\n",
       "Degrees-of-freedom method: kenward-roger \n",
       "P value adjustment: tukey method for comparing a family of 3 estimates \n"
      ]
     },
     "metadata": {},
     "output_type": "display_data"
    }
   ],
   "source": [
    "#alpha among treament in timepoint1\n",
    "mixed.lmer_TT <- lmer(Richness~ Treatment + (1|Replicate:Genotype), data =nutrients_75)\n",
    "summary(mixed.lmer_TT)\n",
    "emmeans(mixed.lmer_TT, pairwise ~ -1 + Treatment, adjust=\"tukey\")"
   ]
  },
  {
   "cell_type": "code",
   "execution_count": 13,
   "id": "8bb4ff12",
   "metadata": {
    "button": false,
    "new_sheet": false,
    "run_control": {
     "read_only": false
    }
   },
   "outputs": [
    {
     "data": {
      "text/plain": [
       "Linear mixed model fit by REML ['lmerMod']\n",
       "Formula: Richness ~ TimePoint + (1 | Replicate:Genotype)\n",
       "   Data: heat_alldays\n",
       "\n",
       "REML criterion at convergence: 815.5\n",
       "\n",
       "Scaled residuals: \n",
       "    Min      1Q  Median      3Q     Max \n",
       "-1.8534 -0.5703 -0.1870  0.3392  2.8649 \n",
       "\n",
       "Random effects:\n",
       " Groups             Name        Variance Std.Dev.\n",
       " Replicate:Genotype (Intercept) 1010.1   31.78   \n",
       " Residual                        917.1   30.28   \n",
       "Number of obs: 84, groups:  Replicate:Genotype, 12\n",
       "\n",
       "Fixed effects:\n",
       "             Estimate Std. Error t value\n",
       "(Intercept)    70.475     10.838   6.502\n",
       "TimePointT-2  -18.195      7.981  -2.280\n",
       "TimePointT-3   10.613      8.257   1.285\n",
       "\n",
       "Correlation of Fixed Effects:\n",
       "            (Intr) TmPT-2\n",
       "TimePontT-2 -0.371       \n",
       "TimePontT-3 -0.352  0.480"
      ]
     },
     "metadata": {},
     "output_type": "display_data"
    },
    {
     "data": {
      "text/plain": [
       "$emmeans\n",
       " TimePoint emmean   SE   df lower.CL upper.CL\n",
       " T-1         70.5 10.8 16.0     47.5     93.5\n",
       " T-2         52.3 10.8 15.9     29.3     75.2\n",
       " T-3         81.1 11.1 17.3     57.7    104.5\n",
       "\n",
       "Degrees-of-freedom method: kenward-roger \n",
       "Confidence level used: 0.95 \n",
       "\n",
       "$contrasts\n",
       " contrast      estimate   SE   df t.ratio p.value\n",
       " (T-1) - (T-2)     18.2 7.98 70.2  2.279  0.0654 \n",
       " (T-1) - (T-3)    -10.6 8.26 70.5 -1.285  0.4086 \n",
       " (T-2) - (T-3)    -28.8 8.29 70.8 -3.475  0.0025 \n",
       "\n",
       "Degrees-of-freedom method: kenward-roger \n",
       "P value adjustment: tukey method for comparing a family of 3 estimates \n"
      ]
     },
     "metadata": {},
     "output_type": "display_data"
    }
   ],
   "source": [
    "#alpha among heat in ambient across time\n",
    "mixed.lmer_hh <- lmer(Richness~ TimePoint + (1|Replicate:Genotype), data =heat_alldays)\n",
    "summary(mixed.lmer_hh)\n",
    "emmeans(mixed.lmer_hh, pairwise ~ -1 + TimePoint, adjust=\"tukey\")"
   ]
  },
  {
   "cell_type": "code",
   "execution_count": 14,
   "id": "428c7968",
   "metadata": {
    "button": false,
    "new_sheet": false,
    "run_control": {
     "read_only": false
    }
   },
   "outputs": [
    {
     "data": {
      "text/plain": [
       "Linear mixed model fit by REML ['lmerMod']\n",
       "Formula: Richness ~ TimePoint + (1 | Replicate:Genotype)\n",
       "   Data: N_alldays\n",
       "\n",
       "REML criterion at convergence: 260.1\n",
       "\n",
       "Scaled residuals: \n",
       "    Min      1Q  Median      3Q     Max \n",
       "-1.3570 -0.4296 -0.2194  0.3093  2.7893 \n",
       "\n",
       "Random effects:\n",
       " Groups             Name        Variance Std.Dev.\n",
       " Replicate:Genotype (Intercept)  846.1   29.09   \n",
       " Residual                       3189.2   56.47   \n",
       "Number of obs: 26, groups:  Replicate:Genotype, 4\n",
       "\n",
       "Fixed effects:\n",
       "             Estimate Std. Error t value\n",
       "(Intercept)    63.238     22.439   2.818\n",
       "TimePointT-2    8.719     24.727   0.353\n",
       "TimePointT-3   30.680     31.292   0.980\n",
       "\n",
       "Correlation of Fixed Effects:\n",
       "            (Intr) TmPT-2\n",
       "TimePontT-2 -0.524       \n",
       "TimePontT-3 -0.423  0.387"
      ]
     },
     "metadata": {},
     "output_type": "display_data"
    },
    {
     "data": {
      "text/plain": [
       "$emmeans\n",
       " TimePoint emmean   SE    df lower.CL upper.CL\n",
       " T-1         63.2 22.5  6.30     8.85      118\n",
       " T-2         72.0 23.2  6.96    17.12      127\n",
       " T-3         93.9 30.4 13.48    28.41      159\n",
       "\n",
       "Degrees-of-freedom method: kenward-roger \n",
       "Confidence level used: 0.95 \n",
       "\n",
       "$contrasts\n",
       " contrast      estimate   SE   df t.ratio p.value\n",
       " (T-1) - (T-2)    -8.72 24.8 20.1 -0.352  0.9342 \n",
       " (T-1) - (T-3)   -30.68 32.1 21.3 -0.956  0.6115 \n",
       " (T-2) - (T-3)   -21.96 32.0 20.9 -0.686  0.7743 \n",
       "\n",
       "Degrees-of-freedom method: kenward-roger \n",
       "P value adjustment: tukey method for comparing a family of 3 estimates \n"
      ]
     },
     "metadata": {},
     "output_type": "display_data"
    }
   ],
   "source": [
    "#alpha among heat in ambient across time\n",
    "mixed.lmer_N <- lmer(Richness~ TimePoint + (1|Replicate:Genotype), data =N_alldays)\n",
    "summary(mixed.lmer_N)\n",
    "emmeans(mixed.lmer_N, pairwise ~ -1 + TimePoint, adjust=\"tukey\")"
   ]
  },
  {
   "cell_type": "code",
   "execution_count": 15,
   "id": "aa3941d3",
   "metadata": {
    "button": false,
    "new_sheet": false,
    "run_control": {
     "read_only": false
    }
   },
   "outputs": [
    {
     "data": {
      "text/plain": [
       "Linear mixed model fit by REML ['lmerMod']\n",
       "Formula: Richness ~ TimePoint + (1 | Replicate:Genotype)\n",
       "   Data: NP_alldays\n",
       "\n",
       "REML criterion at convergence: 311.9\n",
       "\n",
       "Scaled residuals: \n",
       "    Min      1Q  Median      3Q     Max \n",
       "-1.3351 -0.4374 -0.1723  0.2777  3.1350 \n",
       "\n",
       "Random effects:\n",
       " Groups             Name        Variance Std.Dev.\n",
       " Replicate:Genotype (Intercept)  772.1   27.79   \n",
       " Residual                       2743.8   52.38   \n",
       "Number of obs: 31, groups:  Replicate:Genotype, 6\n",
       "\n",
       "Fixed effects:\n",
       "             Estimate Std. Error t value\n",
       "(Intercept)     50.36      17.38   2.897\n",
       "TimePointT-2    15.99      21.93   0.729\n",
       "TimePointT-3    38.39      28.22   1.360\n",
       "\n",
       "Correlation of Fixed Effects:\n",
       "            (Intr) TmPT-2\n",
       "TimePontT-2 -0.446       \n",
       "TimePontT-3 -0.355  0.342"
      ]
     },
     "metadata": {},
     "output_type": "display_data"
    },
    {
     "data": {
      "text/plain": [
       "$emmeans\n",
       " TimePoint emmean   SE    df lower.CL upper.CL\n",
       " T-1         50.4 17.4  8.25     10.4     90.3\n",
       " T-2         66.3 21.7 12.18     19.0    113.6\n",
       " T-3         88.7 28.4 21.00     29.7    147.8\n",
       "\n",
       "Degrees-of-freedom method: kenward-roger \n",
       "Confidence level used: 0.95 \n",
       "\n",
       "$contrasts\n",
       " contrast      estimate   SE   df t.ratio p.value\n",
       " (T-1) - (T-2)    -16.0 22.5 26.2 -0.710  0.7600 \n",
       " (T-1) - (T-3)    -38.4 29.2 26.6 -1.314  0.4002 \n",
       " (T-2) - (T-3)    -22.4 29.6 24.4 -0.756  0.7327 \n",
       "\n",
       "Degrees-of-freedom method: kenward-roger \n",
       "P value adjustment: tukey method for comparing a family of 3 estimates \n"
      ]
     },
     "metadata": {},
     "output_type": "display_data"
    }
   ],
   "source": [
    "#alpha among heat in ambient across time\n",
    "mixed.lmer_NP <- lmer(Richness~ TimePoint + (1|Replicate:Genotype), data =NP_alldays)\n",
    "summary(mixed.lmer_NP)\n",
    "emmeans(mixed.lmer_NP, pairwise ~ -1 + TimePoint, adjust=\"tukey\")"
   ]
  }
 ],
 "metadata": {
  "kernelspec": {
   "display_name": "R",
   "language": "R",
   "name": "ir"
  },
  "language_info": {
   "codemirror_mode": "r",
   "file_extension": ".r",
   "mimetype": "text/x-r-source",
   "name": "R",
   "pygments_lexer": "r",
   "version": "4.0.5"
  }
 },
 "nbformat": 4,
 "nbformat_minor": 5
}
